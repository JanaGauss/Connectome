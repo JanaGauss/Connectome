{
  "cells": [
    {
      "cell_type": "markdown",
      "metadata": {
        "id": "If2PTdzkfzo3"
      },
      "source": [
        "# Connectome Pipeline\n",
        "\n",
        "Hi and welcome to the Connectome Pipeline!"
      ]
    },
    {
      "cell_type": "markdown",
      "metadata": {
        "id": "xLI7xV4Lfzo5"
      },
      "source": [
        "## 1. Preprocessing\n",
        "\n",
        "In the first step, you will preprocess the CONN Matlab files to an analysis ready dataset.\n",
        "\n",
        "Here is an overview on the parameters for the preprocessing pipeline. Parameters marked with a (*) are optional.\n",
        "\n",
        "\n",
        "+    *matlab_dir*: path to matlab files\n",
        "+    *excel_path*: path to excel list\n",
        "+    *preprocessing_type*: conn for connectivity matrix or \"aggregation\" for aggregated conn matrix\n",
        "+    *export_file**: If false return as pd dataframe\n",
        "+    *write_dir**: path where to write the dataset to if save_file = True\n",
        "+    *network**: Yeo7 or Yeo17 network (only applicable if preprocessing_type = aggregation)\n",
        "+    *statistic**: Summary statistic to be applied (only applicable if preprocessing_type = aggregation)\n",
        "+    *upper**: boolean whether only upper diagonal elements of connecivity matrices should be used\n",
        "+    *file_format**: Pass \"h5\" for further modelling in python or \"csv\" for R (default \"csv\")"
      ]
    },
    {
      "cell_type": "code",
      "execution_count": null,
      "metadata": {
        "id": "TVio-2b3OjCQ"
      },
      "outputs": [],
      "source": [
        "import os\n",
        "import pandas as pd\n",
        "import numpy as np\n",
        "from google.colab import drive\n",
        "\n",
        "drive.mount('/content/drive', force_remount=True)\n",
        "os.chdir('/content/drive/MyDrive/Colab Notebooks/Innolab/Github')"
      ]
    },
    {
      "cell_type": "code",
      "execution_count": 12,
      "metadata": {
        "id": "JFRC1BcHfzo5"
      },
      "outputs": [],
      "source": [
        "from connectome.preprocessing.preprocessing_matlab_files import preprocess_mat_files"
      ]
    },
    {
      "cell_type": "code",
      "execution_count": 19,
      "metadata": {
        "id": "54xpo4usfzo6"
      },
      "outputs": [],
      "source": [
        "matlab_dir = \"/content/drive/MyDrive/Colab Notebooks/Innolab/data_HCP/Matlab_Files\" # Enter the directory for the matlab files\n",
        "excel_path = \"/content/drive/MyDrive/Colab Notebooks/Innolab/data_HCP/BrainageDataset.xlsx\" # Enter the directory for the corresponding excel sheet\n",
        "preprocessing_type = 'conn'\n",
        "write_dir = \"\" # ...\n",
        "export_file = False # rename to export file"
      ]
    },
    {
      "cell_type": "code",
      "execution_count": null,
      "metadata": {
        "id": "fQMLPvI_fzo6"
      },
      "outputs": [],
      "source": [
        "df = preprocess_mat_files(matlab_dir = matlab_dir, excel_path = excel_path, preprocessing_type = preprocessing_type,\n",
        "                          write_dir = write_dir, export_file = export_file)"
      ]
    },
    {
      "cell_type": "code",
      "source": [
        "# convert sex (factor variable) to 0 (M) and 1 (F)\n",
        "df.loc[df[\"sex\"] == \"M\", \"sex\"] = 0\n",
        "df.loc[df[\"sex\"] == \"F\", \"sex\"] = 1"
      ],
      "metadata": {
        "id": "VvrShlSpqhmC"
      },
      "execution_count": 31,
      "outputs": []
    },
    {
      "cell_type": "code",
      "execution_count": 32,
      "metadata": {
        "id": "dgNDTjc3fzo7",
        "outputId": "7ac331f6-f4c9-4268-f9d8-9c5dab41e9df",
        "colab": {
          "base_uri": "https://localhost:8080/",
          "height": 236
        }
      },
      "outputs": [
        {
          "output_type": "execute_result",
          "data": {
            "text/plain": [
              "  ConnID interview_age sex  IDs       1_2       1_3       1_4       1_5  \\\n",
              "0    1.0           558   1  1.0  1.070862 -0.107437  -0.10142 -0.270411   \n",
              "1    2.0           436   1  2.0  0.649744  0.388735 -0.261952  0.208233   \n",
              "2    3.0           544   1  3.0  0.939803 -0.091677 -0.170826 -0.003929   \n",
              "3    4.0           640   0  4.0  0.232634  0.302839 -0.075453  0.039461   \n",
              "4    5.0           725   1  5.0  0.363688 -0.087145 -0.299887   0.07974   \n",
              "\n",
              "        1_6       1_7  ...   242_243   242_244   242_245   242_246   243_244  \\\n",
              "0  -0.04529  0.846576  ...  0.630034  0.418016  0.344191  0.252702  0.295602   \n",
              "1 -0.082839  0.251986  ...  0.331904  0.253022  0.005287  0.037816  0.078752   \n",
              "2 -0.292105  0.283715  ...  0.526577   0.20863  0.018447  0.478663  0.020962   \n",
              "3 -0.050742  0.318042  ...   0.38753  0.197159  0.027587  0.194567  0.108149   \n",
              "4 -0.130812  0.514166  ...  0.169498  0.395519  0.082053  0.089588  0.281266   \n",
              "\n",
              "    243_245   243_246   244_245   244_246   245_246  \n",
              "0  0.181288  0.347208  0.276222  0.081406  0.272431  \n",
              "1  0.099308  0.136907  0.117588  0.352054  0.105746  \n",
              "2  0.285674  0.553512 -0.058039  0.195715  0.292412  \n",
              "3  0.089051  0.396254 -0.022368  0.284038  0.200894  \n",
              "4   0.30107 -0.037916  0.195729  0.127672  0.222499  \n",
              "\n",
              "[5 rows x 30139 columns]"
            ],
            "text/html": [
              "\n",
              "  <div id=\"df-8bb5b7bc-09f0-4130-8bf8-c71a7a937644\">\n",
              "    <div class=\"colab-df-container\">\n",
              "      <div>\n",
              "<style scoped>\n",
              "    .dataframe tbody tr th:only-of-type {\n",
              "        vertical-align: middle;\n",
              "    }\n",
              "\n",
              "    .dataframe tbody tr th {\n",
              "        vertical-align: top;\n",
              "    }\n",
              "\n",
              "    .dataframe thead th {\n",
              "        text-align: right;\n",
              "    }\n",
              "</style>\n",
              "<table border=\"1\" class=\"dataframe\">\n",
              "  <thead>\n",
              "    <tr style=\"text-align: right;\">\n",
              "      <th></th>\n",
              "      <th>ConnID</th>\n",
              "      <th>interview_age</th>\n",
              "      <th>sex</th>\n",
              "      <th>IDs</th>\n",
              "      <th>1_2</th>\n",
              "      <th>1_3</th>\n",
              "      <th>1_4</th>\n",
              "      <th>1_5</th>\n",
              "      <th>1_6</th>\n",
              "      <th>1_7</th>\n",
              "      <th>...</th>\n",
              "      <th>242_243</th>\n",
              "      <th>242_244</th>\n",
              "      <th>242_245</th>\n",
              "      <th>242_246</th>\n",
              "      <th>243_244</th>\n",
              "      <th>243_245</th>\n",
              "      <th>243_246</th>\n",
              "      <th>244_245</th>\n",
              "      <th>244_246</th>\n",
              "      <th>245_246</th>\n",
              "    </tr>\n",
              "  </thead>\n",
              "  <tbody>\n",
              "    <tr>\n",
              "      <th>0</th>\n",
              "      <td>1.0</td>\n",
              "      <td>558</td>\n",
              "      <td>1</td>\n",
              "      <td>1.0</td>\n",
              "      <td>1.070862</td>\n",
              "      <td>-0.107437</td>\n",
              "      <td>-0.10142</td>\n",
              "      <td>-0.270411</td>\n",
              "      <td>-0.04529</td>\n",
              "      <td>0.846576</td>\n",
              "      <td>...</td>\n",
              "      <td>0.630034</td>\n",
              "      <td>0.418016</td>\n",
              "      <td>0.344191</td>\n",
              "      <td>0.252702</td>\n",
              "      <td>0.295602</td>\n",
              "      <td>0.181288</td>\n",
              "      <td>0.347208</td>\n",
              "      <td>0.276222</td>\n",
              "      <td>0.081406</td>\n",
              "      <td>0.272431</td>\n",
              "    </tr>\n",
              "    <tr>\n",
              "      <th>1</th>\n",
              "      <td>2.0</td>\n",
              "      <td>436</td>\n",
              "      <td>1</td>\n",
              "      <td>2.0</td>\n",
              "      <td>0.649744</td>\n",
              "      <td>0.388735</td>\n",
              "      <td>-0.261952</td>\n",
              "      <td>0.208233</td>\n",
              "      <td>-0.082839</td>\n",
              "      <td>0.251986</td>\n",
              "      <td>...</td>\n",
              "      <td>0.331904</td>\n",
              "      <td>0.253022</td>\n",
              "      <td>0.005287</td>\n",
              "      <td>0.037816</td>\n",
              "      <td>0.078752</td>\n",
              "      <td>0.099308</td>\n",
              "      <td>0.136907</td>\n",
              "      <td>0.117588</td>\n",
              "      <td>0.352054</td>\n",
              "      <td>0.105746</td>\n",
              "    </tr>\n",
              "    <tr>\n",
              "      <th>2</th>\n",
              "      <td>3.0</td>\n",
              "      <td>544</td>\n",
              "      <td>1</td>\n",
              "      <td>3.0</td>\n",
              "      <td>0.939803</td>\n",
              "      <td>-0.091677</td>\n",
              "      <td>-0.170826</td>\n",
              "      <td>-0.003929</td>\n",
              "      <td>-0.292105</td>\n",
              "      <td>0.283715</td>\n",
              "      <td>...</td>\n",
              "      <td>0.526577</td>\n",
              "      <td>0.20863</td>\n",
              "      <td>0.018447</td>\n",
              "      <td>0.478663</td>\n",
              "      <td>0.020962</td>\n",
              "      <td>0.285674</td>\n",
              "      <td>0.553512</td>\n",
              "      <td>-0.058039</td>\n",
              "      <td>0.195715</td>\n",
              "      <td>0.292412</td>\n",
              "    </tr>\n",
              "    <tr>\n",
              "      <th>3</th>\n",
              "      <td>4.0</td>\n",
              "      <td>640</td>\n",
              "      <td>0</td>\n",
              "      <td>4.0</td>\n",
              "      <td>0.232634</td>\n",
              "      <td>0.302839</td>\n",
              "      <td>-0.075453</td>\n",
              "      <td>0.039461</td>\n",
              "      <td>-0.050742</td>\n",
              "      <td>0.318042</td>\n",
              "      <td>...</td>\n",
              "      <td>0.38753</td>\n",
              "      <td>0.197159</td>\n",
              "      <td>0.027587</td>\n",
              "      <td>0.194567</td>\n",
              "      <td>0.108149</td>\n",
              "      <td>0.089051</td>\n",
              "      <td>0.396254</td>\n",
              "      <td>-0.022368</td>\n",
              "      <td>0.284038</td>\n",
              "      <td>0.200894</td>\n",
              "    </tr>\n",
              "    <tr>\n",
              "      <th>4</th>\n",
              "      <td>5.0</td>\n",
              "      <td>725</td>\n",
              "      <td>1</td>\n",
              "      <td>5.0</td>\n",
              "      <td>0.363688</td>\n",
              "      <td>-0.087145</td>\n",
              "      <td>-0.299887</td>\n",
              "      <td>0.07974</td>\n",
              "      <td>-0.130812</td>\n",
              "      <td>0.514166</td>\n",
              "      <td>...</td>\n",
              "      <td>0.169498</td>\n",
              "      <td>0.395519</td>\n",
              "      <td>0.082053</td>\n",
              "      <td>0.089588</td>\n",
              "      <td>0.281266</td>\n",
              "      <td>0.30107</td>\n",
              "      <td>-0.037916</td>\n",
              "      <td>0.195729</td>\n",
              "      <td>0.127672</td>\n",
              "      <td>0.222499</td>\n",
              "    </tr>\n",
              "  </tbody>\n",
              "</table>\n",
              "<p>5 rows × 30139 columns</p>\n",
              "</div>\n",
              "      <button class=\"colab-df-convert\" onclick=\"convertToInteractive('df-8bb5b7bc-09f0-4130-8bf8-c71a7a937644')\"\n",
              "              title=\"Convert this dataframe to an interactive table.\"\n",
              "              style=\"display:none;\">\n",
              "        \n",
              "  <svg xmlns=\"http://www.w3.org/2000/svg\" height=\"24px\"viewBox=\"0 0 24 24\"\n",
              "       width=\"24px\">\n",
              "    <path d=\"M0 0h24v24H0V0z\" fill=\"none\"/>\n",
              "    <path d=\"M18.56 5.44l.94 2.06.94-2.06 2.06-.94-2.06-.94-.94-2.06-.94 2.06-2.06.94zm-11 1L8.5 8.5l.94-2.06 2.06-.94-2.06-.94L8.5 2.5l-.94 2.06-2.06.94zm10 10l.94 2.06.94-2.06 2.06-.94-2.06-.94-.94-2.06-.94 2.06-2.06.94z\"/><path d=\"M17.41 7.96l-1.37-1.37c-.4-.4-.92-.59-1.43-.59-.52 0-1.04.2-1.43.59L10.3 9.45l-7.72 7.72c-.78.78-.78 2.05 0 2.83L4 21.41c.39.39.9.59 1.41.59.51 0 1.02-.2 1.41-.59l7.78-7.78 2.81-2.81c.8-.78.8-2.07 0-2.86zM5.41 20L4 18.59l7.72-7.72 1.47 1.35L5.41 20z\"/>\n",
              "  </svg>\n",
              "      </button>\n",
              "      \n",
              "  <style>\n",
              "    .colab-df-container {\n",
              "      display:flex;\n",
              "      flex-wrap:wrap;\n",
              "      gap: 12px;\n",
              "    }\n",
              "\n",
              "    .colab-df-convert {\n",
              "      background-color: #E8F0FE;\n",
              "      border: none;\n",
              "      border-radius: 50%;\n",
              "      cursor: pointer;\n",
              "      display: none;\n",
              "      fill: #1967D2;\n",
              "      height: 32px;\n",
              "      padding: 0 0 0 0;\n",
              "      width: 32px;\n",
              "    }\n",
              "\n",
              "    .colab-df-convert:hover {\n",
              "      background-color: #E2EBFA;\n",
              "      box-shadow: 0px 1px 2px rgba(60, 64, 67, 0.3), 0px 1px 3px 1px rgba(60, 64, 67, 0.15);\n",
              "      fill: #174EA6;\n",
              "    }\n",
              "\n",
              "    [theme=dark] .colab-df-convert {\n",
              "      background-color: #3B4455;\n",
              "      fill: #D2E3FC;\n",
              "    }\n",
              "\n",
              "    [theme=dark] .colab-df-convert:hover {\n",
              "      background-color: #434B5C;\n",
              "      box-shadow: 0px 1px 3px 1px rgba(0, 0, 0, 0.15);\n",
              "      filter: drop-shadow(0px 1px 2px rgba(0, 0, 0, 0.3));\n",
              "      fill: #FFFFFF;\n",
              "    }\n",
              "  </style>\n",
              "\n",
              "      <script>\n",
              "        const buttonEl =\n",
              "          document.querySelector('#df-8bb5b7bc-09f0-4130-8bf8-c71a7a937644 button.colab-df-convert');\n",
              "        buttonEl.style.display =\n",
              "          google.colab.kernel.accessAllowed ? 'block' : 'none';\n",
              "\n",
              "        async function convertToInteractive(key) {\n",
              "          const element = document.querySelector('#df-8bb5b7bc-09f0-4130-8bf8-c71a7a937644');\n",
              "          const dataTable =\n",
              "            await google.colab.kernel.invokeFunction('convertToInteractive',\n",
              "                                                     [key], {});\n",
              "          if (!dataTable) return;\n",
              "\n",
              "          const docLinkHtml = 'Like what you see? Visit the ' +\n",
              "            '<a target=\"_blank\" href=https://colab.research.google.com/notebooks/data_table.ipynb>data table notebook</a>'\n",
              "            + ' to learn more about interactive tables.';\n",
              "          element.innerHTML = '';\n",
              "          dataTable['output_type'] = 'display_data';\n",
              "          await google.colab.output.renderOutput(dataTable, element);\n",
              "          const docLink = document.createElement('div');\n",
              "          docLink.innerHTML = docLinkHtml;\n",
              "          element.appendChild(docLink);\n",
              "        }\n",
              "      </script>\n",
              "    </div>\n",
              "  </div>\n",
              "  "
            ]
          },
          "metadata": {},
          "execution_count": 32
        }
      ],
      "source": [
        "df.head()"
      ]
    },
    {
      "cell_type": "markdown",
      "metadata": {
        "id": "GesXXX0sfzo7"
      },
      "source": [
        "## 2. Modelling\n",
        "\n",
        "In the second step, you can decide between running the new input files on a pretrained model or train a new model"
      ]
    },
    {
      "cell_type": "markdown",
      "metadata": {
        "id": "PIU_ujK1fzo7"
      },
      "source": [
        "### 2.1  Data preparation\n",
        "Preparation of the data for modelling. Creates the target variable, drops unnecessary columns, performs a train/test split (if wanted). \\\\\n",
        "The user has to specify:\n",
        "- *classification*: is it a classification task (True) or a regression task (False)\n",
        "- *columns_drop*: which variables shoulnd't be used for modelling\n",
        "- *target*: what is the name of the target variable\n",
        "- *y_0, y_1* (only relevant for classification task): which values of the target variable are 0, which are 1\n",
        "- *train_size*: size of the training data\n",
        "- *seed*: a seed to ensure reproducibility of train/test split\n",
        "- split: should a train/test split be performed or not? "
      ]
    },
    {
      "cell_type": "code",
      "execution_count": 22,
      "metadata": {
        "id": "F8RM0TUufzo7"
      },
      "outputs": [],
      "source": [
        "from connectome.preprocessing.data_preparation import prepare_data"
      ]
    },
    {
      "cell_type": "code",
      "execution_count": 23,
      "metadata": {
        "id": "ZTSdzorufzo7"
      },
      "outputs": [],
      "source": [
        "classification = False\n",
        "columns_drop = [\"ConnID\", \"IDs\"]\n",
        "target = \"interview_age\"\n",
        "y_0 = [0]\n",
        "y_1 = [2, 3]\n",
        "train_size = 0.8\n",
        "seed = 1855\n",
        "split = True"
      ]
    },
    {
      "cell_type": "code",
      "execution_count": 33,
      "metadata": {
        "id": "fIi5_9ATgTS4"
      },
      "outputs": [],
      "source": [
        "# preparation of data\n",
        "X_train, y_train, X_test, y_test = prepare_data(data = df, classification = classification,\n",
        "                                                columns_drop = columns_drop, target = target, y_0 = y_0, y_1 = y_1,\n",
        "                                                train_size = train_size, seed = seed, split = split)\n",
        "\n"
      ]
    },
    {
      "cell_type": "markdown",
      "metadata": {
        "id": "hX99AfITfzo8"
      },
      "source": [
        "### 2.2 Run Model or get pretrained model\n",
        "\n",
        "Selection which model should be used and whether a pretrained model or newly trained model is desired.\n",
        "\n",
        "You can find a selection fo pretrained models under the models folder.\n",
        "\n",
        "The user has to specify:\n",
        "- X_train: training data coming from the previous step\n",
        "- y_train: values of target variable for the training data coming from the previous step\n",
        "- model: which model should be used (options are: \"elnet\" for elastic net, \"gboost\" for gradient boosting, \"rf\" for random forest and \"cnn\" for convolutional neural network)\n",
        "- pretrained: is a pretrained model wanted or should the training data be used to fit a new one. (True = pretrained, False = new fit)\n",
        "- model_path: the full path to the desired pretrained model if one should be used"
      ]
    },
    {
      "cell_type": "code",
      "execution_count": 38,
      "metadata": {
        "id": "AaJOVUgNfzo8"
      },
      "outputs": [],
      "source": [
        "from connectome.models.framework import model_framework"
      ]
    },
    {
      "cell_type": "code",
      "execution_count": null,
      "metadata": {
        "id": "hUUYtxWmlL8T"
      },
      "outputs": [],
      "source": [
        "model = model_framework(X_train = X_train,\n",
        "                        y_train = y_train,\n",
        "                        model = \"rf\",\n",
        "                        pretrained = False,\n",
        "                        model_path = None)"
      ]
    },
    {
      "cell_type": "markdown",
      "metadata": {
        "id": "dnxI8ZWEfzo8"
      },
      "source": [
        "## 3. Model Evaluation\n",
        "\n",
        "In this step you can now evaluate the Model on a set of prespecified metrics.\n",
        "\n",
        "+ For Classification: Accuracy, Precision, Recall, F1 and AUC\n",
        "+ For Regression: MSE, MAE and R2\n",
        "\n",
        "Checkout https://scikit-learn.org/stable/modules/classes.html#module-sklearn.metrics for details"
      ]
    },
    {
      "cell_type": "code",
      "source": [
        "from connectome.models.evaluation import model_evaluation\n",
        "from connectome.models.brainnet_cnn import preprocess_test_data_for_cnn"
      ],
      "metadata": {
        "id": "Dte2Gah3wEEv"
      },
      "execution_count": null,
      "outputs": []
    },
    {
      "cell_type": "code",
      "execution_count": null,
      "metadata": {
        "id": "GBZRo2XClL8V"
      },
      "outputs": [],
      "source": [
        "# If a cnn Model was trained uncomment the next line to transform the test_dataset to the right input format for the CNN with the same settings\n",
        "# X_test, y_test = preprocess_test_data_for_cnn(X_test, y_test, aggregation=False, reorder=False)"
      ]
    },
    {
      "cell_type": "code",
      "execution_count": null,
      "metadata": {
        "id": "tymSZ5sefzo8",
        "scrolled": true
      },
      "outputs": [],
      "source": [
        "model_evaluation(model, X_test, y_test)"
      ]
    },
    {
      "cell_type": "markdown",
      "metadata": {
        "id": "UY8r5oMVfzo8"
      },
      "source": [
        "## 4. Feature Visualization and Interpretation\n",
        "\n",
        "In the final step you can choose between several feature visualization and interpretation techniques.\n",
        "\n",
        "The user has to specify:\n",
        "+        model: the model from  step 2\n",
        "+        X: X_test dataframe\n",
        "+        y: Target test dataframe\n",
        "+        viz_method: Choice  of \"GFI\" , \"GFI_only\", \"FI\" , \"FI_only\", \"elastic_net\", \"shapley\" and \"feature_attribution\"\n",
        "\n",
        "Visualization methods:\n",
        "+ GFI: Grouped Permutation Feature Importance (based on yeo7 network)\n",
        "+ GFI_only: Group only Permutation Feature Importance (based on yeo7 network)\n",
        "+ FI: Permutation Feature Importance\n",
        "+ FI_only: Version of Group only Permutation Feature Importance but for every feature, not groups\n",
        "+ elastic_net: Visualization of the elastic net coefficients\n",
        "+ shapley: Summary plot for shapley values\n",
        "+ feature_attribution: Neural Network Visulization with Saliency Maps\n",
        "\n",
        "For more details and customization of plots see our documentation."
      ]
    },
    {
      "cell_type": "code",
      "execution_count": null,
      "metadata": {
        "id": "Ii5PDl5efzo8"
      },
      "outputs": [],
      "source": [
        "from connectome.visualization.viz_framework import visualization_framework"
      ]
    },
    {
      "cell_type": "code",
      "execution_count": null,
      "metadata": {
        "id": "Q5FzFtovfzo8"
      },
      "outputs": [],
      "source": [
        "viz = visualization_framework(model=model,X=X_test,\n",
        "                              y=y_test, viz_method=\"GFI\")"
      ]
    },
    {
      "cell_type": "code",
      "execution_count": null,
      "metadata": {
        "id": "DwlFIN35lL8X"
      },
      "outputs": [],
      "source": [
        "viz"
      ]
    },
    {
      "cell_type": "code",
      "execution_count": null,
      "metadata": {
        "id": "Ggnp6pihlL8X"
      },
      "outputs": [],
      "source": [
        ""
      ]
    }
  ],
  "metadata": {
    "colab": {
      "collapsed_sections": [],
      "name": "Connectome_Pipeline_BrainAge.ipynb",
      "provenance": []
    },
    "kernelspec": {
      "display_name": "Python 3",
      "language": "python",
      "name": "python3"
    },
    "language_info": {
      "codemirror_mode": {
        "name": "ipython",
        "version": 3
      },
      "file_extension": ".py",
      "mimetype": "text/x-python",
      "name": "python",
      "nbconvert_exporter": "python",
      "pygments_lexer": "ipython3",
      "version": "3.7.6"
    }
  },
  "nbformat": 4,
  "nbformat_minor": 0
}