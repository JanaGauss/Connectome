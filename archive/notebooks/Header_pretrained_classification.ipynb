{
  "nbformat": 4,
  "nbformat_minor": 0,
  "metadata": {
    "colab": {
      "name": "Header_pretrained_classification.ipynb",
      "provenance": []
    },
    "kernelspec": {
      "name": "python3",
      "display_name": "Python 3"
    },
    "language_info": {
      "name": "python"
    }
  },
  "cells": [
    {
      "cell_type": "markdown",
      "source": [
        "# Pretrained Model, classification"
      ],
      "metadata": {
        "id": "QgaEo44AqFlH"
      }
    },
    {
      "cell_type": "code",
      "execution_count": null,
      "metadata": {
        "id": "GPq99pnsQ7xc"
      },
      "outputs": [],
      "source": [
        "import os\n",
        "import pandas as pd\n",
        "import numpy as np\n",
        "from google.colab import drive\n",
        "\n",
        "drive.mount('/content/drive', force_remount=True)\n",
        "os.chdir('/content/drive/MyDrive/Colab Notebooks/Innolab/Github') "
      ]
    },
    {
      "cell_type": "code",
      "source": [
        "from src.preprocessing.preprocessing_matlab_files import preprocess_mat_files\n",
        "from src.preprocessing.data_preparation import prepare_data"
      ],
      "metadata": {
        "id": "8tw4tC8zRAY6"
      },
      "execution_count": null,
      "outputs": []
    },
    {
      "cell_type": "code",
      "source": [
        "matlab_dir = \"/content/drive/MyDrive/Colab Notebooks/Innolab/Matlab Files\" # Enter the directory for the matlab files\n",
        "excel_path = \"/content/drive/MyDrive/Colab Notebooks/Innolab/DELCODE_dataset.xlsx\" # Enter the directory for the corresponding excel sheet\n",
        "write_dir = \"/content/drive/MyDrive/Colab Notebooks/Innolab/write\" # ...\n",
        "export_file = False # rename to export file\n",
        "preprocessing_type = 'conn' \n",
        "\n",
        "df = preprocess_mat_files(matlab_dir = matlab_dir, excel_path = excel_path, write_dir = write_dir,\n",
        "                           export_file = export_file, preprocessing_type = 'conn')"
      ],
      "metadata": {
        "id": "iS6QCHGDQ-aa"
      },
      "execution_count": null,
      "outputs": []
    },
    {
      "cell_type": "code",
      "source": [
        "df"
      ],
      "metadata": {
        "id": "y4crCdclREna"
      },
      "execution_count": null,
      "outputs": []
    },
    {
      "cell_type": "code",
      "source": [
        "classification = True\n",
        "columns_drop = [\"ConnID\", \"Repseudonym\", \"siteid\", \"visdat\", \"MEM_score\", \"Apoe\", \"IDs\"]\n",
        "target = \"prmdiag\"\n",
        "y_0 = [0]\n",
        "y_1 = [2, 3]\n",
        "train_size = 0.8\n",
        "seed = 123\n",
        "split = True"
      ],
      "metadata": {
        "id": "2xvYMdm3RFlB"
      },
      "execution_count": null,
      "outputs": []
    },
    {
      "cell_type": "code",
      "source": [
        "# preparation of data\n",
        "ytrain, Xtrain, ytest, Xtest = prepare_data(data = df, classification = classification,\n",
        "                         columns_drop = columns_drop, target = target, y_0 = y_0, y_1 = y_1,\n",
        "                         train_size = train_size, seed = seed, split = split)\n",
        "\n",
        "\n",
        "pd.concat([ytest, Xtest], axis = 1) # test data"
      ],
      "metadata": {
        "id": "5MD74L-jRJ8i"
      },
      "execution_count": null,
      "outputs": []
    },
    {
      "cell_type": "markdown",
      "source": [
        "# Train Model\n",
        "Evaluate AUC and accuracy on test data"
      ],
      "metadata": {
        "id": "xEdxVeLgRUGq"
      }
    },
    {
      "cell_type": "code",
      "source": [
        "from sklearn.metrics import accuracy_score, roc_auc_score"
      ],
      "metadata": {
        "id": "KqcwGMdHpSfm"
      },
      "execution_count": null,
      "outputs": []
    },
    {
      "cell_type": "markdown",
      "source": [
        "# Save Model"
      ],
      "metadata": {
        "id": "zjwLI6WMRjxT"
      }
    },
    {
      "cell_type": "code",
      "source": [
        "import pickle"
      ],
      "metadata": {
        "id": "igpHLzWBqA7H"
      },
      "execution_count": null,
      "outputs": []
    },
    {
      "cell_type": "code",
      "source": [
        "### ToDo!! change model name \n",
        "filename ='model.sav'\n",
        "pickle.dump(model, open(filename, 'wb'))"
      ],
      "metadata": {
        "id": "vwJvNq0VrlVu"
      },
      "execution_count": null,
      "outputs": []
    }
  ]
}