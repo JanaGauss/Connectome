{
 "cells": [
  {
   "cell_type": "code",
   "execution_count": 1,
   "metadata": {
    "colab": {
     "base_uri": "https://localhost:8080/"
    },
    "executionInfo": {
     "elapsed": 14825,
     "status": "ok",
     "timestamp": 1639328300530,
     "user": {
      "displayName": "Atombionic",
      "photoUrl": "https://lh3.googleusercontent.com/a-/AOh14GhxGf_c5qsMDJBVtU7Rl9tk3N6V_PLhG_fFw2K2=s64",
      "userId": "18394079028558691115"
     },
     "user_tz": -60
    },
    "id": "Y4UYbm9YPc7a",
    "outputId": "bbd0ea1e-0988-4b26-c988-7c9d44e20792"
   },
   "outputs": [
    {
     "name": "stdout",
     "output_type": "stream",
     "text": [
      "Mounted at /content/drive\n"
     ]
    }
   ],
   "source": [
    "from google.colab import drive\n",
    "drive.mount('/content/drive')"
   ]
  },
  {
   "cell_type": "code",
   "execution_count": 3,
   "metadata": {
    "executionInfo": {
     "elapsed": 198,
     "status": "ok",
     "timestamp": 1639328319461,
     "user": {
      "displayName": "Atombionic",
      "photoUrl": "https://lh3.googleusercontent.com/a-/AOh14GhxGf_c5qsMDJBVtU7Rl9tk3N6V_PLhG_fFw2K2=s64",
      "userId": "18394079028558691115"
     },
     "user_tz": -60
    },
    "id": "poVML5zSK_Q9"
   },
   "outputs": [],
   "source": [
    "from oauth2client.client import GoogleCredentials\n",
    "from google.colab import auth\n",
    "import gspread\n",
    "auth.authenticate_user()\n",
    "gc = gspread.authorize(GoogleCredentials.get_application_default())"
   ]
  },
  {
   "cell_type": "code",
   "execution_count": 4,
   "metadata": {
    "executionInfo": {
     "elapsed": 2,
     "status": "ok",
     "timestamp": 1639328320321,
     "user": {
      "displayName": "Atombionic",
      "photoUrl": "https://lh3.googleusercontent.com/a-/AOh14GhxGf_c5qsMDJBVtU7Rl9tk3N6V_PLhG_fFw2K2=s64",
      "userId": "18394079028558691115"
     },
     "user_tz": -60
    },
    "id": "sY-b5zOkQC9u"
   },
   "outputs": [],
   "source": [
    "root_path = '/content/drive/MyDrive/Innolab' "
   ]
  },
  {
   "cell_type": "code",
   "execution_count": 5,
   "metadata": {
    "executionInfo": {
     "elapsed": 6441,
     "status": "ok",
     "timestamp": 1639328327680,
     "user": {
      "displayName": "Atombionic",
      "photoUrl": "https://lh3.googleusercontent.com/a-/AOh14GhxGf_c5qsMDJBVtU7Rl9tk3N6V_PLhG_fFw2K2=s64",
      "userId": "18394079028558691115"
     },
     "user_tz": -60
    },
    "id": "-Nxiyjq3RLHO"
   },
   "outputs": [],
   "source": [
    "import os\n",
    "import numpy as np\n",
    "import pandas as pd\n",
    "import seaborn as sns\n",
    "import matplotlib.pyplot as plt\n",
    "import h5py\n",
    "from sklearn.model_selection import train_test_split\n",
    "from math import ceil\n",
    "\n",
    "import torch\n",
    "from torch.utils.data import Dataset, DataLoader\n",
    "from torch import nn, Tensor\n",
    "from torch.optim import Adam\n",
    "from torchsummary import summary\n"
   ]
  },
  {
   "cell_type": "markdown",
   "metadata": {
    "id": "6H2fr4JbZyuv"
   },
   "source": [
    "### Prepare dataset"
   ]
  },
  {
   "cell_type": "code",
   "execution_count": 6,
   "metadata": {
    "executionInfo": {
     "elapsed": 36747,
     "status": "ok",
     "timestamp": 1639328416281,
     "user": {
      "displayName": "Atombionic",
      "photoUrl": "https://lh3.googleusercontent.com/a-/AOh14GhxGf_c5qsMDJBVtU7Rl9tk3N6V_PLhG_fFw2K2=s64",
      "userId": "18394079028558691115"
     },
     "user_tz": -60
    },
    "id": "-QbM7OnCSnrC"
   },
   "outputs": [],
   "source": [
    "os.chdir(root_path + '/Matlab')\n",
    "mat_files_names = os.listdir()\n",
    "conn_matrices = []\n",
    "worked = []\n",
    "\n",
    "for i in mat_files_names:\n",
    "        \n",
    "    with h5py.File(i, 'r') as f:\n",
    "        conn_matrices.append(np.array(f.get(\"Z\")))\n",
    "        worked.append(i)"
   ]
  },
  {
   "cell_type": "code",
   "execution_count": 7,
   "metadata": {
    "executionInfo": {
     "elapsed": 639,
     "status": "ok",
     "timestamp": 1639328416917,
     "user": {
      "displayName": "Atombionic",
      "photoUrl": "https://lh3.googleusercontent.com/a-/AOh14GhxGf_c5qsMDJBVtU7Rl9tk3N6V_PLhG_fFw2K2=s64",
      "userId": "18394079028558691115"
     },
     "user_tz": -60
    },
    "id": "q--bRoRFS5gl"
   },
   "outputs": [],
   "source": [
    "worksheet = gc.open_by_url('https://docs.google.com/spreadsheets/d/1SKLgfrrpKEyo7d967XHsyYdPuuCo8GWXPQbWb5qjskk/edit#gid=685049469')\n",
    "sheet = worksheet.worksheet('Tabelle1')\n",
    "rows = sheet.get_all_values()\n",
    "df = pd.DataFrame.from_records(rows)\n",
    "df.columns = df.iloc[0]\n",
    "df = df.iloc[1:]"
   ]
  },
  {
   "cell_type": "code",
   "execution_count": 8,
   "metadata": {
    "executionInfo": {
     "elapsed": 6,
     "status": "ok",
     "timestamp": 1639328416918,
     "user": {
      "displayName": "Atombionic",
      "photoUrl": "https://lh3.googleusercontent.com/a-/AOh14GhxGf_c5qsMDJBVtU7Rl9tk3N6V_PLhG_fFw2K2=s64",
      "userId": "18394079028558691115"
     },
     "user_tz": -60
    },
    "id": "9Z7_QI8wMAKs"
   },
   "outputs": [],
   "source": [
    "has_alzheimer = df.prmdiag.isin(['2','3'])\n",
    "no_alzheimer = df.prmdiag.isin(['0'])\n",
    "\n",
    "df.loc[has_alzheimer, 'target'] = 1\n",
    "df.loc[no_alzheimer, 'target'] = 0\n",
    "df.dropna(subset=['target'], axis = 0, inplace = True)"
   ]
  },
  {
   "cell_type": "code",
   "execution_count": 9,
   "metadata": {
    "executionInfo": {
     "elapsed": 4,
     "status": "ok",
     "timestamp": 1639328416918,
     "user": {
      "displayName": "Atombionic",
      "photoUrl": "https://lh3.googleusercontent.com/a-/AOh14GhxGf_c5qsMDJBVtU7Rl9tk3N6V_PLhG_fFw2K2=s64",
      "userId": "18394079028558691115"
     },
     "user_tz": -60
    },
    "id": "m3QYmm8nOBst"
   },
   "outputs": [],
   "source": [
    "ind = df.index.values.tolist()"
   ]
  },
  {
   "cell_type": "code",
   "execution_count": 10,
   "metadata": {
    "executionInfo": {
     "elapsed": 5,
     "status": "ok",
     "timestamp": 1639328416919,
     "user": {
      "displayName": "Atombionic",
      "photoUrl": "https://lh3.googleusercontent.com/a-/AOh14GhxGf_c5qsMDJBVtU7Rl9tk3N6V_PLhG_fFw2K2=s64",
      "userId": "18394079028558691115"
     },
     "user_tz": -60
    },
    "id": "uowWF2Z4bQ48"
   },
   "outputs": [],
   "source": [
    "train_ind = np.random.choice(ind, size= int(len(ind) * 0.8), replace=False).tolist()\n",
    "test_ind = list(set(ind) - set(train_ind))"
   ]
  },
  {
   "cell_type": "code",
   "execution_count": 11,
   "metadata": {
    "executionInfo": {
     "elapsed": 312,
     "status": "ok",
     "timestamp": 1639328417226,
     "user": {
      "displayName": "Atombionic",
      "photoUrl": "https://lh3.googleusercontent.com/a-/AOh14GhxGf_c5qsMDJBVtU7Rl9tk3N6V_PLhG_fFw2K2=s64",
      "userId": "18394079028558691115"
     },
     "user_tz": -60
    },
    "id": "LkQOeS7sMP5m"
   },
   "outputs": [],
   "source": [
    "train_matrices = []\n",
    "for i in train_ind:\n",
    "    train_matrices.append(torch.from_numpy(np.nan_to_num(conn_matrices[i-1])))"
   ]
  },
  {
   "cell_type": "code",
   "execution_count": 12,
   "metadata": {
    "executionInfo": {
     "elapsed": 3,
     "status": "ok",
     "timestamp": 1639328417226,
     "user": {
      "displayName": "Atombionic",
      "photoUrl": "https://lh3.googleusercontent.com/a-/AOh14GhxGf_c5qsMDJBVtU7Rl9tk3N6V_PLhG_fFw2K2=s64",
      "userId": "18394079028558691115"
     },
     "user_tz": -60
    },
    "id": "raMKu_SNPJTt"
   },
   "outputs": [],
   "source": [
    "test_matrices = []\n",
    "for i in test_ind:\n",
    "    test_matrices.append(torch.from_numpy(np.nan_to_num(conn_matrices[i-1])))"
   ]
  },
  {
   "cell_type": "code",
   "execution_count": 13,
   "metadata": {
    "executionInfo": {
     "elapsed": 251,
     "status": "ok",
     "timestamp": 1639328417474,
     "user": {
      "displayName": "Atombionic",
      "photoUrl": "https://lh3.googleusercontent.com/a-/AOh14GhxGf_c5qsMDJBVtU7Rl9tk3N6V_PLhG_fFw2K2=s64",
      "userId": "18394079028558691115"
     },
     "user_tz": -60
    },
    "id": "xZZ5TU1Ncd9K"
   },
   "outputs": [],
   "source": [
    "feature_train = torch.stack(train_matrices)\n",
    "feature_test = torch.stack(test_matrices)"
   ]
  },
  {
   "cell_type": "code",
   "execution_count": 14,
   "metadata": {
    "executionInfo": {
     "elapsed": 4,
     "status": "ok",
     "timestamp": 1639328417475,
     "user": {
      "displayName": "Atombionic",
      "photoUrl": "https://lh3.googleusercontent.com/a-/AOh14GhxGf_c5qsMDJBVtU7Rl9tk3N6V_PLhG_fFw2K2=s64",
      "userId": "18394079028558691115"
     },
     "user_tz": -60
    },
    "id": "UclBxWuTeeAZ"
   },
   "outputs": [],
   "source": [
    "feature_train = torch.reshape(feature_train, (-1,1,246,246))\n",
    "feature_test = torch.reshape(feature_test, (-1,1,246,246))"
   ]
  },
  {
   "cell_type": "code",
   "execution_count": 16,
   "metadata": {
    "executionInfo": {
     "elapsed": 6,
     "status": "ok",
     "timestamp": 1639328417796,
     "user": {
      "displayName": "Atombionic",
      "photoUrl": "https://lh3.googleusercontent.com/a-/AOh14GhxGf_c5qsMDJBVtU7Rl9tk3N6V_PLhG_fFw2K2=s64",
      "userId": "18394079028558691115"
     },
     "user_tz": -60
    },
    "id": "P_sJl9RpJsU2"
   },
   "outputs": [],
   "source": [
    "class ConnectomeTrainDataset(Dataset):\n",
    "    def __init__(self):\n",
    "        self.label = df['target'][train_ind].reset_index()['target'].astype('float32')\n",
    "        self.feature = feature_train\n",
    "        self.n_samples = feature_train.shape[0]\n",
    "\n",
    "    def __len__(self):\n",
    "        return self.n_samples\n",
    "\n",
    "    def __getitem__(self, idx):\n",
    "        return self.feature[idx].float(), self.label[idx]"
   ]
  },
  {
   "cell_type": "code",
   "execution_count": 17,
   "metadata": {
    "executionInfo": {
     "elapsed": 7,
     "status": "ok",
     "timestamp": 1639328417797,
     "user": {
      "displayName": "Atombionic",
      "photoUrl": "https://lh3.googleusercontent.com/a-/AOh14GhxGf_c5qsMDJBVtU7Rl9tk3N6V_PLhG_fFw2K2=s64",
      "userId": "18394079028558691115"
     },
     "user_tz": -60
    },
    "id": "lYGS5hU4c8DV"
   },
   "outputs": [],
   "source": [
    "class ConnectomeTestDataset(Dataset):\n",
    "    def __init__(self):\n",
    "        self.label = df['target'][test_ind].reset_index()['target'].astype('float32')\n",
    "        self.feature = feature_test\n",
    "        self.n_samples = feature_test.shape[0]\n",
    "\n",
    "    def __len__(self):\n",
    "        return self.n_samples\n",
    "\n",
    "    def __getitem__(self, idx):\n",
    "        return self.feature[idx].float(), self.label[idx]"
   ]
  },
  {
   "cell_type": "code",
   "execution_count": 18,
   "metadata": {
    "executionInfo": {
     "elapsed": 7,
     "status": "ok",
     "timestamp": 1639328417797,
     "user": {
      "displayName": "Atombionic",
      "photoUrl": "https://lh3.googleusercontent.com/a-/AOh14GhxGf_c5qsMDJBVtU7Rl9tk3N6V_PLhG_fFw2K2=s64",
      "userId": "18394079028558691115"
     },
     "user_tz": -60
    },
    "id": "wXOZD4dkTBE2"
   },
   "outputs": [],
   "source": [
    "train_dataset = ConnectomeTrainDataset()\n",
    "test_dataset = ConnectomeTestDataset()"
   ]
  },
  {
   "cell_type": "code",
   "execution_count": 19,
   "metadata": {
    "colab": {
     "base_uri": "https://localhost:8080/"
    },
    "executionInfo": {
     "elapsed": 7,
     "status": "ok",
     "timestamp": 1639328417798,
     "user": {
      "displayName": "Atombionic",
      "photoUrl": "https://lh3.googleusercontent.com/a-/AOh14GhxGf_c5qsMDJBVtU7Rl9tk3N6V_PLhG_fFw2K2=s64",
      "userId": "18394079028558691115"
     },
     "user_tz": -60
    },
    "id": "cFhKLOnwhXYU",
    "outputId": "be5ae286-5635-4e0d-a098-90d60fc0c84d"
   },
   "outputs": [
    {
     "data": {
      "text/plain": [
       "tensor([[[ 0.0000,  0.9720,  0.9620,  ..., -0.1857, -0.0156, -0.2422],\n",
       "         [ 0.9720,  0.0000,  0.8611,  ..., -0.3752, -0.1386, -0.3591],\n",
       "         [ 0.9620,  0.8611,  0.0000,  ..., -0.2071,  0.1315, -0.0667],\n",
       "         ...,\n",
       "         [-0.1857, -0.3752, -0.2071,  ...,  0.0000, -0.0116,  0.4322],\n",
       "         [-0.0156, -0.1386,  0.1315,  ..., -0.0116,  0.0000,  0.2506],\n",
       "         [-0.2422, -0.3591, -0.0667,  ...,  0.4322,  0.2506,  0.0000]]])"
      ]
     },
     "execution_count": 19,
     "metadata": {},
     "output_type": "execute_result"
    }
   ],
   "source": [
    "train_dataset[0][0]"
   ]
  },
  {
   "cell_type": "code",
   "execution_count": 22,
   "metadata": {
    "executionInfo": {
     "elapsed": 1092,
     "status": "ok",
     "timestamp": 1639328661344,
     "user": {
      "displayName": "Atombionic",
      "photoUrl": "https://lh3.googleusercontent.com/a-/AOh14GhxGf_c5qsMDJBVtU7Rl9tk3N6V_PLhG_fFw2K2=s64",
      "userId": "18394079028558691115"
     },
     "user_tz": -60
    },
    "id": "DNfNbJNzllkq"
   },
   "outputs": [],
   "source": [
    "torch.save(train_dataset, '/content/drive/MyDrive/Innolab/train.pt')\n",
    "torch.save(test_dataset, '/content/drive/MyDrive/Innolab/test.pt')"
   ]
  },
  {
   "cell_type": "markdown",
   "metadata": {
    "id": "U5nfRLDwfazM"
   },
   "source": [
    "### Train Model"
   ]
  },
  {
   "cell_type": "code",
   "execution_count": 37,
   "metadata": {
    "executionInfo": {
     "elapsed": 233,
     "status": "ok",
     "timestamp": 1639329144189,
     "user": {
      "displayName": "Atombionic",
      "photoUrl": "https://lh3.googleusercontent.com/a-/AOh14GhxGf_c5qsMDJBVtU7Rl9tk3N6V_PLhG_fFw2K2=s64",
      "userId": "18394079028558691115"
     },
     "user_tz": -60
    },
    "id": "j4jYPavOZF3N"
   },
   "outputs": [],
   "source": [
    "model = nn.Sequential(\n",
    "    nn.Conv2d(\n",
    "        in_channels=1,\n",
    "        out_channels=32,\n",
    "        kernel_size=(3, 3),\n",
    "    ),\n",
    "    nn.ReLU(),\n",
    "    nn.MaxPool2d(kernel_size=2),\n",
    "    nn.Conv2d(32,32,(3,3)),\n",
    "    nn.ReLU(),\n",
    "    nn.MaxPool2d(kernel_size=4),\n",
    "    nn.Conv2d(32,32,(3,3)),\n",
    "    nn.ReLU(),\n",
    "    nn.Flatten(),\n",
    "    nn.Linear(25088,32),\n",
    "    nn.ReLU(),\n",
    "    nn.Linear(32,1),\n",
    "    nn.Sigmoid()\n",
    ")\n",
    "device = torch.device('cuda' if torch.cuda.is_available() else 'cpu')"
   ]
  },
  {
   "cell_type": "code",
   "execution_count": 38,
   "metadata": {
    "colab": {
     "base_uri": "https://localhost:8080/"
    },
    "executionInfo": {
     "elapsed": 3,
     "status": "ok",
     "timestamp": 1639329145186,
     "user": {
      "displayName": "Atombionic",
      "photoUrl": "https://lh3.googleusercontent.com/a-/AOh14GhxGf_c5qsMDJBVtU7Rl9tk3N6V_PLhG_fFw2K2=s64",
      "userId": "18394079028558691115"
     },
     "user_tz": -60
    },
    "id": "QznIGLC-ZFzv",
    "outputId": "027664a6-7184-4dcd-903c-f3f65487712a"
   },
   "outputs": [
    {
     "data": {
      "text/plain": [
       "Sequential(\n",
       "  (0): Conv2d(1, 32, kernel_size=(3, 3), stride=(1, 1))\n",
       "  (1): ReLU()\n",
       "  (2): MaxPool2d(kernel_size=2, stride=2, padding=0, dilation=1, ceil_mode=False)\n",
       "  (3): Conv2d(32, 32, kernel_size=(3, 3), stride=(1, 1))\n",
       "  (4): ReLU()\n",
       "  (5): MaxPool2d(kernel_size=4, stride=4, padding=0, dilation=1, ceil_mode=False)\n",
       "  (6): Conv2d(32, 32, kernel_size=(3, 3), stride=(1, 1))\n",
       "  (7): ReLU()\n",
       "  (8): Flatten(start_dim=1, end_dim=-1)\n",
       "  (9): Linear(in_features=25088, out_features=32, bias=True)\n",
       "  (10): ReLU()\n",
       "  (11): Linear(in_features=32, out_features=1, bias=True)\n",
       "  (12): Sigmoid()\n",
       ")"
      ]
     },
     "execution_count": 38,
     "metadata": {},
     "output_type": "execute_result"
    }
   ],
   "source": [
    "model.to(device)"
   ]
  },
  {
   "cell_type": "code",
   "execution_count": 39,
   "metadata": {
    "colab": {
     "base_uri": "https://localhost:8080/"
    },
    "executionInfo": {
     "elapsed": 2,
     "status": "ok",
     "timestamp": 1639329145406,
     "user": {
      "displayName": "Atombionic",
      "photoUrl": "https://lh3.googleusercontent.com/a-/AOh14GhxGf_c5qsMDJBVtU7Rl9tk3N6V_PLhG_fFw2K2=s64",
      "userId": "18394079028558691115"
     },
     "user_tz": -60
    },
    "id": "XOeeDNV1ZFxN",
    "outputId": "ed54e62b-fc50-434b-bcde-7458144a0015"
   },
   "outputs": [
    {
     "name": "stdout",
     "output_type": "stream",
     "text": [
      "----------------------------------------------------------------\n",
      "        Layer (type)               Output Shape         Param #\n",
      "================================================================\n",
      "            Conv2d-1         [-1, 32, 244, 244]             320\n",
      "              ReLU-2         [-1, 32, 244, 244]               0\n",
      "         MaxPool2d-3         [-1, 32, 122, 122]               0\n",
      "            Conv2d-4         [-1, 32, 120, 120]           9,248\n",
      "              ReLU-5         [-1, 32, 120, 120]               0\n",
      "         MaxPool2d-6           [-1, 32, 30, 30]               0\n",
      "            Conv2d-7           [-1, 32, 28, 28]           9,248\n",
      "              ReLU-8           [-1, 32, 28, 28]               0\n",
      "           Flatten-9                [-1, 25088]               0\n",
      "           Linear-10                   [-1, 32]         802,848\n",
      "             ReLU-11                   [-1, 32]               0\n",
      "           Linear-12                    [-1, 1]              33\n",
      "          Sigmoid-13                    [-1, 1]               0\n",
      "================================================================\n",
      "Total params: 821,697\n",
      "Trainable params: 821,697\n",
      "Non-trainable params: 0\n",
      "----------------------------------------------------------------\n",
      "Input size (MB): 0.23\n",
      "Forward/backward pass size (MB): 40.53\n",
      "Params size (MB): 3.13\n",
      "Estimated Total Size (MB): 43.90\n",
      "----------------------------------------------------------------\n"
     ]
    }
   ],
   "source": [
    "summary(model, input_size=(1, 246, 246), device=str(device))"
   ]
  },
  {
   "cell_type": "markdown",
   "metadata": {
    "id": "nl0hlsQRfm6p"
   },
   "source": [
    "##### Model Parameters"
   ]
  },
  {
   "cell_type": "code",
   "execution_count": 40,
   "metadata": {
    "executionInfo": {
     "elapsed": 230,
     "status": "ok",
     "timestamp": 1639329147968,
     "user": {
      "displayName": "Atombionic",
      "photoUrl": "https://lh3.googleusercontent.com/a-/AOh14GhxGf_c5qsMDJBVtU7Rl9tk3N6V_PLhG_fFw2K2=s64",
      "userId": "18394079028558691115"
     },
     "user_tz": -60
    },
    "id": "p0lTwbpEZFo1"
   },
   "outputs": [],
   "source": [
    "loss = (\n",
    "    nn.BCELoss()\n",
    ")\n",
    "\n",
    "optimizer = (\n",
    "    Adam(model.parameters(), weight_decay=0.001)\n",
    ")"
   ]
  },
  {
   "cell_type": "code",
   "execution_count": 41,
   "metadata": {
    "colab": {
     "base_uri": "https://localhost:8080/"
    },
    "executionInfo": {
     "elapsed": 243,
     "status": "ok",
     "timestamp": 1639329153397,
     "user": {
      "displayName": "Atombionic",
      "photoUrl": "https://lh3.googleusercontent.com/a-/AOh14GhxGf_c5qsMDJBVtU7Rl9tk3N6V_PLhG_fFw2K2=s64",
      "userId": "18394079028558691115"
     },
     "user_tz": -60
    },
    "id": "2Iywlsh6TpDx",
    "outputId": "80c337b1-9be8-4e4e-e066-d2752e927553"
   },
   "outputs": [
    {
     "name": "stderr",
     "output_type": "stream",
     "text": [
      "/usr/local/lib/python3.7/dist-packages/torch/utils/data/dataloader.py:481: UserWarning: This DataLoader will create 4 worker processes in total. Our suggested max number of worker in current system is 2, which is smaller than what this DataLoader is going to create. Please be aware that excessive worker creation might get DataLoader running slow or even freeze, lower the worker number to avoid potential slowness/freeze if necessary.\n",
      "  cpuset_checked))\n"
     ]
    }
   ],
   "source": [
    "epochs = 20\n",
    "batch_size = 8\n",
    "num_workers = 4\n",
    "\n",
    "max_batches = ceil(len(train_dataset) / batch_size)\n",
    "\n",
    "train_loader = DataLoader(\n",
    "    dataset=train_dataset,\n",
    "    batch_size=batch_size,\n",
    "    shuffle=True,\n",
    "    num_workers=4,\n",
    ")"
   ]
  },
  {
   "cell_type": "code",
   "execution_count": 42,
   "metadata": {
    "colab": {
     "base_uri": "https://localhost:8080/"
    },
    "executionInfo": {
     "elapsed": 30859,
     "status": "ok",
     "timestamp": 1639329185068,
     "user": {
      "displayName": "Atombionic",
      "photoUrl": "https://lh3.googleusercontent.com/a-/AOh14GhxGf_c5qsMDJBVtU7Rl9tk3N6V_PLhG_fFw2K2=s64",
      "userId": "18394079028558691115"
     },
     "user_tz": -60
    },
    "id": "DEBg7EJpYR5l",
    "outputId": "e12eeff6-020b-432a-ad7c-04bf6c7b61ad"
   },
   "outputs": [
    {
     "name": "stderr",
     "output_type": "stream",
     "text": [
      "/usr/local/lib/python3.7/dist-packages/torch/utils/data/dataloader.py:481: UserWarning: This DataLoader will create 4 worker processes in total. Our suggested max number of worker in current system is 2, which is smaller than what this DataLoader is going to create. Please be aware that excessive worker creation might get DataLoader running slow or even freeze, lower the worker number to avoid potential slowness/freeze if necessary.\n",
      "  cpuset_checked))\n"
     ]
    },
    {
     "name": "stdout",
     "output_type": "stream",
     "text": [
      "EPOCH:\t    1\tLOSS:\t0.088\tACCURACY:\t0.468\n",
      "EPOCH:\t    2\tLOSS:\t0.087\tACCURACY:\t0.495\n",
      "EPOCH:\t    3\tLOSS:\t0.087\tACCURACY:\t0.508\n",
      "EPOCH:\t    4\tLOSS:\t0.087\tACCURACY:\t0.492\n",
      "EPOCH:\t    5\tLOSS:\t0.086\tACCURACY:\t0.529\n",
      "EPOCH:\t    6\tLOSS:\t0.087\tACCURACY:\t0.521\n",
      "EPOCH:\t    7\tLOSS:\t0.087\tACCURACY:\t0.527\n",
      "EPOCH:\t    8\tLOSS:\t0.087\tACCURACY:\t0.457\n",
      "EPOCH:\t    9\tLOSS:\t0.087\tACCURACY:\t0.497\n",
      "EPOCH:\t   10\tLOSS:\t0.087\tACCURACY:\t0.495\n",
      "EPOCH:\t   11\tLOSS:\t0.087\tACCURACY:\t0.532\n",
      "EPOCH:\t   12\tLOSS:\t0.086\tACCURACY:\t0.513\n",
      "EPOCH:\t   13\tLOSS:\t0.086\tACCURACY:\t0.532\n",
      "EPOCH:\t   14\tLOSS:\t0.086\tACCURACY:\t0.532\n",
      "EPOCH:\t   15\tLOSS:\t0.086\tACCURACY:\t0.548\n",
      "EPOCH:\t   16\tLOSS:\t0.084\tACCURACY:\t0.593\n",
      "EPOCH:\t   17\tLOSS:\t0.082\tACCURACY:\t0.657\n",
      "EPOCH:\t   18\tLOSS:\t0.080\tACCURACY:\t0.649\n",
      "EPOCH:\t   19\tLOSS:\t0.077\tACCURACY:\t0.702\n",
      "EPOCH:\t   20\tLOSS:\t0.074\tACCURACY:\t0.707\n"
     ]
    }
   ],
   "source": [
    "for ep in range(1, epochs + 1):\n",
    "\n",
    "    total_loss = 0\n",
    "    num_correct = 0\n",
    "\n",
    "    for batch_idx, (x, y) in enumerate(train_loader):\n",
    "\n",
    "        # Push tensors to device\n",
    "        x = x.to(device)\n",
    "        y = y.to(device)\n",
    "\n",
    "        y_hat = model(x).squeeze()\n",
    "        batch_loss = loss(y_hat ,y)\n",
    "        #set gradients to zero\n",
    "        optimizer.zero_grad()\n",
    "        #backpropagte the error\n",
    "        batch_loss.backward()\n",
    "        #apply gradients\n",
    "        optimizer.step()\n",
    "\n",
    "        # Print progress every 10 batches\n",
    "        if batch_idx % 10 == 0:\n",
    "            print('BATCH:\\t({:5} / {:5})\\tLOSS:\\t{:.3f}'\n",
    "                  .format(batch_idx, max_batches, float(batch_loss) / batch_size), end='\\r')\n",
    "\n",
    "        total_loss += float(batch_loss)\n",
    "        num_correct += int(torch.sum(torch.round(y_hat) == y))\n",
    "\n",
    "    print('EPOCH:\\t{:5}\\tLOSS:\\t{:.3f}\\tACCURACY:\\t{:.3f}'\n",
    "          .format(ep, total_loss / len(train_dataset), num_correct / len(train_dataset),\n",
    "                  end='\\r'))"
   ]
  },
  {
   "cell_type": "code",
   "execution_count": 43,
   "metadata": {
    "colab": {
     "base_uri": "https://localhost:8080/"
    },
    "executionInfo": {
     "elapsed": 1102,
     "status": "ok",
     "timestamp": 1639329189088,
     "user": {
      "displayName": "Atombionic",
      "photoUrl": "https://lh3.googleusercontent.com/a-/AOh14GhxGf_c5qsMDJBVtU7Rl9tk3N6V_PLhG_fFw2K2=s64",
      "userId": "18394079028558691115"
     },
     "user_tz": -60
    },
    "id": "LAILRBiLUy84",
    "outputId": "f799f9f2-a46e-43b8-ae8e-1d9c77463081"
   },
   "outputs": [
    {
     "name": "stderr",
     "output_type": "stream",
     "text": [
      "/usr/local/lib/python3.7/dist-packages/torch/utils/data/dataloader.py:481: UserWarning: This DataLoader will create 4 worker processes in total. Our suggested max number of worker in current system is 2, which is smaller than what this DataLoader is going to create. Please be aware that excessive worker creation might get DataLoader running slow or even freeze, lower the worker number to avoid potential slowness/freeze if necessary.\n",
      "  cpuset_checked))\n"
     ]
    },
    {
     "name": "stdout",
     "output_type": "stream",
     "text": [
      "EVALUATION LOSS:\t0.069\tEVALUATION: ACCURACY:\t0.769\n"
     ]
    }
   ],
   "source": [
    "test_loader = DataLoader(\n",
    "    dataset=test_dataset,\n",
    "    batch_size=1024,\n",
    "    num_workers=4,\n",
    ")\n",
    "\n",
    "total_loss = 0\n",
    "num_correct = 0\n",
    "\n",
    "for batch_idx, (x, y) in enumerate(train_loader):\n",
    "    # Push tensors to device\n",
    "    x = x.to(device)\n",
    "    y = y.to(device)\n",
    "\n",
    "    with torch.no_grad():\n",
    "      y_hat = model(x).squeeze()\n",
    "      batch_loss = loss(y_hat,y)\n",
    "\n",
    "    total_loss += float(batch_loss)\n",
    "    num_correct += int(torch.sum(torch.round(y_hat) == y))\n",
    "\n",
    "print('EVALUATION LOSS:\\t{:.3f}\\tEVALUATION: ACCURACY:\\t{:.3f}'\n",
    "          .format(total_loss / len(train_dataset), num_correct / len(train_dataset),\n",
    "                  end='\\r'))"
   ]
  },
  {
   "cell_type": "code",
   "execution_count": 43,
   "metadata": {
    "executionInfo": {
     "elapsed": 215,
     "status": "ok",
     "timestamp": 1639329280115,
     "user": {
      "displayName": "Atombionic",
      "photoUrl": "https://lh3.googleusercontent.com/a-/AOh14GhxGf_c5qsMDJBVtU7Rl9tk3N6V_PLhG_fFw2K2=s64",
      "userId": "18394079028558691115"
     },
     "user_tz": -60
    },
    "id": "04FdTjXTgmdJ"
   },
   "outputs": [],
   "source": []
  },
  {
   "cell_type": "code",
   "execution_count": null,
   "metadata": {
    "id": "5ItehqvkqjII"
   },
   "outputs": [],
   "source": []
  }
 ],
 "metadata": {
  "accelerator": "GPU",
  "colab": {
   "authorship_tag": "ABX9TyNiNwNzZF5zCoakZAUXDiPJ",
   "name": "Innolab DL.ipynb",
   "provenance": []
  },
  "kernelspec": {
   "display_name": "Python 3",
   "language": "python",
   "name": "python3"
  },
  "language_info": {
   "codemirror_mode": {
    "name": "ipython",
    "version": 3
   },
   "file_extension": ".py",
   "mimetype": "text/x-python",
   "name": "python",
   "nbconvert_exporter": "python",
   "pygments_lexer": "ipython3",
   "version": "3.8.5"
  }
 },
 "nbformat": 4,
 "nbformat_minor": 1
}
