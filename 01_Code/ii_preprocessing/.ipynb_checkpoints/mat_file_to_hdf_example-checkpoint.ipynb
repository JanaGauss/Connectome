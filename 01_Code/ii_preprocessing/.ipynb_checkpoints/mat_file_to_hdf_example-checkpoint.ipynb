{
 "cells": [
  {
   "cell_type": "code",
   "execution_count": 1,
   "metadata": {},
   "outputs": [],
   "source": [
    "import os\n",
    "import numpy as np\n",
    "import pandas as pd\n",
    "import seaborn as sns\n",
    "import matplotlib.pyplot as plt\n",
    "import h5py"
   ]
  },
  {
   "cell_type": "code",
   "execution_count": 2,
   "metadata": {},
   "outputs": [],
   "source": [
    "mat_dir = r\"C:/Users/leosc/OneDrive/Desktop/WiSe 21-22/Innolab/Test/SBC_01\"\n",
    "\n",
    "ex_dir = r\"C:\\Users\\leosc\\OneDrive\\Desktop\\WiSe 21-22\\Innolab\\Test\"\n",
    "os.chdir(mat_dir)\n",
    "\n",
    "\n"
   ]
  },
  {
   "cell_type": "code",
   "execution_count": 3,
   "metadata": {},
   "outputs": [
    {
     "data": {
      "text/plain": [
       "(array([[        nan,  0.90993451,  0.22249696, ..., -0.01168092,\n",
       "          0.33869942,  0.13040516],\n",
       "        [ 0.90993451,         nan, -0.07541672, ..., -0.02669248,\n",
       "          0.27368348,  0.12974607],\n",
       "        [ 0.22249696, -0.07541672,         nan, ..., -0.0457409 ,\n",
       "          0.0292011 ,  0.10908172],\n",
       "        ...,\n",
       "        [-0.01168092, -0.02669248, -0.0457409 , ...,         nan,\n",
       "          0.15965731, -0.03555815],\n",
       "        [ 0.33869942,  0.27368348,  0.0292011 , ...,  0.15965731,\n",
       "                 nan,  0.70761469],\n",
       "        [ 0.13040516,  0.12974607,  0.10908172, ..., -0.03555815,\n",
       "          0.70761469,         nan]]),\n",
       " ['#refs#', 'DOF', 'SE', 'Z', 'names', 'names2', 'regressors', 'xyz'])"
      ]
     },
     "execution_count": 3,
     "metadata": {},
     "output_type": "execute_result"
    }
   ],
   "source": [
    "def example_av_keys():\n",
    "    \"\"\"\n",
    "    demonstrates what the raw matrix looks like\n",
    "    displays all available keys or objects that can be imported\n",
    "    \"\"\"\n",
    "    with h5py.File('resultsROI_Subject006_Condition001.mat', 'r') as f:\n",
    "        return np.array(f.get(\"Z\")), list(f.keys())\n",
    "\n",
    "example_av_keys()"
   ]
  },
  {
   "cell_type": "code",
   "execution_count": 4,
   "metadata": {},
   "outputs": [
    {
     "data": {
      "text/plain": [
       "['1_2', '1_3', '1_4', '1_5', '2_3', '2_4', '2_5', '3_4', '3_5', '4_5']"
      ]
     },
     "execution_count": 4,
     "metadata": {},
     "output_type": "execute_result"
    }
   ],
   "source": [
    "def col_names_matrix(n):\n",
    "    \"\"\"\n",
    "    creates the column names for the flattened connecitvity matrix\n",
    "    \"\"\"\n",
    "    return [str(i) + \"_\" + str(j)  for i in range(1, n+1) for j in range(i+1, n+1)]\n",
    "\n",
    "col_names_matrix(5)"
   ]
  },
  {
   "cell_type": "code",
   "execution_count": 9,
   "metadata": {},
   "outputs": [
    {
     "data": {
      "text/plain": [
       "array([ 0.70011522,  0.81550539,  0.48091639, ..., -0.11764372,\n",
       "       -0.09283724,  0.62196728])"
      ]
     },
     "execution_count": 9,
     "metadata": {},
     "output_type": "execute_result"
    }
   ],
   "source": [
    "def flatten_conn_matrix(matrix):\n",
    "    \"\"\"\n",
    "    turns the connectivity matrix into a 1d array\n",
    "    \"\"\"\n",
    "    \n",
    "    if not isinstance(matrix, (np.ndarray, np.generic)):\n",
    "        return \"not an ndarray\"\n",
    "    else:\n",
    "        sh = matrix.shape[0]\n",
    "        return matrix[np.triu_indices(sh, k = 1)]\n",
    "    \n",
    "    \n",
    "flatten_conn_matrix(res[0][1])"
   ]
  },
  {
   "cell_type": "code",
   "execution_count": 6,
   "metadata": {},
   "outputs": [],
   "source": [
    "def load_matlab_files(directory):\n",
    "    \"\"\"\n",
    "    imports all matlab files from specified directory\n",
    "    \"\"\"\n",
    "    \n",
    "    try:\n",
    "        os.chdir(directory)\n",
    "    except FileNotFoundError:\n",
    "        print(\"invalid path\")\n",
    "        return None\n",
    "    \n",
    "    mat_files_names = os.listdir()\n",
    "    conn_matrices = []\n",
    "    worked = []\n",
    "    \n",
    "    for i in mat_files_names:\n",
    "            \n",
    "        with h5py.File(i, 'r') as f:\n",
    "            conn_matrices.append(np.array(f.get(\"Z\")))\n",
    "            worked.append(i)\n",
    "\n",
    "    \n",
    "    \n",
    "    return conn_matrices, worked\n"
   ]
  },
  {
   "cell_type": "code",
   "execution_count": 8,
   "metadata": {},
   "outputs": [
    {
     "data": {
      "text/plain": [
       "array([160])"
      ]
     },
     "execution_count": 8,
     "metadata": {},
     "output_type": "execute_result"
    }
   ],
   "source": [
    "#get subject-IDs\n",
    "def get_subject_ids(file_names):\n",
    "    \"\"\"\n",
    "    gets the subjectIDs if the filenames correspond to the \n",
    "    used format: resultsROI_Subject006_Condition001.mat\n",
    "    would correspond to subject ID 6\n",
    "    \"\"\"\n",
    "    \n",
    "    return np.array([int(i.split(\"Subject\",1)[1][0:3]) for i in file_names])\n",
    "\n",
    "\n",
    "def find_missing_subject(subj_ids, max_subj_id):\n",
    "    \"\"\"\n",
    "    gets missing subject IDs from specified range of IDs\n",
    "    \"\"\"\n",
    "\n",
    "    check = np.array([i for i in range(1, max_subj_id + 1)])\n",
    "\n",
    "    return np.setdiff1d(check, subj_ids) \n",
    "\n",
    "#print(get_subject_ids.__doc__)"
   ]
  },
  {
   "cell_type": "code",
   "execution_count": 11,
   "metadata": {},
   "outputs": [
    {
     "name": "stdout",
     "output_type": "stream",
     "text": [
      "Wall time: 870 ms\n"
     ]
    }
   ],
   "source": [
    "%%time\n",
    "\n",
    "def stack_matrices(matrices):\n",
    "    \n",
    "    flattened = []\n",
    "    for i in matrices:\n",
    "        #error handling in case one matrix should not work?\n",
    "        flattened.append(flatten_conn_matrix(i))\n",
    "        #error handling for stacking\n",
    "    \n",
    "    return np.stack(flattened, axis=0)\n",
    "    \n",
    "stacked_conn_matrices = stack_matrices(res[0])"
   ]
  },
  {
   "cell_type": "code",
   "execution_count": 7,
   "metadata": {},
   "outputs": [
    {
     "name": "stdout",
     "output_type": "stream",
     "text": [
      "Wall time: 6.19 s\n"
     ]
    }
   ],
   "source": [
    "%%time\n",
    "res = load_matlab_files(r\"C:\\Users\\leosc\\OneDrive\\Desktop\\WiSe 21-22\\Innolab\\Test\\SBC_01\")"
   ]
  },
  {
   "cell_type": "code",
   "execution_count": 12,
   "metadata": {},
   "outputs": [],
   "source": [
    "#add ID column\n",
    "ids = get_subject_ids(res[1])\n",
    "ids_added = np.c_[ids, stacked_conn_matrices]"
   ]
  },
  {
   "cell_type": "code",
   "execution_count": 13,
   "metadata": {},
   "outputs": [],
   "source": [
    "#load excel\n",
    "#Note: There were some rows with Apoe score in the end but no other data\n",
    "excel_path = r\"C:\\Users\\leosc\\OneDrive\\Desktop\\WiSe 21-22\\Innolab\\Test\\DELCODE_dataset.xlsx\"\n",
    "delcode_excel = pd.read_excel(excel_path)"
   ]
  },
  {
   "cell_type": "code",
   "execution_count": 14,
   "metadata": {},
   "outputs": [],
   "source": [
    "#create column names\n",
    "colnames = [\"IDs\"]\n",
    "colnames = colnames + col_names_matrix(246)\n"
   ]
  },
  {
   "cell_type": "code",
   "execution_count": 24,
   "metadata": {},
   "outputs": [
    {
     "name": "stdout",
     "output_type": "stream",
     "text": [
      "Wall time: 5.35 s\n"
     ]
    }
   ],
   "source": [
    "%%time\n",
    "#creating final df\n",
    "final_columns = list(delcode_excel.columns) + colnames\n",
    "final_df = np.c_[np.array(delcode_excel), ids_added]\n",
    "final_df = pd.DataFrame(final_df, columns = final_columns)\n"
   ]
  },
  {
   "cell_type": "code",
   "execution_count": null,
   "metadata": {},
   "outputs": [],
   "source": [
    "#getting memory usage\n",
    "final_df2.info(memory_usage=\"deep\")"
   ]
  },
  {
   "cell_type": "code",
   "execution_count": 16,
   "metadata": {},
   "outputs": [
    {
     "data": {
      "text/html": [
       "<div>\n",
       "<style scoped>\n",
       "    .dataframe tbody tr th:only-of-type {\n",
       "        vertical-align: middle;\n",
       "    }\n",
       "\n",
       "    .dataframe tbody tr th {\n",
       "        vertical-align: top;\n",
       "    }\n",
       "\n",
       "    .dataframe thead th {\n",
       "        text-align: right;\n",
       "    }\n",
       "</style>\n",
       "<table border=\"1\" class=\"dataframe\">\n",
       "  <thead>\n",
       "    <tr style=\"text-align: right;\">\n",
       "      <th></th>\n",
       "      <th>ConnID</th>\n",
       "      <th>Repseudonym</th>\n",
       "      <th>siteid</th>\n",
       "      <th>age</th>\n",
       "      <th>visdat</th>\n",
       "      <th>sex</th>\n",
       "      <th>prmdiag</th>\n",
       "      <th>edyears</th>\n",
       "      <th>MEM_score</th>\n",
       "      <th>Apoe</th>\n",
       "      <th>...</th>\n",
       "      <th>242_243</th>\n",
       "      <th>242_244</th>\n",
       "      <th>242_245</th>\n",
       "      <th>242_246</th>\n",
       "      <th>243_244</th>\n",
       "      <th>243_245</th>\n",
       "      <th>243_246</th>\n",
       "      <th>244_245</th>\n",
       "      <th>244_246</th>\n",
       "      <th>245_246</th>\n",
       "    </tr>\n",
       "  </thead>\n",
       "  <tbody>\n",
       "    <tr>\n",
       "      <td>0</td>\n",
       "      <td>1</td>\n",
       "      <td>0a8d02f2b</td>\n",
       "      <td>11</td>\n",
       "      <td>66</td>\n",
       "      <td>17.08.2016</td>\n",
       "      <td>0</td>\n",
       "      <td>2</td>\n",
       "      <td>17</td>\n",
       "      <td>0.054016</td>\n",
       "      <td>0</td>\n",
       "      <td>...</td>\n",
       "      <td>0.655094</td>\n",
       "      <td>0.547549</td>\n",
       "      <td>-0.256346</td>\n",
       "      <td>0.0799051</td>\n",
       "      <td>0.504077</td>\n",
       "      <td>0.0314353</td>\n",
       "      <td>0.180466</td>\n",
       "      <td>0.0953076</td>\n",
       "      <td>-0.062235</td>\n",
       "      <td>0.210861</td>\n",
       "    </tr>\n",
       "    <tr>\n",
       "      <td>1</td>\n",
       "      <td>2</td>\n",
       "      <td>0a71a953d</td>\n",
       "      <td>17</td>\n",
       "      <td>72</td>\n",
       "      <td>30.03.2015</td>\n",
       "      <td>0</td>\n",
       "      <td>1</td>\n",
       "      <td>20</td>\n",
       "      <td>-0.468749</td>\n",
       "      <td>1</td>\n",
       "      <td>...</td>\n",
       "      <td>0.795011</td>\n",
       "      <td>0.624784</td>\n",
       "      <td>-0.115689</td>\n",
       "      <td>0.0555967</td>\n",
       "      <td>0.684795</td>\n",
       "      <td>0.212303</td>\n",
       "      <td>0.193802</td>\n",
       "      <td>-0.117644</td>\n",
       "      <td>-0.0928372</td>\n",
       "      <td>0.621967</td>\n",
       "    </tr>\n",
       "    <tr>\n",
       "      <td>2</td>\n",
       "      <td>3</td>\n",
       "      <td>0a61339db</td>\n",
       "      <td>11</td>\n",
       "      <td>72</td>\n",
       "      <td>13.05.2015</td>\n",
       "      <td>1</td>\n",
       "      <td>1</td>\n",
       "      <td>16</td>\n",
       "      <td>-0.093521</td>\n",
       "      <td>0</td>\n",
       "      <td>...</td>\n",
       "      <td>0.209853</td>\n",
       "      <td>0.166607</td>\n",
       "      <td>0.0561474</td>\n",
       "      <td>0.159351</td>\n",
       "      <td>0.721864</td>\n",
       "      <td>0.107519</td>\n",
       "      <td>0.329301</td>\n",
       "      <td>0.0552936</td>\n",
       "      <td>0.39387</td>\n",
       "      <td>0.269579</td>\n",
       "    </tr>\n",
       "    <tr>\n",
       "      <td>3</td>\n",
       "      <td>4</td>\n",
       "      <td>0b28aed58</td>\n",
       "      <td>17</td>\n",
       "      <td>76</td>\n",
       "      <td>18.01.2016</td>\n",
       "      <td>0</td>\n",
       "      <td>1</td>\n",
       "      <td>20</td>\n",
       "      <td>0.466027</td>\n",
       "      <td>0</td>\n",
       "      <td>...</td>\n",
       "      <td>0.547318</td>\n",
       "      <td>0.724798</td>\n",
       "      <td>0.205874</td>\n",
       "      <td>0.193587</td>\n",
       "      <td>0.855264</td>\n",
       "      <td>0.0857812</td>\n",
       "      <td>0.333715</td>\n",
       "      <td>0.231567</td>\n",
       "      <td>0.28501</td>\n",
       "      <td>0.780887</td>\n",
       "    </tr>\n",
       "    <tr>\n",
       "      <td>4</td>\n",
       "      <td>5</td>\n",
       "      <td>0c1c5ae77</td>\n",
       "      <td>8</td>\n",
       "      <td>64</td>\n",
       "      <td>12.03.2015</td>\n",
       "      <td>1</td>\n",
       "      <td>1</td>\n",
       "      <td>13</td>\n",
       "      <td>1.4521</td>\n",
       "      <td>0</td>\n",
       "      <td>...</td>\n",
       "      <td>0.901057</td>\n",
       "      <td>0.547402</td>\n",
       "      <td>-0.0375842</td>\n",
       "      <td>0.0894263</td>\n",
       "      <td>0.509276</td>\n",
       "      <td>0.122451</td>\n",
       "      <td>0.308097</td>\n",
       "      <td>0.330322</td>\n",
       "      <td>0.360479</td>\n",
       "      <td>0.404907</td>\n",
       "    </tr>\n",
       "  </tbody>\n",
       "</table>\n",
       "<p>5 rows × 30146 columns</p>\n",
       "</div>"
      ],
      "text/plain": [
       "  ConnID Repseudonym siteid age      visdat sex prmdiag edyears MEM_score  \\\n",
       "0      1   0a8d02f2b     11  66  17.08.2016   0       2      17  0.054016   \n",
       "1      2   0a71a953d     17  72  30.03.2015   0       1      20 -0.468749   \n",
       "2      3   0a61339db     11  72  13.05.2015   1       1      16 -0.093521   \n",
       "3      4   0b28aed58     17  76  18.01.2016   0       1      20  0.466027   \n",
       "4      5   0c1c5ae77      8  64  12.03.2015   1       1      13    1.4521   \n",
       "\n",
       "  Apoe  ...   242_243   242_244    242_245    242_246   243_244    243_245  \\\n",
       "0    0  ...  0.655094  0.547549  -0.256346  0.0799051  0.504077  0.0314353   \n",
       "1    1  ...  0.795011  0.624784  -0.115689  0.0555967  0.684795   0.212303   \n",
       "2    0  ...  0.209853  0.166607  0.0561474   0.159351  0.721864   0.107519   \n",
       "3    0  ...  0.547318  0.724798   0.205874   0.193587  0.855264  0.0857812   \n",
       "4    0  ...  0.901057  0.547402 -0.0375842  0.0894263  0.509276   0.122451   \n",
       "\n",
       "    243_246    244_245    244_246   245_246  \n",
       "0  0.180466  0.0953076  -0.062235  0.210861  \n",
       "1  0.193802  -0.117644 -0.0928372  0.621967  \n",
       "2  0.329301  0.0552936    0.39387  0.269579  \n",
       "3  0.333715   0.231567    0.28501  0.780887  \n",
       "4  0.308097   0.330322   0.360479  0.404907  \n",
       "\n",
       "[5 rows x 30146 columns]"
      ]
     },
     "execution_count": 16,
     "metadata": {},
     "output_type": "execute_result"
    }
   ],
   "source": [
    "#first look at DF\n",
    "final_df2.shape\n",
    "final_df2.head()"
   ]
  },
  {
   "cell_type": "code",
   "execution_count": 20,
   "metadata": {},
   "outputs": [
    {
     "name": "stdout",
     "output_type": "stream",
     "text": [
      "Wall time: 7.42 s\n"
     ]
    }
   ],
   "source": [
    "%%time\n",
    "#saving to hdf file\n",
    "final_df2.to_hdf('data.h5', key='df', mode='w')"
   ]
  },
  {
   "cell_type": "code",
   "execution_count": 21,
   "metadata": {},
   "outputs": [
    {
     "name": "stdout",
     "output_type": "stream",
     "text": [
      "Wall time: 9.6 s\n"
     ]
    },
    {
     "data": {
      "text/html": [
       "<div>\n",
       "<style scoped>\n",
       "    .dataframe tbody tr th:only-of-type {\n",
       "        vertical-align: middle;\n",
       "    }\n",
       "\n",
       "    .dataframe tbody tr th {\n",
       "        vertical-align: top;\n",
       "    }\n",
       "\n",
       "    .dataframe thead th {\n",
       "        text-align: right;\n",
       "    }\n",
       "</style>\n",
       "<table border=\"1\" class=\"dataframe\">\n",
       "  <thead>\n",
       "    <tr style=\"text-align: right;\">\n",
       "      <th></th>\n",
       "      <th>ConnID</th>\n",
       "      <th>Repseudonym</th>\n",
       "      <th>siteid</th>\n",
       "      <th>age</th>\n",
       "      <th>visdat</th>\n",
       "      <th>sex</th>\n",
       "      <th>prmdiag</th>\n",
       "      <th>edyears</th>\n",
       "      <th>MEM_score</th>\n",
       "      <th>Apoe</th>\n",
       "      <th>...</th>\n",
       "      <th>242_243</th>\n",
       "      <th>242_244</th>\n",
       "      <th>242_245</th>\n",
       "      <th>242_246</th>\n",
       "      <th>243_244</th>\n",
       "      <th>243_245</th>\n",
       "      <th>243_246</th>\n",
       "      <th>244_245</th>\n",
       "      <th>244_246</th>\n",
       "      <th>245_246</th>\n",
       "    </tr>\n",
       "  </thead>\n",
       "  <tbody>\n",
       "    <tr>\n",
       "      <td>0</td>\n",
       "      <td>1</td>\n",
       "      <td>0a8d02f2b</td>\n",
       "      <td>11</td>\n",
       "      <td>66</td>\n",
       "      <td>17.08.2016</td>\n",
       "      <td>0</td>\n",
       "      <td>2</td>\n",
       "      <td>17</td>\n",
       "      <td>0.054016</td>\n",
       "      <td>0</td>\n",
       "      <td>...</td>\n",
       "      <td>0.655094</td>\n",
       "      <td>0.547549</td>\n",
       "      <td>-0.256346</td>\n",
       "      <td>0.0799051</td>\n",
       "      <td>0.504077</td>\n",
       "      <td>0.0314353</td>\n",
       "      <td>0.180466</td>\n",
       "      <td>0.0953076</td>\n",
       "      <td>-0.062235</td>\n",
       "      <td>0.210861</td>\n",
       "    </tr>\n",
       "    <tr>\n",
       "      <td>1</td>\n",
       "      <td>2</td>\n",
       "      <td>0a71a953d</td>\n",
       "      <td>17</td>\n",
       "      <td>72</td>\n",
       "      <td>30.03.2015</td>\n",
       "      <td>0</td>\n",
       "      <td>1</td>\n",
       "      <td>20</td>\n",
       "      <td>-0.468749</td>\n",
       "      <td>1</td>\n",
       "      <td>...</td>\n",
       "      <td>0.795011</td>\n",
       "      <td>0.624784</td>\n",
       "      <td>-0.115689</td>\n",
       "      <td>0.0555967</td>\n",
       "      <td>0.684795</td>\n",
       "      <td>0.212303</td>\n",
       "      <td>0.193802</td>\n",
       "      <td>-0.117644</td>\n",
       "      <td>-0.0928372</td>\n",
       "      <td>0.621967</td>\n",
       "    </tr>\n",
       "    <tr>\n",
       "      <td>2</td>\n",
       "      <td>3</td>\n",
       "      <td>0a61339db</td>\n",
       "      <td>11</td>\n",
       "      <td>72</td>\n",
       "      <td>13.05.2015</td>\n",
       "      <td>1</td>\n",
       "      <td>1</td>\n",
       "      <td>16</td>\n",
       "      <td>-0.093521</td>\n",
       "      <td>0</td>\n",
       "      <td>...</td>\n",
       "      <td>0.209853</td>\n",
       "      <td>0.166607</td>\n",
       "      <td>0.0561474</td>\n",
       "      <td>0.159351</td>\n",
       "      <td>0.721864</td>\n",
       "      <td>0.107519</td>\n",
       "      <td>0.329301</td>\n",
       "      <td>0.0552936</td>\n",
       "      <td>0.39387</td>\n",
       "      <td>0.269579</td>\n",
       "    </tr>\n",
       "    <tr>\n",
       "      <td>3</td>\n",
       "      <td>4</td>\n",
       "      <td>0b28aed58</td>\n",
       "      <td>17</td>\n",
       "      <td>76</td>\n",
       "      <td>18.01.2016</td>\n",
       "      <td>0</td>\n",
       "      <td>1</td>\n",
       "      <td>20</td>\n",
       "      <td>0.466027</td>\n",
       "      <td>0</td>\n",
       "      <td>...</td>\n",
       "      <td>0.547318</td>\n",
       "      <td>0.724798</td>\n",
       "      <td>0.205874</td>\n",
       "      <td>0.193587</td>\n",
       "      <td>0.855264</td>\n",
       "      <td>0.0857812</td>\n",
       "      <td>0.333715</td>\n",
       "      <td>0.231567</td>\n",
       "      <td>0.28501</td>\n",
       "      <td>0.780887</td>\n",
       "    </tr>\n",
       "    <tr>\n",
       "      <td>4</td>\n",
       "      <td>5</td>\n",
       "      <td>0c1c5ae77</td>\n",
       "      <td>8</td>\n",
       "      <td>64</td>\n",
       "      <td>12.03.2015</td>\n",
       "      <td>1</td>\n",
       "      <td>1</td>\n",
       "      <td>13</td>\n",
       "      <td>1.4521</td>\n",
       "      <td>0</td>\n",
       "      <td>...</td>\n",
       "      <td>0.901057</td>\n",
       "      <td>0.547402</td>\n",
       "      <td>-0.0375842</td>\n",
       "      <td>0.0894263</td>\n",
       "      <td>0.509276</td>\n",
       "      <td>0.122451</td>\n",
       "      <td>0.308097</td>\n",
       "      <td>0.330322</td>\n",
       "      <td>0.360479</td>\n",
       "      <td>0.404907</td>\n",
       "    </tr>\n",
       "  </tbody>\n",
       "</table>\n",
       "<p>5 rows × 30146 columns</p>\n",
       "</div>"
      ],
      "text/plain": [
       "  ConnID Repseudonym siteid age      visdat sex prmdiag edyears MEM_score  \\\n",
       "0      1   0a8d02f2b     11  66  17.08.2016   0       2      17  0.054016   \n",
       "1      2   0a71a953d     17  72  30.03.2015   0       1      20 -0.468749   \n",
       "2      3   0a61339db     11  72  13.05.2015   1       1      16 -0.093521   \n",
       "3      4   0b28aed58     17  76  18.01.2016   0       1      20  0.466027   \n",
       "4      5   0c1c5ae77      8  64  12.03.2015   1       1      13    1.4521   \n",
       "\n",
       "  Apoe  ...   242_243   242_244    242_245    242_246   243_244    243_245  \\\n",
       "0    0  ...  0.655094  0.547549  -0.256346  0.0799051  0.504077  0.0314353   \n",
       "1    1  ...  0.795011  0.624784  -0.115689  0.0555967  0.684795   0.212303   \n",
       "2    0  ...  0.209853  0.166607  0.0561474   0.159351  0.721864   0.107519   \n",
       "3    0  ...  0.547318  0.724798   0.205874   0.193587  0.855264  0.0857812   \n",
       "4    0  ...  0.901057  0.547402 -0.0375842  0.0894263  0.509276   0.122451   \n",
       "\n",
       "    243_246    244_245    244_246   245_246  \n",
       "0  0.180466  0.0953076  -0.062235  0.210861  \n",
       "1  0.193802  -0.117644 -0.0928372  0.621967  \n",
       "2  0.329301  0.0552936    0.39387  0.269579  \n",
       "3  0.333715   0.231567    0.28501  0.780887  \n",
       "4  0.308097   0.330322   0.360479  0.404907  \n",
       "\n",
       "[5 rows x 30146 columns]"
      ]
     },
     "execution_count": 21,
     "metadata": {},
     "output_type": "execute_result"
    }
   ],
   "source": [
    "%%time\n",
    "#checking that it loads correctly\n",
    "read_df = pd.read_hdf('data.h5', 'df')\n",
    "read_df.head()\n",
    "read_df.shape"
   ]
  }
 ],
 "metadata": {
  "kernelspec": {
   "display_name": "Python 3",
   "language": "python",
   "name": "python3"
  },
  "language_info": {
   "codemirror_mode": {
    "name": "ipython",
    "version": 3
   },
   "file_extension": ".py",
   "mimetype": "text/x-python",
   "name": "python",
   "nbconvert_exporter": "python",
   "pygments_lexer": "ipython3",
   "version": "3.8.5"
  }
 },
 "nbformat": 4,
 "nbformat_minor": 2
}
