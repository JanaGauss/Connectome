{
 "cells": [
  {
   "cell_type": "markdown",
   "metadata": {},
   "source": [
    "### TODOS: Wrap in Function, HPO, Class imbalance"
   ]
  },
  {
   "cell_type": "code",
   "execution_count": 1,
   "metadata": {},
   "outputs": [],
   "source": [
    "import numpy as np\n",
    "import pandas as pd \n",
    "import h5py"
   ]
  },
  {
   "cell_type": "code",
   "execution_count": 2,
   "metadata": {},
   "outputs": [],
   "source": [
    "#Modelling libraries\n",
    "from sklearn.impute import KNNImputer\n",
    "from sklearn.model_selection import train_test_split,  GridSearchCV\n",
    "from sklearn.preprocessing import StandardScaler\n",
    "from sklearn.decomposition import PCA\n",
    "from sklearn.metrics import accuracy_score, precision_score, recall_score, f1_score, roc_auc_score, plot_confusion_matrix\n",
    "from sklearn.ensemble import RandomForestClassifier\n",
    "from sklearn.linear_model import LogisticRegression\n",
    "from sklearn.pipeline import Pipeline\n",
    "\n",
    "#from sklearn.feature_selection import VarianceThreshold <- use to remove low variance features\n",
    "\n",
    "from bayes_opt import BayesianOptimization #!pip install bayesian-optimization"
   ]
  },
  {
   "cell_type": "code",
   "execution_count": 3,
   "metadata": {},
   "outputs": [],
   "source": [
    "file_path = r\"C:\\Users\\likai\\Desktop\\My Life\\Master\\3. Semester\\Innolabs\\Data\""
   ]
  },
  {
   "cell_type": "code",
   "execution_count": 4,
   "metadata": {},
   "outputs": [],
   "source": [
    "data = pd.read_csv(file_path + '\\\\train.csv')\n",
    "test = pd.read_csv(file_path + '\\\\test.csv')"
   ]
  },
  {
   "cell_type": "code",
   "execution_count": 5,
   "metadata": {},
   "outputs": [
    {
     "data": {
      "text/html": [
       "<div>\n",
       "<style scoped>\n",
       "    .dataframe tbody tr th:only-of-type {\n",
       "        vertical-align: middle;\n",
       "    }\n",
       "\n",
       "    .dataframe tbody tr th {\n",
       "        vertical-align: top;\n",
       "    }\n",
       "\n",
       "    .dataframe thead th {\n",
       "        text-align: right;\n",
       "    }\n",
       "</style>\n",
       "<table border=\"1\" class=\"dataframe\">\n",
       "  <thead>\n",
       "    <tr style=\"text-align: right;\">\n",
       "      <th></th>\n",
       "      <th>ConnID</th>\n",
       "      <th>Repseudonym</th>\n",
       "      <th>siteid</th>\n",
       "      <th>age</th>\n",
       "      <th>visdat</th>\n",
       "      <th>sex</th>\n",
       "      <th>prmdiag</th>\n",
       "      <th>edyears</th>\n",
       "      <th>MEM_score</th>\n",
       "      <th>Apoe</th>\n",
       "      <th>...</th>\n",
       "      <th>242_243</th>\n",
       "      <th>242_244</th>\n",
       "      <th>242_245</th>\n",
       "      <th>242_246</th>\n",
       "      <th>243_244</th>\n",
       "      <th>243_245</th>\n",
       "      <th>243_246</th>\n",
       "      <th>244_245</th>\n",
       "      <th>244_246</th>\n",
       "      <th>245_246</th>\n",
       "    </tr>\n",
       "  </thead>\n",
       "  <tbody>\n",
       "    <tr>\n",
       "      <th>0</th>\n",
       "      <td>241.0</td>\n",
       "      <td>40ea07c4b</td>\n",
       "      <td>17.0</td>\n",
       "      <td>70.0</td>\n",
       "      <td>20.04.2017</td>\n",
       "      <td>0.0</td>\n",
       "      <td>2.0</td>\n",
       "      <td>13.0</td>\n",
       "      <td>-0.704825</td>\n",
       "      <td>1.0</td>\n",
       "      <td>...</td>\n",
       "      <td>0.748460</td>\n",
       "      <td>0.672616</td>\n",
       "      <td>0.293294</td>\n",
       "      <td>0.160400</td>\n",
       "      <td>1.062753</td>\n",
       "      <td>0.071058</td>\n",
       "      <td>0.117238</td>\n",
       "      <td>0.129523</td>\n",
       "      <td>0.083228</td>\n",
       "      <td>0.902359</td>\n",
       "    </tr>\n",
       "    <tr>\n",
       "      <th>1</th>\n",
       "      <td>447.0</td>\n",
       "      <td>9017e3b68</td>\n",
       "      <td>13.0</td>\n",
       "      <td>69.0</td>\n",
       "      <td>22.04.2015</td>\n",
       "      <td>0.0</td>\n",
       "      <td>1.0</td>\n",
       "      <td>18.0</td>\n",
       "      <td>-0.070936</td>\n",
       "      <td>0.0</td>\n",
       "      <td>...</td>\n",
       "      <td>0.389067</td>\n",
       "      <td>0.475096</td>\n",
       "      <td>0.135471</td>\n",
       "      <td>-0.109216</td>\n",
       "      <td>0.456896</td>\n",
       "      <td>0.109648</td>\n",
       "      <td>0.123226</td>\n",
       "      <td>0.146611</td>\n",
       "      <td>0.130343</td>\n",
       "      <td>0.344798</td>\n",
       "    </tr>\n",
       "  </tbody>\n",
       "</table>\n",
       "<p>2 rows × 30146 columns</p>\n",
       "</div>"
      ],
      "text/plain": [
       "   ConnID Repseudonym  siteid   age      visdat  sex  prmdiag  edyears  \\\n",
       "0   241.0   40ea07c4b    17.0  70.0  20.04.2017  0.0      2.0     13.0   \n",
       "1   447.0   9017e3b68    13.0  69.0  22.04.2015  0.0      1.0     18.0   \n",
       "\n",
       "   MEM_score  Apoe  ...   242_243   242_244   242_245   242_246   243_244  \\\n",
       "0  -0.704825   1.0  ...  0.748460  0.672616  0.293294  0.160400  1.062753   \n",
       "1  -0.070936   0.0  ...  0.389067  0.475096  0.135471 -0.109216  0.456896   \n",
       "\n",
       "    243_245   243_246   244_245   244_246   245_246  \n",
       "0  0.071058  0.117238  0.129523  0.083228  0.902359  \n",
       "1  0.109648  0.123226  0.146611  0.130343  0.344798  \n",
       "\n",
       "[2 rows x 30146 columns]"
      ]
     },
     "execution_count": 5,
     "metadata": {},
     "output_type": "execute_result"
    }
   ],
   "source": [
    "data.head(2)"
   ]
  },
  {
   "cell_type": "code",
   "execution_count": 12,
   "metadata": {},
   "outputs": [
    {
     "data": {
      "text/html": [
       "<div>\n",
       "<style scoped>\n",
       "    .dataframe tbody tr th:only-of-type {\n",
       "        vertical-align: middle;\n",
       "    }\n",
       "\n",
       "    .dataframe tbody tr th {\n",
       "        vertical-align: top;\n",
       "    }\n",
       "\n",
       "    .dataframe thead th {\n",
       "        text-align: right;\n",
       "    }\n",
       "</style>\n",
       "<table border=\"1\" class=\"dataframe\">\n",
       "  <thead>\n",
       "    <tr style=\"text-align: right;\">\n",
       "      <th></th>\n",
       "      <th>ConnID</th>\n",
       "      <th>siteid</th>\n",
       "      <th>age</th>\n",
       "      <th>sex</th>\n",
       "      <th>prmdiag</th>\n",
       "      <th>edyears</th>\n",
       "      <th>MEM_score</th>\n",
       "      <th>Apoe</th>\n",
       "      <th>IDs</th>\n",
       "      <th>1_2</th>\n",
       "      <th>...</th>\n",
       "      <th>242_243</th>\n",
       "      <th>242_244</th>\n",
       "      <th>242_245</th>\n",
       "      <th>242_246</th>\n",
       "      <th>243_244</th>\n",
       "      <th>243_245</th>\n",
       "      <th>243_246</th>\n",
       "      <th>244_245</th>\n",
       "      <th>244_246</th>\n",
       "      <th>245_246</th>\n",
       "    </tr>\n",
       "  </thead>\n",
       "  <tbody>\n",
       "    <tr>\n",
       "      <th>count</th>\n",
       "      <td>649.00</td>\n",
       "      <td>649.00</td>\n",
       "      <td>649.00</td>\n",
       "      <td>649.0</td>\n",
       "      <td>649.00</td>\n",
       "      <td>649.00</td>\n",
       "      <td>649.00</td>\n",
       "      <td>634.00</td>\n",
       "      <td>649.00</td>\n",
       "      <td>649.00</td>\n",
       "      <td>...</td>\n",
       "      <td>649.00</td>\n",
       "      <td>649.00</td>\n",
       "      <td>649.00</td>\n",
       "      <td>649.00</td>\n",
       "      <td>649.00</td>\n",
       "      <td>649.00</td>\n",
       "      <td>649.00</td>\n",
       "      <td>649.00</td>\n",
       "      <td>649.00</td>\n",
       "      <td>649.00</td>\n",
       "    </tr>\n",
       "    <tr>\n",
       "      <th>mean</th>\n",
       "      <td>404.80</td>\n",
       "      <td>10.65</td>\n",
       "      <td>70.65</td>\n",
       "      <td>0.5</td>\n",
       "      <td>1.18</td>\n",
       "      <td>14.63</td>\n",
       "      <td>0.28</td>\n",
       "      <td>0.31</td>\n",
       "      <td>404.80</td>\n",
       "      <td>0.71</td>\n",
       "      <td>...</td>\n",
       "      <td>0.51</td>\n",
       "      <td>0.41</td>\n",
       "      <td>0.05</td>\n",
       "      <td>0.13</td>\n",
       "      <td>0.56</td>\n",
       "      <td>0.09</td>\n",
       "      <td>0.17</td>\n",
       "      <td>0.07</td>\n",
       "      <td>0.09</td>\n",
       "      <td>0.51</td>\n",
       "    </tr>\n",
       "    <tr>\n",
       "      <th>std</th>\n",
       "      <td>232.58</td>\n",
       "      <td>5.39</td>\n",
       "      <td>6.03</td>\n",
       "      <td>0.5</td>\n",
       "      <td>1.13</td>\n",
       "      <td>2.92</td>\n",
       "      <td>0.71</td>\n",
       "      <td>0.46</td>\n",
       "      <td>232.58</td>\n",
       "      <td>0.27</td>\n",
       "      <td>...</td>\n",
       "      <td>0.22</td>\n",
       "      <td>0.20</td>\n",
       "      <td>0.18</td>\n",
       "      <td>0.20</td>\n",
       "      <td>0.24</td>\n",
       "      <td>0.20</td>\n",
       "      <td>0.21</td>\n",
       "      <td>0.17</td>\n",
       "      <td>0.19</td>\n",
       "      <td>0.23</td>\n",
       "    </tr>\n",
       "    <tr>\n",
       "      <th>min</th>\n",
       "      <td>1.00</td>\n",
       "      <td>2.00</td>\n",
       "      <td>60.00</td>\n",
       "      <td>0.0</td>\n",
       "      <td>0.00</td>\n",
       "      <td>8.00</td>\n",
       "      <td>-2.43</td>\n",
       "      <td>0.00</td>\n",
       "      <td>1.00</td>\n",
       "      <td>-0.00</td>\n",
       "      <td>...</td>\n",
       "      <td>0.00</td>\n",
       "      <td>-0.25</td>\n",
       "      <td>-0.54</td>\n",
       "      <td>-0.46</td>\n",
       "      <td>-0.09</td>\n",
       "      <td>-0.52</td>\n",
       "      <td>-0.63</td>\n",
       "      <td>-0.58</td>\n",
       "      <td>-0.75</td>\n",
       "      <td>-0.55</td>\n",
       "    </tr>\n",
       "    <tr>\n",
       "      <th>25%</th>\n",
       "      <td>199.00</td>\n",
       "      <td>5.00</td>\n",
       "      <td>66.00</td>\n",
       "      <td>0.0</td>\n",
       "      <td>0.00</td>\n",
       "      <td>12.00</td>\n",
       "      <td>-0.13</td>\n",
       "      <td>0.00</td>\n",
       "      <td>199.00</td>\n",
       "      <td>0.54</td>\n",
       "      <td>...</td>\n",
       "      <td>0.35</td>\n",
       "      <td>0.27</td>\n",
       "      <td>-0.08</td>\n",
       "      <td>-0.01</td>\n",
       "      <td>0.39</td>\n",
       "      <td>-0.04</td>\n",
       "      <td>0.04</td>\n",
       "      <td>-0.03</td>\n",
       "      <td>-0.02</td>\n",
       "      <td>0.35</td>\n",
       "    </tr>\n",
       "    <tr>\n",
       "      <th>50%</th>\n",
       "      <td>405.00</td>\n",
       "      <td>11.00</td>\n",
       "      <td>71.00</td>\n",
       "      <td>1.0</td>\n",
       "      <td>1.00</td>\n",
       "      <td>14.00</td>\n",
       "      <td>0.38</td>\n",
       "      <td>0.00</td>\n",
       "      <td>405.00</td>\n",
       "      <td>0.70</td>\n",
       "      <td>...</td>\n",
       "      <td>0.51</td>\n",
       "      <td>0.41</td>\n",
       "      <td>0.06</td>\n",
       "      <td>0.12</td>\n",
       "      <td>0.55</td>\n",
       "      <td>0.09</td>\n",
       "      <td>0.17</td>\n",
       "      <td>0.07</td>\n",
       "      <td>0.09</td>\n",
       "      <td>0.50</td>\n",
       "    </tr>\n",
       "    <tr>\n",
       "      <th>75%</th>\n",
       "      <td>606.00</td>\n",
       "      <td>16.00</td>\n",
       "      <td>75.00</td>\n",
       "      <td>1.0</td>\n",
       "      <td>2.00</td>\n",
       "      <td>17.00</td>\n",
       "      <td>0.79</td>\n",
       "      <td>1.00</td>\n",
       "      <td>606.00</td>\n",
       "      <td>0.87</td>\n",
       "      <td>...</td>\n",
       "      <td>0.66</td>\n",
       "      <td>0.53</td>\n",
       "      <td>0.17</td>\n",
       "      <td>0.26</td>\n",
       "      <td>0.71</td>\n",
       "      <td>0.20</td>\n",
       "      <td>0.30</td>\n",
       "      <td>0.18</td>\n",
       "      <td>0.21</td>\n",
       "      <td>0.67</td>\n",
       "    </tr>\n",
       "    <tr>\n",
       "      <th>max</th>\n",
       "      <td>813.00</td>\n",
       "      <td>18.00</td>\n",
       "      <td>88.00</td>\n",
       "      <td>1.0</td>\n",
       "      <td>4.00</td>\n",
       "      <td>20.00</td>\n",
       "      <td>1.74</td>\n",
       "      <td>1.00</td>\n",
       "      <td>813.00</td>\n",
       "      <td>1.71</td>\n",
       "      <td>...</td>\n",
       "      <td>1.34</td>\n",
       "      <td>1.36</td>\n",
       "      <td>0.64</td>\n",
       "      <td>0.78</td>\n",
       "      <td>1.32</td>\n",
       "      <td>0.77</td>\n",
       "      <td>0.88</td>\n",
       "      <td>0.59</td>\n",
       "      <td>0.97</td>\n",
       "      <td>1.19</td>\n",
       "    </tr>\n",
       "  </tbody>\n",
       "</table>\n",
       "<p>8 rows × 30144 columns</p>\n",
       "</div>"
      ],
      "text/plain": [
       "       ConnID  siteid     age    sex  prmdiag  edyears  MEM_score    Apoe  \\\n",
       "count  649.00  649.00  649.00  649.0   649.00   649.00     649.00  634.00   \n",
       "mean   404.80   10.65   70.65    0.5     1.18    14.63       0.28    0.31   \n",
       "std    232.58    5.39    6.03    0.5     1.13     2.92       0.71    0.46   \n",
       "min      1.00    2.00   60.00    0.0     0.00     8.00      -2.43    0.00   \n",
       "25%    199.00    5.00   66.00    0.0     0.00    12.00      -0.13    0.00   \n",
       "50%    405.00   11.00   71.00    1.0     1.00    14.00       0.38    0.00   \n",
       "75%    606.00   16.00   75.00    1.0     2.00    17.00       0.79    1.00   \n",
       "max    813.00   18.00   88.00    1.0     4.00    20.00       1.74    1.00   \n",
       "\n",
       "          IDs     1_2  ...  242_243  242_244  242_245  242_246  243_244  \\\n",
       "count  649.00  649.00  ...   649.00   649.00   649.00   649.00   649.00   \n",
       "mean   404.80    0.71  ...     0.51     0.41     0.05     0.13     0.56   \n",
       "std    232.58    0.27  ...     0.22     0.20     0.18     0.20     0.24   \n",
       "min      1.00   -0.00  ...     0.00    -0.25    -0.54    -0.46    -0.09   \n",
       "25%    199.00    0.54  ...     0.35     0.27    -0.08    -0.01     0.39   \n",
       "50%    405.00    0.70  ...     0.51     0.41     0.06     0.12     0.55   \n",
       "75%    606.00    0.87  ...     0.66     0.53     0.17     0.26     0.71   \n",
       "max    813.00    1.71  ...     1.34     1.36     0.64     0.78     1.32   \n",
       "\n",
       "       243_245  243_246  244_245  244_246  245_246  \n",
       "count   649.00   649.00   649.00   649.00   649.00  \n",
       "mean      0.09     0.17     0.07     0.09     0.51  \n",
       "std       0.20     0.21     0.17     0.19     0.23  \n",
       "min      -0.52    -0.63    -0.58    -0.75    -0.55  \n",
       "25%      -0.04     0.04    -0.03    -0.02     0.35  \n",
       "50%       0.09     0.17     0.07     0.09     0.50  \n",
       "75%       0.20     0.30     0.18     0.21     0.67  \n",
       "max       0.77     0.88     0.59     0.97     1.19  \n",
       "\n",
       "[8 rows x 30144 columns]"
      ]
     },
     "execution_count": 12,
     "metadata": {},
     "output_type": "execute_result"
    }
   ],
   "source": [
    "#features.describe()\n",
    "round(data.describe(), 2)"
   ]
  },
  {
   "cell_type": "code",
   "execution_count": 6,
   "metadata": {},
   "outputs": [
    {
     "data": {
      "text/plain": [
       "1.0    288\n",
       "0.0    184\n",
       "2.0    116\n",
       "4.0     61\n",
       "Name: prmdiag, dtype: int64"
      ]
     },
     "execution_count": 6,
     "metadata": {},
     "output_type": "execute_result"
    }
   ],
   "source": [
    "#define target\n",
    "data['prmdiag'].value_counts()"
   ]
  },
  {
   "cell_type": "code",
   "execution_count": 7,
   "metadata": {},
   "outputs": [],
   "source": [
    "has_alzheimer = data.prmdiag.isin([2,3])\n",
    "no_alzheimer = data.prmdiag.isin([0])\n",
    "\n",
    "data.loc[has_alzheimer, 'target'] = 1\n",
    "data.loc[no_alzheimer, 'target'] = 0"
   ]
  },
  {
   "cell_type": "code",
   "execution_count": 8,
   "metadata": {},
   "outputs": [],
   "source": [
    "data.dropna(subset=['target'], axis = 0, inplace = True)"
   ]
  },
  {
   "cell_type": "code",
   "execution_count": 9,
   "metadata": {},
   "outputs": [],
   "source": [
    "data.drop(['ConnID','Repseudonym','visdat','siteid','IDs', 'prmdiag'], axis = 1, inplace = True)"
   ]
  },
  {
   "cell_type": "code",
   "execution_count": 10,
   "metadata": {},
   "outputs": [],
   "source": [
    "features = data.drop('target', axis = 1)\n",
    "labels = data['target']"
   ]
  },
  {
   "cell_type": "code",
   "execution_count": 11,
   "metadata": {},
   "outputs": [],
   "source": [
    "n_features = features.shape[1]"
   ]
  },
  {
   "cell_type": "code",
   "execution_count": 12,
   "metadata": {},
   "outputs": [],
   "source": [
    "#same for test file\n",
    "has_alzheimer = test.prmdiag.isin([2,3])\n",
    "no_alzheimer = test.prmdiag.isin([0])\n",
    "\n",
    "test.loc[has_alzheimer, 'target'] = 1\n",
    "test.loc[no_alzheimer, 'target'] = 0"
   ]
  },
  {
   "cell_type": "code",
   "execution_count": 13,
   "metadata": {},
   "outputs": [],
   "source": [
    "test.dropna(subset=['target'], axis = 0, inplace = True)"
   ]
  },
  {
   "cell_type": "code",
   "execution_count": 14,
   "metadata": {},
   "outputs": [],
   "source": [
    "test.drop(['ConnID','Repseudonym','visdat','siteid','IDs', 'prmdiag'], axis = 1, inplace = True)"
   ]
  },
  {
   "cell_type": "code",
   "execution_count": 15,
   "metadata": {},
   "outputs": [],
   "source": [
    "X_test = test.drop('target', axis = 1)\n",
    "y_test = test['target']"
   ]
  },
  {
   "cell_type": "markdown",
   "metadata": {},
   "source": [
    "### Slight Class imbalance"
   ]
  },
  {
   "cell_type": "code",
   "execution_count": 16,
   "metadata": {},
   "outputs": [
    {
     "data": {
      "text/plain": [
       "0.0    184\n",
       "1.0    116\n",
       "Name: target, dtype: int64"
      ]
     },
     "execution_count": 16,
     "metadata": {},
     "output_type": "execute_result"
    }
   ],
   "source": [
    "labels.value_counts()"
   ]
  },
  {
   "cell_type": "markdown",
   "metadata": {},
   "source": [
    "#### Train Test Split"
   ]
  },
  {
   "cell_type": "code",
   "execution_count": 33,
   "metadata": {},
   "outputs": [],
   "source": [
    "#X_train, X_valid, y_train, y_valid = train_test_split(features, labels, test_size = 0.2, random_state = 42, stratify = labels)\n",
    "X_train, y_train = features, labels"
   ]
  },
  {
   "cell_type": "markdown",
   "metadata": {},
   "source": [
    "#### impute missing values"
   ]
  },
  {
   "cell_type": "code",
   "execution_count": 21,
   "metadata": {},
   "outputs": [
    {
     "data": {
      "text/html": [
       "<div>\n",
       "<style scoped>\n",
       "    .dataframe tbody tr th:only-of-type {\n",
       "        vertical-align: middle;\n",
       "    }\n",
       "\n",
       "    .dataframe tbody tr th {\n",
       "        vertical-align: top;\n",
       "    }\n",
       "\n",
       "    .dataframe thead th {\n",
       "        text-align: right;\n",
       "    }\n",
       "</style>\n",
       "<table border=\"1\" class=\"dataframe\">\n",
       "  <thead>\n",
       "    <tr style=\"text-align: right;\">\n",
       "      <th></th>\n",
       "      <th>age</th>\n",
       "      <th>sex</th>\n",
       "      <th>edyears</th>\n",
       "      <th>MEM_score</th>\n",
       "      <th>Apoe</th>\n",
       "      <th>1_2</th>\n",
       "      <th>1_3</th>\n",
       "      <th>1_4</th>\n",
       "      <th>1_5</th>\n",
       "      <th>1_6</th>\n",
       "      <th>...</th>\n",
       "      <th>242_243</th>\n",
       "      <th>242_244</th>\n",
       "      <th>242_245</th>\n",
       "      <th>242_246</th>\n",
       "      <th>243_244</th>\n",
       "      <th>243_245</th>\n",
       "      <th>243_246</th>\n",
       "      <th>244_245</th>\n",
       "      <th>244_246</th>\n",
       "      <th>245_246</th>\n",
       "    </tr>\n",
       "  </thead>\n",
       "  <tbody>\n",
       "    <tr>\n",
       "      <th>26</th>\n",
       "      <td>79.0</td>\n",
       "      <td>1.0</td>\n",
       "      <td>13.0</td>\n",
       "      <td>0.719214</td>\n",
       "      <td>NaN</td>\n",
       "      <td>0.797040</td>\n",
       "      <td>0.370490</td>\n",
       "      <td>0.059678</td>\n",
       "      <td>0.218447</td>\n",
       "      <td>-0.122462</td>\n",
       "      <td>...</td>\n",
       "      <td>0.363497</td>\n",
       "      <td>0.231037</td>\n",
       "      <td>0.252773</td>\n",
       "      <td>0.431979</td>\n",
       "      <td>0.552066</td>\n",
       "      <td>0.013893</td>\n",
       "      <td>0.161084</td>\n",
       "      <td>-0.142823</td>\n",
       "      <td>-0.075208</td>\n",
       "      <td>0.666441</td>\n",
       "    </tr>\n",
       "    <tr>\n",
       "      <th>230</th>\n",
       "      <td>69.0</td>\n",
       "      <td>1.0</td>\n",
       "      <td>13.0</td>\n",
       "      <td>0.708661</td>\n",
       "      <td>NaN</td>\n",
       "      <td>0.565332</td>\n",
       "      <td>0.332528</td>\n",
       "      <td>-0.015577</td>\n",
       "      <td>0.527998</td>\n",
       "      <td>0.265987</td>\n",
       "      <td>...</td>\n",
       "      <td>0.575368</td>\n",
       "      <td>0.379398</td>\n",
       "      <td>0.153072</td>\n",
       "      <td>0.188878</td>\n",
       "      <td>0.463371</td>\n",
       "      <td>0.099339</td>\n",
       "      <td>0.027374</td>\n",
       "      <td>0.127089</td>\n",
       "      <td>0.073215</td>\n",
       "      <td>0.146653</td>\n",
       "    </tr>\n",
       "    <tr>\n",
       "      <th>282</th>\n",
       "      <td>70.0</td>\n",
       "      <td>0.0</td>\n",
       "      <td>20.0</td>\n",
       "      <td>0.991131</td>\n",
       "      <td>NaN</td>\n",
       "      <td>0.766746</td>\n",
       "      <td>0.788925</td>\n",
       "      <td>0.356687</td>\n",
       "      <td>0.639079</td>\n",
       "      <td>0.395056</td>\n",
       "      <td>...</td>\n",
       "      <td>0.559600</td>\n",
       "      <td>0.523757</td>\n",
       "      <td>-0.067733</td>\n",
       "      <td>-0.076038</td>\n",
       "      <td>1.023225</td>\n",
       "      <td>-0.154108</td>\n",
       "      <td>-0.135015</td>\n",
       "      <td>-0.031498</td>\n",
       "      <td>0.001101</td>\n",
       "      <td>0.925360</td>\n",
       "    </tr>\n",
       "    <tr>\n",
       "      <th>341</th>\n",
       "      <td>65.0</td>\n",
       "      <td>1.0</td>\n",
       "      <td>13.0</td>\n",
       "      <td>0.633007</td>\n",
       "      <td>NaN</td>\n",
       "      <td>0.180014</td>\n",
       "      <td>0.477626</td>\n",
       "      <td>0.143820</td>\n",
       "      <td>-0.054953</td>\n",
       "      <td>0.315783</td>\n",
       "      <td>...</td>\n",
       "      <td>0.222863</td>\n",
       "      <td>0.351755</td>\n",
       "      <td>-0.137550</td>\n",
       "      <td>0.203394</td>\n",
       "      <td>0.164663</td>\n",
       "      <td>0.234830</td>\n",
       "      <td>0.283645</td>\n",
       "      <td>-0.168066</td>\n",
       "      <td>-0.053491</td>\n",
       "      <td>0.241715</td>\n",
       "    </tr>\n",
       "    <tr>\n",
       "      <th>529</th>\n",
       "      <td>66.0</td>\n",
       "      <td>1.0</td>\n",
       "      <td>16.0</td>\n",
       "      <td>0.636514</td>\n",
       "      <td>NaN</td>\n",
       "      <td>0.599700</td>\n",
       "      <td>0.172902</td>\n",
       "      <td>-0.143808</td>\n",
       "      <td>0.145856</td>\n",
       "      <td>0.150976</td>\n",
       "      <td>...</td>\n",
       "      <td>0.254868</td>\n",
       "      <td>0.230583</td>\n",
       "      <td>-0.153607</td>\n",
       "      <td>-0.086144</td>\n",
       "      <td>0.356617</td>\n",
       "      <td>0.076132</td>\n",
       "      <td>0.228457</td>\n",
       "      <td>-0.031727</td>\n",
       "      <td>-0.084820</td>\n",
       "      <td>0.349648</td>\n",
       "    </tr>\n",
       "  </tbody>\n",
       "</table>\n",
       "<p>5 rows × 30140 columns</p>\n",
       "</div>"
      ],
      "text/plain": [
       "      age  sex  edyears  MEM_score  Apoe       1_2       1_3       1_4  \\\n",
       "26   79.0  1.0     13.0   0.719214   NaN  0.797040  0.370490  0.059678   \n",
       "230  69.0  1.0     13.0   0.708661   NaN  0.565332  0.332528 -0.015577   \n",
       "282  70.0  0.0     20.0   0.991131   NaN  0.766746  0.788925  0.356687   \n",
       "341  65.0  1.0     13.0   0.633007   NaN  0.180014  0.477626  0.143820   \n",
       "529  66.0  1.0     16.0   0.636514   NaN  0.599700  0.172902 -0.143808   \n",
       "\n",
       "          1_5       1_6  ...   242_243   242_244   242_245   242_246  \\\n",
       "26   0.218447 -0.122462  ...  0.363497  0.231037  0.252773  0.431979   \n",
       "230  0.527998  0.265987  ...  0.575368  0.379398  0.153072  0.188878   \n",
       "282  0.639079  0.395056  ...  0.559600  0.523757 -0.067733 -0.076038   \n",
       "341 -0.054953  0.315783  ...  0.222863  0.351755 -0.137550  0.203394   \n",
       "529  0.145856  0.150976  ...  0.254868  0.230583 -0.153607 -0.086144   \n",
       "\n",
       "      243_244   243_245   243_246   244_245   244_246   245_246  \n",
       "26   0.552066  0.013893  0.161084 -0.142823 -0.075208  0.666441  \n",
       "230  0.463371  0.099339  0.027374  0.127089  0.073215  0.146653  \n",
       "282  1.023225 -0.154108 -0.135015 -0.031498  0.001101  0.925360  \n",
       "341  0.164663  0.234830  0.283645 -0.168066 -0.053491  0.241715  \n",
       "529  0.356617  0.076132  0.228457 -0.031727 -0.084820  0.349648  \n",
       "\n",
       "[5 rows x 30140 columns]"
      ]
     },
     "execution_count": 21,
     "metadata": {},
     "output_type": "execute_result"
    }
   ],
   "source": [
    "features[features.isna().any(axis=1)]"
   ]
  },
  {
   "cell_type": "code",
   "execution_count": 34,
   "metadata": {},
   "outputs": [],
   "source": [
    "imp = KNNImputer(missing_values=np.nan, n_neighbors=7)\n",
    "X_train = imp.fit_transform(X_train)\n",
    "#X_valid = imp.transform(X_valid)\n",
    "X_test = imp.transform(X_test)"
   ]
  },
  {
   "cell_type": "markdown",
   "metadata": {},
   "source": [
    "#### Scale Data"
   ]
  },
  {
   "cell_type": "code",
   "execution_count": 35,
   "metadata": {},
   "outputs": [],
   "source": [
    "scaler = StandardScaler()"
   ]
  },
  {
   "cell_type": "code",
   "execution_count": 36,
   "metadata": {},
   "outputs": [],
   "source": [
    "X_train = scaler.fit_transform(X_train)\n",
    "#X_valid = scaler.transform(X_valid)\n",
    "X_test = scaler.transform(X_test)"
   ]
  },
  {
   "cell_type": "markdown",
   "metadata": {},
   "source": [
    "### Fit RF"
   ]
  },
  {
   "cell_type": "code",
   "execution_count": 37,
   "metadata": {},
   "outputs": [
    {
     "data": {
      "text/plain": [
       "RandomForestClassifier(n_estimators=1000, random_state=42)"
      ]
     },
     "execution_count": 37,
     "metadata": {},
     "output_type": "execute_result"
    }
   ],
   "source": [
    "# Instantiate model with 1000 decision trees\n",
    "rf = RandomForestClassifier(n_estimators = 1000, random_state = 42)\n",
    "#rf = RandomForestClassifier(n_estimators = 200, random_state = 42, max_depth = 10, max_features= int(n_features//6))\n",
    "rf.fit(X_train, np.ravel(y_train))"
   ]
  },
  {
   "cell_type": "markdown",
   "metadata": {},
   "source": [
    "### Evaluation"
   ]
  },
  {
   "cell_type": "code",
   "execution_count": 38,
   "metadata": {},
   "outputs": [],
   "source": [
    "predictions = rf.predict(X_test)"
   ]
  },
  {
   "cell_type": "code",
   "execution_count": 39,
   "metadata": {},
   "outputs": [],
   "source": [
    "accuracy = accuracy_score(y_test,predictions)\n",
    "precision = precision_score(y_test,predictions)\n",
    "recall = recall_score(y_test,predictions)\n",
    "f1 = f1_score(y_test,predictions)\n",
    "auc = roc_auc_score(y_test,predictions)"
   ]
  },
  {
   "cell_type": "code",
   "execution_count": 40,
   "metadata": {},
   "outputs": [
    {
     "data": {
      "text/html": [
       "<div>\n",
       "<style scoped>\n",
       "    .dataframe tbody tr th:only-of-type {\n",
       "        vertical-align: middle;\n",
       "    }\n",
       "\n",
       "    .dataframe tbody tr th {\n",
       "        vertical-align: top;\n",
       "    }\n",
       "\n",
       "    .dataframe thead th {\n",
       "        text-align: right;\n",
       "    }\n",
       "</style>\n",
       "<table border=\"1\" class=\"dataframe\">\n",
       "  <thead>\n",
       "    <tr style=\"text-align: right;\">\n",
       "      <th></th>\n",
       "      <th>Accuracy</th>\n",
       "      <th>Precision</th>\n",
       "      <th>Recall</th>\n",
       "      <th>F1</th>\n",
       "      <th>AUC</th>\n",
       "    </tr>\n",
       "  </thead>\n",
       "  <tbody>\n",
       "    <tr>\n",
       "      <th>0</th>\n",
       "      <td>0.534247</td>\n",
       "      <td>0.534247</td>\n",
       "      <td>1.0</td>\n",
       "      <td>0.696429</td>\n",
       "      <td>0.5</td>\n",
       "    </tr>\n",
       "  </tbody>\n",
       "</table>\n",
       "</div>"
      ],
      "text/plain": [
       "   Accuracy  Precision  Recall        F1  AUC\n",
       "0  0.534247   0.534247     1.0  0.696429  0.5"
      ]
     },
     "execution_count": 40,
     "metadata": {},
     "output_type": "execute_result"
    }
   ],
   "source": [
    "pd.DataFrame({\"Accuracy\":[accuracy], \"Precision\":[precision], \"Recall\": [recall], \"F1\":[f1], \"AUC\":[auc]})"
   ]
  },
  {
   "cell_type": "code",
   "execution_count": 41,
   "metadata": {},
   "outputs": [
    {
     "data": {
      "text/plain": [
       "<sklearn.metrics._plot.confusion_matrix.ConfusionMatrixDisplay at 0x1839f9c1400>"
      ]
     },
     "execution_count": 41,
     "metadata": {},
     "output_type": "execute_result"
    },
    {
     "data": {
      "image/png": "[encoded data removed]",
      "text/plain": [
       "<Figure size 432x288 with 2 Axes>"
      ]
     },
     "metadata": {
      "needs_background": "light"
     },
     "output_type": "display_data"
    }
   ],
   "source": [
    "plot_confusion_matrix(rf, X_test, y_test)  "
   ]
  },
  {
   "cell_type": "code",
   "execution_count": 42,
   "metadata": {},
   "outputs": [],
   "source": [
    "importances = list(rf.feature_importances_)"
   ]
  },
  {
   "cell_type": "code",
   "execution_count": 43,
   "metadata": {},
   "outputs": [
    {
     "name": "stdout",
     "output_type": "stream",
     "text": [
      "Variable: MEM_score            Importance: 0.0119393982\n",
      "Variable: 13_22                Importance: 0.0014009444\n",
      "Variable: 5_217                Importance: 0.0012117094\n",
      "Variable: 147_243              Importance: 0.0011071599\n",
      "Variable: 56_163               Importance: 0.0011061234\n",
      "Variable: 41_218               Importance: 0.0010479544\n",
      "Variable: 126_246              Importance: 0.0009892469\n",
      "Variable: 9_171                Importance: 0.0009828584\n",
      "Variable: 13_217               Importance: 0.0009773255\n",
      "Variable: 193_227              Importance: 0.0009138871\n"
     ]
    },
    {
     "data": {
      "text/plain": [
       "[None, None, None, None, None, None, None, None, None, None]"
      ]
     },
     "execution_count": 43,
     "metadata": {},
     "output_type": "execute_result"
    }
   ],
   "source": [
    "feature_list = list(features.columns)\n",
    "\n",
    "feature_importances = [(feature, round(importance, 10)) for feature, importance in zip(feature_list, importances)]\n",
    "feature_importances = sorted(feature_importances, key = lambda x: x[1], reverse = True)\n",
    "# Print out the feature and importances \n",
    "[print('Variable: {:20} Importance: {}'.format(*pair)) for pair in feature_importances[:10]]"
   ]
  },
  {
   "cell_type": "markdown",
   "metadata": {},
   "source": [
    "## Logistic Regression"
   ]
  },
  {
   "cell_type": "code",
   "execution_count": 29,
   "metadata": {},
   "outputs": [],
   "source": [
    "logreg = LogisticRegression(penalty = 'elasticnet', solver = 'saga')"
   ]
  },
  {
   "cell_type": "code",
   "execution_count": 30,
   "metadata": {},
   "outputs": [],
   "source": [
    "params_grid = {\n",
    "                 'l1_ratio': np.linspace(0,  1, 11)\n",
    "             }"
   ]
  },
  {
   "cell_type": "code",
   "execution_count": 31,
   "metadata": {},
   "outputs": [],
   "source": [
    "grid_clf =  GridSearchCV(estimator = logreg, param_grid = params_grid, n_jobs = -1, cv = 10, verbose=3)"
   ]
  },
  {
   "cell_type": "code",
   "execution_count": 32,
   "metadata": {},
   "outputs": [
    {
     "name": "stdout",
     "output_type": "stream",
     "text": [
      "Fitting 10 folds for each of 11 candidates, totalling 110 fits\n"
     ]
    },
    {
     "name": "stderr",
     "output_type": "stream",
     "text": [
      "[Parallel(n_jobs=-1)]: Using backend LokyBackend with 8 concurrent workers.\n",
      "[Parallel(n_jobs=-1)]: Done  16 tasks      | elapsed:   26.0s\n",
      "[Parallel(n_jobs=-1)]: Done 110 out of 110 | elapsed:  4.7min finished\n",
      "C:\\ProgramData\\Anaconda3\\lib\\site-packages\\sklearn\\linear_model\\_sag.py:329: ConvergenceWarning: The max_iter was reached which means the coef_ did not converge\n",
      "  warnings.warn(\"The max_iter was reached which means \"\n"
     ]
    },
    {
     "data": {
      "text/plain": [
       "GridSearchCV(cv=10,\n",
       "             estimator=LogisticRegression(penalty='elasticnet', solver='saga'),\n",
       "             n_jobs=-1,\n",
       "             param_grid={'l1_ratio': array([0. , 0.1, 0.2, 0.3, 0.4, 0.5, 0.6, 0.7, 0.8, 0.9, 1. ])},\n",
       "             verbose=3)"
      ]
     },
     "execution_count": 32,
     "metadata": {},
     "output_type": "execute_result"
    }
   ],
   "source": [
    "grid_clf.fit(X_train, y_train)\n"
   ]
  },
  {
   "cell_type": "code",
   "execution_count": 30,
   "metadata": {},
   "outputs": [
    {
     "data": {
      "text/plain": [
       "LogisticRegression(C=1.0, class_weight=None, dual=False, fit_intercept=True,\n",
       "                   intercept_scaling=1, l1_ratio=0.0, max_iter=100,\n",
       "                   multi_class='auto', n_jobs=None, penalty='elasticnet',\n",
       "                   random_state=None, solver='saga', tol=0.0001, verbose=0,\n",
       "                   warm_start=False)"
      ]
     },
     "execution_count": 30,
     "metadata": {},
     "output_type": "execute_result"
    }
   ],
   "source": [
    "grid_clf.best_estimator_"
   ]
  },
  {
   "cell_type": "code",
   "execution_count": 31,
   "metadata": {},
   "outputs": [
    {
     "data": {
      "text/plain": [
       "{'l1_ratio': 0.0}"
      ]
     },
     "execution_count": 31,
     "metadata": {},
     "output_type": "execute_result"
    }
   ],
   "source": [
    "grid_clf. best_params_"
   ]
  },
  {
   "cell_type": "code",
   "execution_count": 44,
   "metadata": {},
   "outputs": [],
   "source": [
    "logreg = LogisticRegression(penalty = 'l2', solver = 'lbfgs')\n",
    "logreg.fit(X_train, y_train)\n",
    "predictions = logreg.predict(X_test)"
   ]
  },
  {
   "cell_type": "code",
   "execution_count": 45,
   "metadata": {},
   "outputs": [],
   "source": [
    "accuracy = accuracy_score(y_test,predictions)\n",
    "precision = precision_score(y_test,predictions)\n",
    "recall = recall_score(y_test,predictions)\n",
    "f1 = f1_score(y_test,predictions)\n",
    "auc = roc_auc_score(y_test,predictions)"
   ]
  },
  {
   "cell_type": "code",
   "execution_count": 46,
   "metadata": {},
   "outputs": [
    {
     "data": {
      "text/html": [
       "<div>\n",
       "<style scoped>\n",
       "    .dataframe tbody tr th:only-of-type {\n",
       "        vertical-align: middle;\n",
       "    }\n",
       "\n",
       "    .dataframe tbody tr th {\n",
       "        vertical-align: top;\n",
       "    }\n",
       "\n",
       "    .dataframe thead th {\n",
       "        text-align: right;\n",
       "    }\n",
       "</style>\n",
       "<table border=\"1\" class=\"dataframe\">\n",
       "  <thead>\n",
       "    <tr style=\"text-align: right;\">\n",
       "      <th></th>\n",
       "      <th>Accuracy</th>\n",
       "      <th>Precision</th>\n",
       "      <th>Recall</th>\n",
       "      <th>F1</th>\n",
       "      <th>AUC</th>\n",
       "    </tr>\n",
       "  </thead>\n",
       "  <tbody>\n",
       "    <tr>\n",
       "      <th>0</th>\n",
       "      <td>0.671233</td>\n",
       "      <td>0.674419</td>\n",
       "      <td>0.74359</td>\n",
       "      <td>0.707317</td>\n",
       "      <td>0.665913</td>\n",
       "    </tr>\n",
       "  </tbody>\n",
       "</table>\n",
       "</div>"
      ],
      "text/plain": [
       "   Accuracy  Precision   Recall        F1       AUC\n",
       "0  0.671233   0.674419  0.74359  0.707317  0.665913"
      ]
     },
     "execution_count": 46,
     "metadata": {},
     "output_type": "execute_result"
    }
   ],
   "source": [
    "pd.DataFrame({\"Accuracy\":[accuracy], \"Precision\":[precision], \"Recall\": [recall], \"F1\":[f1], \"AUC\":[auc]})"
   ]
  },
  {
   "cell_type": "code",
   "execution_count": 47,
   "metadata": {},
   "outputs": [
    {
     "data": {
      "text/plain": [
       "<sklearn.metrics._plot.confusion_matrix.ConfusionMatrixDisplay at 0x1839f98ac40>"
      ]
     },
     "execution_count": 47,
     "metadata": {},
     "output_type": "execute_result"
    },
    {
     "data": {
      "image/png": "[encoded data removed]",
      "text/plain": [
       "<Figure size 432x288 with 2 Axes>"
      ]
     },
     "metadata": {
      "needs_background": "light"
     },
     "output_type": "display_data"
    }
   ],
   "source": [
    "plot_confusion_matrix(logreg, X_test, y_test)  "
   ]
  },
  {
   "cell_type": "markdown",
   "metadata": {},
   "source": [
    "### PCA Pipeline - Test"
   ]
  },
  {
   "cell_type": "code",
   "execution_count": 48,
   "metadata": {},
   "outputs": [],
   "source": [
    "pipeline = Pipeline([\n",
    "    ('KNN_Impute', KNNImputer(missing_values=np.nan, n_neighbors=7)),\n",
    "    ('scale', StandardScaler()),\n",
    "    ('PCA', PCA(n_components = .95)),\n",
    "])\n"
   ]
  },
  {
   "cell_type": "code",
   "execution_count": 49,
   "metadata": {},
   "outputs": [],
   "source": [
    "X_train = pipeline.fit_transform(X_train)"
   ]
  },
  {
   "cell_type": "code",
   "execution_count": 50,
   "metadata": {},
   "outputs": [],
   "source": [
    "X_test = pipeline.transform(X_test)"
   ]
  },
  {
   "cell_type": "code",
   "execution_count": 51,
   "metadata": {},
   "outputs": [
    {
     "data": {
      "text/plain": [
       "True"
      ]
     },
     "execution_count": 51,
     "metadata": {},
     "output_type": "execute_result"
    }
   ],
   "source": [
    "X_train.shape[1] == X_test.shape[1]"
   ]
  },
  {
   "cell_type": "code",
   "execution_count": 43,
   "metadata": {},
   "outputs": [],
   "source": [
    "logreg = LogisticRegression(penalty = 'elasticnet', solver = 'saga')"
   ]
  },
  {
   "cell_type": "code",
   "execution_count": 47,
   "metadata": {},
   "outputs": [],
   "source": [
    "params_grid = {\n",
    "                 'l1_ratio': np.linspace(0,  1, 11)\n",
    "             }"
   ]
  },
  {
   "cell_type": "code",
   "execution_count": 48,
   "metadata": {},
   "outputs": [],
   "source": [
    "grd_search = GridSearchCV(estimator = logreg, param_grid = params_grid, n_jobs = -1, cv = 10, verbose=3)"
   ]
  },
  {
   "cell_type": "code",
   "execution_count": 49,
   "metadata": {},
   "outputs": [
    {
     "name": "stdout",
     "output_type": "stream",
     "text": [
      "Fitting 10 folds for each of 11 candidates, totalling 110 fits\n"
     ]
    },
    {
     "name": "stderr",
     "output_type": "stream",
     "text": [
      "[Parallel(n_jobs=-1)]: Using backend LokyBackend with 12 concurrent workers.\n",
      "[Parallel(n_jobs=-1)]: Done   8 tasks      | elapsed:    1.2s\n",
      "[Parallel(n_jobs=-1)]: Done 110 out of 110 | elapsed:    2.3s finished\n",
      "C:\\ProgramData\\Anaconda3\\lib\\site-packages\\sklearn\\linear_model\\_sag.py:330: ConvergenceWarning: The max_iter was reached which means the coef_ did not converge\n",
      "  \"the coef_ did not converge\", ConvergenceWarning)\n"
     ]
    },
    {
     "data": {
      "text/plain": [
       "GridSearchCV(cv=10, error_score=nan,\n",
       "             estimator=LogisticRegression(C=1.0, class_weight=None, dual=False,\n",
       "                                          fit_intercept=True,\n",
       "                                          intercept_scaling=1, l1_ratio=None,\n",
       "                                          max_iter=100, multi_class='auto',\n",
       "                                          n_jobs=None, penalty='elasticnet',\n",
       "                                          random_state=None, solver='saga',\n",
       "                                          tol=0.0001, verbose=0,\n",
       "                                          warm_start=False),\n",
       "             iid='deprecated', n_jobs=-1,\n",
       "             param_grid={'l1_ratio': array([0. , 0.1, 0.2, 0.3, 0.4, 0.5, 0.6, 0.7, 0.8, 0.9, 1. ])},\n",
       "             pre_dispatch='2*n_jobs', refit=True, return_train_score=False,\n",
       "             scoring=None, verbose=3)"
      ]
     },
     "execution_count": 49,
     "metadata": {},
     "output_type": "execute_result"
    }
   ],
   "source": [
    "grd_search.fit(X_train, y_train)"
   ]
  },
  {
   "cell_type": "code",
   "execution_count": 50,
   "metadata": {},
   "outputs": [
    {
     "data": {
      "text/plain": [
       "{'l1_ratio': 0.9}"
      ]
     },
     "execution_count": 50,
     "metadata": {},
     "output_type": "execute_result"
    }
   ],
   "source": [
    "grd_search.best_params_"
   ]
  },
  {
   "cell_type": "code",
   "execution_count": 55,
   "metadata": {},
   "outputs": [],
   "source": [
    "logreg = LogisticRegression(penalty = 'elasticnet', solver = 'saga', l1_ratio = .9)"
   ]
  },
  {
   "cell_type": "code",
   "execution_count": 56,
   "metadata": {},
   "outputs": [
    {
     "name": "stderr",
     "output_type": "stream",
     "text": [
      "C:\\ProgramData\\Anaconda3\\lib\\site-packages\\sklearn\\linear_model\\_sag.py:330: ConvergenceWarning: The max_iter was reached which means the coef_ did not converge\n",
      "  \"the coef_ did not converge\", ConvergenceWarning)\n"
     ]
    },
    {
     "data": {
      "text/plain": [
       "LogisticRegression(C=1.0, class_weight=None, dual=False, fit_intercept=True,\n",
       "                   intercept_scaling=1, l1_ratio=0.9, max_iter=100,\n",
       "                   multi_class='auto', n_jobs=None, penalty='elasticnet',\n",
       "                   random_state=None, solver='saga', tol=0.0001, verbose=0,\n",
       "                   warm_start=False)"
      ]
     },
     "execution_count": 56,
     "metadata": {},
     "output_type": "execute_result"
    }
   ],
   "source": [
    "logreg.fit(X_train, y_train)"
   ]
  },
  {
   "cell_type": "code",
   "execution_count": 57,
   "metadata": {},
   "outputs": [
    {
     "data": {
      "text/plain": [
       "RandomForestClassifier(bootstrap=True, ccp_alpha=0.0, class_weight=None,\n",
       "                       criterion='gini', max_depth=None, max_features='auto',\n",
       "                       max_leaf_nodes=None, max_samples=None,\n",
       "                       min_impurity_decrease=0.0, min_impurity_split=None,\n",
       "                       min_samples_leaf=1, min_samples_split=2,\n",
       "                       min_weight_fraction_leaf=0.0, n_estimators=500,\n",
       "                       n_jobs=None, oob_score=False, random_state=42, verbose=0,\n",
       "                       warm_start=False)"
      ]
     },
     "execution_count": 57,
     "metadata": {},
     "output_type": "execute_result"
    }
   ],
   "source": [
    "# Instantiate model with 1000 decision trees\n",
    "rf = RandomForestClassifier(n_estimators = 500, random_state = 42)\n",
    "rf.fit(X_train, y_train)"
   ]
  },
  {
   "cell_type": "code",
   "execution_count": 58,
   "metadata": {},
   "outputs": [],
   "source": [
    "log_pred = logreg.predict(X_test)\n",
    "rf_pred = rf.predict(X_test)"
   ]
  },
  {
   "cell_type": "code",
   "execution_count": 60,
   "metadata": {},
   "outputs": [],
   "source": [
    "model = ['LogReg', 'RF']\n",
    "accuracy = []\n",
    "precision = []\n",
    "recall = []\n",
    "f1 = []\n",
    "auc =  []"
   ]
  },
  {
   "cell_type": "code",
   "execution_count": 61,
   "metadata": {},
   "outputs": [
    {
     "name": "stderr",
     "output_type": "stream",
     "text": [
      "C:\\ProgramData\\Anaconda3\\lib\\site-packages\\sklearn\\metrics\\_classification.py:1272: UndefinedMetricWarning: Precision is ill-defined and being set to 0.0 due to no predicted samples. Use `zero_division` parameter to control this behavior.\n",
      "  _warn_prf(average, modifier, msg_start, len(result))\n"
     ]
    }
   ],
   "source": [
    "#logreg\n",
    "accuracy.append(accuracy_score(y_test,log_pred))\n",
    "precision.append(precision_score(y_test,log_pred))\n",
    "recall.append(recall_score(y_test,log_pred))\n",
    "f1.append(f1_score(y_test,log_pred))\n",
    "auc.append(roc_auc_score(y_test,log_pred))\n",
    "#rf\n",
    "accuracy.append(accuracy_score(y_test,rf_pred))\n",
    "precision.append(precision_score(y_test,rf_pred))\n",
    "recall.append(recall_score(y_test,rf_pred))\n",
    "f1.append(f1_score(y_test,rf_pred))\n",
    "auc.append(roc_auc_score(y_test,rf_pred))"
   ]
  },
  {
   "cell_type": "code",
   "execution_count": 64,
   "metadata": {},
   "outputs": [
    {
     "data": {
      "text/html": [
       "<div>\n",
       "<style scoped>\n",
       "    .dataframe tbody tr th:only-of-type {\n",
       "        vertical-align: middle;\n",
       "    }\n",
       "\n",
       "    .dataframe tbody tr th {\n",
       "        vertical-align: top;\n",
       "    }\n",
       "\n",
       "    .dataframe thead th {\n",
       "        text-align: right;\n",
       "    }\n",
       "</style>\n",
       "<table border=\"1\" class=\"dataframe\">\n",
       "  <thead>\n",
       "    <tr style=\"text-align: right;\">\n",
       "      <th></th>\n",
       "      <th>Model</th>\n",
       "      <th>Accuracy</th>\n",
       "      <th>Precision</th>\n",
       "      <th>Recall</th>\n",
       "      <th>F1</th>\n",
       "      <th>AUC</th>\n",
       "    </tr>\n",
       "  </thead>\n",
       "  <tbody>\n",
       "    <tr>\n",
       "      <th>0</th>\n",
       "      <td>LogReg</td>\n",
       "      <td>0.666667</td>\n",
       "      <td>0.555556</td>\n",
       "      <td>0.652174</td>\n",
       "      <td>0.6</td>\n",
       "      <td>0.663925</td>\n",
       "    </tr>\n",
       "    <tr>\n",
       "      <th>1</th>\n",
       "      <td>RF</td>\n",
       "      <td>0.616667</td>\n",
       "      <td>0.000000</td>\n",
       "      <td>0.000000</td>\n",
       "      <td>0.0</td>\n",
       "      <td>0.500000</td>\n",
       "    </tr>\n",
       "  </tbody>\n",
       "</table>\n",
       "</div>"
      ],
      "text/plain": [
       "    Model  Accuracy  Precision    Recall   F1       AUC\n",
       "0  LogReg  0.666667   0.555556  0.652174  0.6  0.663925\n",
       "1      RF  0.616667   0.000000  0.000000  0.0  0.500000"
      ]
     },
     "execution_count": 64,
     "metadata": {},
     "output_type": "execute_result"
    }
   ],
   "source": [
    "pd.DataFrame({'Model': model, \"Accuracy\": accuracy, \"Precision\": precision, \"Recall\": recall, \"F1\":f1, \"AUC\":auc})"
   ]
  },
  {
   "cell_type": "code",
   "execution_count": 65,
   "metadata": {},
   "outputs": [
    {
     "data": {
      "text/plain": [
       "<sklearn.metrics._plot.confusion_matrix.ConfusionMatrixDisplay at 0x18d0253fa08>"
      ]
     },
     "execution_count": 65,
     "metadata": {},
     "output_type": "execute_result"
    },
    {
     "data": {
      "image/png": "[encoded data removed]",
      "text/plain": [
       "<Figure size 432x288 with 2 Axes>"
      ]
     },
     "metadata": {
      "needs_background": "light"
     },
     "output_type": "display_data"
    }
   ],
   "source": [
    "plot_confusion_matrix(logreg, X_test, y_test)  "
   ]
  },
  {
   "cell_type": "code",
   "execution_count": 66,
   "metadata": {},
   "outputs": [
    {
     "data": {
      "text/plain": [
       "<sklearn.metrics._plot.confusion_matrix.ConfusionMatrixDisplay at 0x18d1b5dddc8>"
      ]
     },
     "execution_count": 66,
     "metadata": {},
     "output_type": "execute_result"
    },
    {
     "data": {
      "image/png": "[encoded data removed]",
      "text/plain": [
       "<Figure size 432x288 with 2 Axes>"
      ]
     },
     "metadata": {
      "needs_background": "light"
     },
     "output_type": "display_data"
    }
   ],
   "source": [
    "plot_confusion_matrix(rf, X_test, y_test)  "
   ]
  },
  {
   "cell_type": "code",
   "execution_count": null,
   "metadata": {},
   "outputs": [],
   "source": []
  }
 ],
 "metadata": {
  "kernelspec": {
   "display_name": "Python 3",
   "language": "python",
   "name": "python3"
  },
  "language_info": {
   "codemirror_mode": {
    "name": "ipython",
    "version": 3
   },
   "file_extension": ".py",
   "mimetype": "text/x-python",
   "name": "python",
   "nbconvert_exporter": "python",
   "pygments_lexer": "ipython3",
   "version": "3.8.5"
  }
 },
 "nbformat": 4,
 "nbformat_minor": 4
}
