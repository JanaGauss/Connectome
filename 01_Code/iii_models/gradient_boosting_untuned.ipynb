{
 "cells": [
  {
   "cell_type": "code",
   "execution_count": 1,
   "metadata": {},
   "outputs": [],
   "source": [
    "import numpy as np\n",
    "import pandas as pd\n",
    "import h5py\n",
    "import xgboost as xgb\n",
    "import seaborn as sns\n",
    "import matplotlib.pyplot as plt\n",
    "\n",
    "from sklearn.impute import KNNImputer\n",
    "from sklearn.model_selection import train_test_split, GridSearchCV\n",
    "from sklearn.preprocessing import StandardScaler\n",
    "from sklearn.decomposition import PCA\n",
    "from sklearn.metrics import accuracy_score, precision_score, \\\n",
    "    recall_score, f1_score, roc_auc_score, plot_confusion_matrix, confusion_matrix\n",
    "from sklearn.pipeline import Pipeline\n",
    "from sklearn.model_selection import cross_val_score\n",
    "from sklearn.model_selection import RepeatedStratifiedKFold\n",
    "\n",
    "\n",
    "def plot_av_data(dataset: pd.DataFrame, cols: int = 20) -> None:\n",
    "    sns.heatmap(dataset.iloc[:, 0:cols].isnull())\n",
    "    plt.show()\n",
    "\n",
    "\n",
    "def load_data(train: bool = True) -> pd.DataFrame:\n",
    "    if train:\n",
    "        ds = \"train\"\n",
    "    else:\n",
    "        ds = \"test\"\n",
    "\n",
    "    path = input(r\"Input path to {} dataset (with name + .csv): \".format(ds))\n",
    "\n",
    "    return pd.read_csv(path)\n",
    "\n",
    "\n",
    "def preprocess_data(dataset: pd.DataFrame) -> tuple:\n",
    "    create_target(dataset)\n",
    "    df = drop_cases(dataset)\n",
    "    df = drop_cols(df)\n",
    "    return split_target_data(df)\n",
    "\n",
    "\n",
    "def create_target(dataset: pd.DataFrame) -> None:\n",
    "    \"\"\"\n",
    "    This function creates the target variable based on the prmdiag column\n",
    "\n",
    "    Args:\n",
    "        dataset: The dataset for which the target variable should be created\n",
    "\n",
    "    Returns:\n",
    "        None\n",
    "\n",
    "    Raises:\n",
    "        KeyError: ...\n",
    "    \"\"\"\n",
    "    dataset[\"target\"] = np.where((dataset['prmdiag'] == 2) | (dataset['prmdiag'] == 3), 1, 0)\n",
    "\n",
    "\n",
    "def drop_cases(dataset: pd.DataFrame) -> pd.DataFrame:\n",
    "    \"\"\"\n",
    "    Drops the observations of variable prmdiag with value 1 or 4\n",
    "\n",
    "    Args:\n",
    "        dataset: dataset on which the obs. should be dropped\n",
    "\n",
    "    Returns:\n",
    "        None\n",
    "\n",
    "    Raises:\n",
    "        KeyError: ...\n",
    "    \"\"\"\n",
    "    return dataset.drop(dataset[(dataset[\"prmdiag\"] == 1) | (dataset[\"prmdiag\"] == 4)].index)\n",
    "\n",
    "\n",
    "def drop_cols(dataset: pd.DataFrame, cols: set = ('ConnID', 'Repseudonym',\n",
    "                                                  'siteid', 'visdat', 'IDs', \"prmdiag\")) -> pd.DataFrame:\n",
    "    \"\"\"\n",
    "    Drops the columns which are not needed for further modelling\n",
    "\n",
    "    Args:\n",
    "        dataset: dataset on which the cols should be dropped\n",
    "        cols:\n",
    "\n",
    "    Returns:\n",
    "        None\n",
    "\n",
    "    Raises:\n",
    "        KeyError: ...\n",
    "    \"\"\"\n",
    "    return dataset.drop(columns=list(cols))\n",
    "\n",
    "\n",
    "def split_target_data(dataset: pd.DataFrame) -> tuple:\n",
    "    \"\"\"\n",
    "    splits the given dataset into target variable and features\n",
    "\n",
    "    Args:\n",
    "        dataset:\n",
    "\n",
    "    Returns:\n",
    "        None\n",
    "    \"\"\"\n",
    "\n",
    "    y, x = dataset[\"target\"], dataset.drop(columns=\"target\")\n",
    "    return y, x\n",
    "\n",
    "\n",
    "def pred_evaluation(true: np.ndarray, preds: np.ndarray,\n",
    "                    model: str = \"Model\") -> pd.DataFrame:\n",
    "    \"\"\"\n",
    "    evaluates the given predictions\n",
    "\n",
    "    Args:\n",
    "        true:\n",
    "        preds:\n",
    "        model:\n",
    "\n",
    "    Returns:\n",
    "        Pandas Dataframe with several evaluation metrics\n",
    "\n",
    "    Raises:\n",
    "        KeyError: ...\n",
    "    \"\"\"\n",
    "\n",
    "    accuracy = accuracy_score(true, preds)\n",
    "    precision = precision_score(true, preds)\n",
    "    recall = recall_score(true, preds)\n",
    "    f1 = f1_score(true, preds)\n",
    "    auc = roc_auc_score(true, preds)\n",
    "\n",
    "    res = pd.DataFrame({\"Accuracy\": [accuracy],\n",
    "                        \"Precision\": [precision],\n",
    "                        \"Recall\": [recall],\n",
    "                        \"F1\": [f1],\n",
    "                        \"AUC\": [auc]})\n",
    "    res.index = list(model) * len(res)\n",
    "    return res\n"
   ]
  },
  {
   "cell_type": "code",
   "execution_count": 2,
   "metadata": {},
   "outputs": [
    {
     "name": "stdout",
     "output_type": "stream",
     "text": [
      "Input path to train dataset (with name + .csv): C:\\Users\\leosc\\OneDrive\\Desktop\\WiSe 21-22\\Innolab\\Test\\train.csv\n",
      "Input path to test dataset (with name + .csv): C:\\Users\\leosc\\OneDrive\\Desktop\\WiSe 21-22\\Innolab\\Test\\test.csv\n",
      "Index(['ConnID', 'Repseudonym', 'siteid', 'age', 'visdat', 'sex', 'prmdiag',\n",
      "       'edyears', 'MEM_score', 'Apoe', 'IDs', '1_2'],\n",
      "      dtype='object')\n",
      "Wall time: 1min 4s\n"
     ]
    },
    {
     "data": {
      "text/plain": [
       "1    283\n",
       "0    181\n",
       "2    124\n",
       "3     80\n",
       "4     59\n",
       "Name: prmdiag, dtype: int64"
      ]
     },
     "execution_count": 2,
     "metadata": {},
     "output_type": "execute_result"
    }
   ],
   "source": [
    "%%time\n",
    "train = load_data(True)\n",
    "test = load_data(False)\n",
    "print(train.columns[:12])\n",
    "train['prmdiag'].value_counts()\n",
    "#plot_av_data(train)"
   ]
  },
  {
   "cell_type": "code",
   "execution_count": 3,
   "metadata": {},
   "outputs": [],
   "source": [
    "y, X = preprocess_data(train)"
   ]
  },
  {
   "cell_type": "code",
   "execution_count": 4,
   "metadata": {},
   "outputs": [
    {
     "name": "stdout",
     "output_type": "stream",
     "text": [
      "column names: \t ['ConnID', 'Repseudonym', 'siteid', 'age', 'visdat', 'sex', 'prmdiag', 'edyears', 'MEM_score', 'Apoe', 'IDs', '1_2']\n",
      "shape:\t (727, 30147)\n",
      "prevalence:               52.99%\n"
     ]
    }
   ],
   "source": [
    "print(\"column names: \\t\",list(train.columns[:12]))\n",
    "print(\"shape:\\t\",train.shape)\n",
    "print(\"prevalence:{:20.2f}%\".format(y.mean()*100))\n",
    "#looking at mean and sd of connectivity values based on target variable\n",
    "#print(train.iloc[:,12:].groupby(\"target\").mean().mean(axis = 1))\n",
    "#print(train.iloc[:,12:].groupby(\"target\").std().mean(axis = 1))\n"
   ]
  },
  {
   "cell_type": "code",
   "execution_count": 5,
   "metadata": {},
   "outputs": [],
   "source": [
    "xg_class = xgb.XGBClassifier()"
   ]
  },
  {
   "cell_type": "code",
   "execution_count": 6,
   "metadata": {},
   "outputs": [
    {
     "name": "stdout",
     "output_type": "stream",
     "text": [
      "CV Accuracy: 0.89\n",
      "Wall time: 5min 37s\n"
     ]
    }
   ],
   "source": [
    "%%time\n",
    "cv = RepeatedStratifiedKFold(n_splits=10, n_repeats=3, random_state=123)\n",
    "n_scores = cross_val_score(xg_class, X, y, scoring='accuracy', cv=cv, n_jobs=-1, error_score='raise')\n",
    "print(\"CV Accuracy: {:.2f}\".format(n_scores.mean()))"
   ]
  },
  {
   "cell_type": "code",
   "execution_count": 7,
   "metadata": {},
   "outputs": [
    {
     "name": "stdout",
     "output_type": "stream",
     "text": [
      "[0.87179487 0.84615385 0.87179487 0.84615385 0.8974359  0.89473684\n",
      " 0.89473684 0.86842105 0.97368421 0.92105263]\n"
     ]
    }
   ],
   "source": [
    "print(n_scores)"
   ]
  },
  {
   "cell_type": "code",
   "execution_count": 14,
   "metadata": {},
   "outputs": [
    {
     "data": {
      "text/plain": [
       "[0.8164265325547831, 0.9607664499013572]"
      ]
     },
     "execution_count": 14,
     "metadata": {},
     "output_type": "execute_result"
    }
   ],
   "source": [
    "apprx_int = [n_scores.mean() - 2*np.std(n_scores), n_scores.mean() + 2*np.std(n_scores)] \n",
    "apprx_int"
   ]
  },
  {
   "cell_type": "code",
   "execution_count": 8,
   "metadata": {},
   "outputs": [
    {
     "name": "stderr",
     "output_type": "stream",
     "text": [
      "C:\\Users\\leosc\\Anaconda3\\lib\\site-packages\\xgboost\\sklearn.py:1224: UserWarning: The use of label encoder in XGBClassifier is deprecated and will be removed in a future release. To remove this warning, do the following: 1) Pass option use_label_encoder=False when constructing XGBClassifier object; and 2) Encode your labels (y) as integers starting with 0, i.e. 0, 1, 2, ..., [num_class - 1].\n",
      "  warnings.warn(label_encoder_deprecation_msg, UserWarning)\n"
     ]
    },
    {
     "name": "stdout",
     "output_type": "stream",
     "text": [
      "[16:29:08] WARNING: C:/Users/Administrator/workspace/xgboost-win64_release_1.5.0/src/learner.cc:1115: Starting in XGBoost 1.3.0, the default evaluation metric used with the objective 'binary:logistic' was changed from 'error' to 'logloss'. Explicitly set eval_metric if you'd like to restore the old behavior.\n",
      "Wall time: 49.4 s\n"
     ]
    },
    {
     "data": {
      "text/plain": [
       "XGBClassifier(base_score=0.5, booster='gbtree', colsample_bylevel=1,\n",
       "              colsample_bynode=1, colsample_bytree=1, enable_categorical=False,\n",
       "              gamma=0, gpu_id=-1, importance_type=None,\n",
       "              interaction_constraints='', learning_rate=0.300000012,\n",
       "              max_delta_step=0, max_depth=6, min_child_weight=1, missing=nan,\n",
       "              monotone_constraints='()', n_estimators=100, n_jobs=4,\n",
       "              num_parallel_tree=1, predictor='auto', random_state=0,\n",
       "              reg_alpha=0, reg_lambda=1, scale_pos_weight=1, subsample=1,\n",
       "              tree_method='exact', validate_parameters=1, verbosity=None)"
      ]
     },
     "execution_count": 8,
     "metadata": {},
     "output_type": "execute_result"
    }
   ],
   "source": [
    "%%time\n",
    "xg_class.fit(X, y)"
   ]
  },
  {
   "cell_type": "code",
   "execution_count": 9,
   "metadata": {},
   "outputs": [],
   "source": [
    "y_test, X_test = preprocess_data(test)"
   ]
  },
  {
   "cell_type": "code",
   "execution_count": 10,
   "metadata": {},
   "outputs": [
    {
     "name": "stdout",
     "output_type": "stream",
     "text": [
      "Confusion Matrix:\n",
      " [[35  2]\n",
      " [ 3 45]]\n",
      "Accuracy:\n",
      " 0.9411764705882353\n"
     ]
    }
   ],
   "source": [
    "y_pred = xg_class.predict(X_test)\n",
    "cm = confusion_matrix(y_test,y_pred)\n",
    "print(\"Confusion Matrix:\\n\",cm)\n",
    "print(\"Accuracy:\\n\", 1-np.sum(np.abs(y_pred - y_test))/len(y_test))"
   ]
  },
  {
   "cell_type": "code",
   "execution_count": 11,
   "metadata": {},
   "outputs": [
    {
     "data": {
      "text/html": [
       "<div>\n",
       "<style scoped>\n",
       "    .dataframe tbody tr th:only-of-type {\n",
       "        vertical-align: middle;\n",
       "    }\n",
       "\n",
       "    .dataframe tbody tr th {\n",
       "        vertical-align: top;\n",
       "    }\n",
       "\n",
       "    .dataframe thead th {\n",
       "        text-align: right;\n",
       "    }\n",
       "</style>\n",
       "<table border=\"1\" class=\"dataframe\">\n",
       "  <thead>\n",
       "    <tr style=\"text-align: right;\">\n",
       "      <th></th>\n",
       "      <th>Accuracy</th>\n",
       "      <th>Precision</th>\n",
       "      <th>Recall</th>\n",
       "      <th>F1</th>\n",
       "      <th>AUC</th>\n",
       "    </tr>\n",
       "  </thead>\n",
       "  <tbody>\n",
       "    <tr>\n",
       "      <th>XGBoost</th>\n",
       "      <td>0.941176</td>\n",
       "      <td>0.957447</td>\n",
       "      <td>0.9375</td>\n",
       "      <td>0.947368</td>\n",
       "      <td>0.941723</td>\n",
       "    </tr>\n",
       "  </tbody>\n",
       "</table>\n",
       "</div>"
      ],
      "text/plain": [
       "         Accuracy  Precision  Recall        F1       AUC\n",
       "XGBoost  0.941176   0.957447  0.9375  0.947368  0.941723"
      ]
     },
     "execution_count": 11,
     "metadata": {},
     "output_type": "execute_result"
    }
   ],
   "source": [
    "pred_evaluation(y_test, y_pred, [\"XGBoost\"])"
   ]
  },
  {
   "cell_type": "code",
   "execution_count": 12,
   "metadata": {},
   "outputs": [
    {
     "name": "stderr",
     "output_type": "stream",
     "text": [
      "C:\\Users\\leosc\\Anaconda3\\lib\\site-packages\\sklearn\\utils\\deprecation.py:87: FutureWarning: Function plot_confusion_matrix is deprecated; Function `plot_confusion_matrix` is deprecated in 1.0 and will be removed in 1.2. Use one of the class methods: ConfusionMatrixDisplay.from_predictions or ConfusionMatrixDisplay.from_estimator.\n",
      "  warnings.warn(msg, category=FutureWarning)\n"
     ]
    },
    {
     "data": {
      "text/plain": [
       "<sklearn.metrics._plot.confusion_matrix.ConfusionMatrixDisplay at 0x221a721c388>"
      ]
     },
     "execution_count": 12,
     "metadata": {},
     "output_type": "execute_result"
    },
    {
     "data": {
      "image/png": "[encoded data removed]",
      "text/plain": [
       "<Figure size 432x288 with 2 Axes>"
      ]
     },
     "metadata": {
      "needs_background": "light"
     },
     "output_type": "display_data"
    }
   ],
   "source": [
    "plot_confusion_matrix(xg_class, X_test, y_test)"
   ]
  }
 ],
 "metadata": {
  "kernelspec": {
   "display_name": "Python 3 (ipykernel)",
   "language": "python",
   "name": "python3"
  },
  "language_info": {
   "codemirror_mode": {
    "name": "ipython",
    "version": 3
   },
   "file_extension": ".py",
   "mimetype": "text/x-python",
   "name": "python",
   "nbconvert_exporter": "python",
   "pygments_lexer": "ipython3",
   "version": "3.7.11"
  }
 },
 "nbformat": 4,
 "nbformat_minor": 2
}
