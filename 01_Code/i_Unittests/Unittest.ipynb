{
 "cells": [
  {
   "cell_type": "code",
   "execution_count": 6,
   "metadata": {},
   "outputs": [
    {
     "ename": "ModuleNotFoundError",
     "evalue": "No module named '01_preprocessing'",
     "output_type": "error",
     "traceback": [
      "\u001b[1;31m---------------------------------------------------------------------------\u001b[0m",
      "\u001b[1;31mModuleNotFoundError\u001b[0m                       Traceback (most recent call last)",
      "\u001b[1;32m<ipython-input-6-01b0029a9362>\u001b[0m in \u001b[0;36m<module>\u001b[1;34m\u001b[0m\n\u001b[0;32m      6\u001b[0m \u001b[1;32mfrom\u001b[0m \u001b[0msklearn\u001b[0m\u001b[1;33m.\u001b[0m\u001b[0mmodel_selection\u001b[0m \u001b[1;32mimport\u001b[0m \u001b[0mtrain_test_split\u001b[0m\u001b[1;33m\u001b[0m\u001b[1;33m\u001b[0m\u001b[0m\n\u001b[0;32m      7\u001b[0m \u001b[1;33m\u001b[0m\u001b[0m\n\u001b[1;32m----> 8\u001b[1;33m \u001b[0mcreate_train_test_split\u001b[0m \u001b[1;33m=\u001b[0m \u001b[0m__import__\u001b[0m\u001b[1;33m(\u001b[0m\u001b[1;34m'01_preprocessing.matlab_to_hdf'\u001b[0m\u001b[1;33m)\u001b[0m\u001b[1;33m\u001b[0m\u001b[1;33m\u001b[0m\u001b[0m\n\u001b[0m",
      "\u001b[1;31mModuleNotFoundError\u001b[0m: No module named '01_preprocessing'"
     ]
    }
   ],
   "source": [
    "import unittest \n",
    "import pytest\n",
    "import logging\n",
    "import numpy as np\n",
    "import pandas as pd\n",
    "from sklearn.model_selection import train_test_split"
   ]
  },
  {
   "cell_type": "code",
   "execution_count": 5,
   "metadata": {},
   "outputs": [],
   "source": [
    "class TestCreateTrainTestSplit(unittest.TestCase):\n",
    "    \"\"\"\n",
    "    Simple tests for train test split\n",
    "    \"\"\"\n",
    "    \n",
    "    def setUp(self):\n",
    "        # This Method is executed once before each test\n",
    "        logging.basicConfig(level=logging.DEBUG)\n",
    "        \n",
    "\n",
    "    def test_toy_data(self):\n",
    "        \n",
    "        data = pd.DataFrame({\n",
    "            'target' : np.random.choice([0,1],100),\n",
    "            'f1' : np.random.normal(0,10,100),\n",
    "            'f2' : np.random.poisson(5,100),\n",
    "            'f3' : np.random.gamma(3,8,100),\n",
    "            'f4' : np.random.uniform(0,10,100),\n",
    "            'f5' : np.random.beta(2,5,100),\n",
    "            'f6' : np.random.normal(0,10,100),\n",
    "            'f7' : np.random.poisson(2,100),\n",
    "            'f8' : np.random.gamma(3,8,100),\n",
    "            'f9' : np.random.uniform(0,10,100),\n",
    "            'f10' : np.random.beta(2,5,100)\n",
    "        })\n",
    "        \n",
    "        split_size = [.8, 1.5]\n",
    "        \n",
    "        \n",
    "        \n",
    "        #Test first split size\n",
    "        df1, df2 = create_train_test_split(data, split_size = split_size[0])\n",
    "        #Test whether dimensions fit\n",
    "        self.assertTrue(df1.shape[1] == df2.shape[1])\n",
    "        self.assertTrue(df1.shape[0] == (df2.shape[0] *4))\n",
    "        \n",
    "        #Test out of bound splitsize\n",
    "        #self.assertTrue(\"split_size out of bounds\" in create_train_test_split(data, split_size = split_size[1]))\n",
    "        with self.assertRaises(AssertionError):\n",
    "            create_train_test_split(data, split_size = split_size[1])\n",
    "        \n",
    "        # Print Success if no errors\n",
    "        print(\"Success! No errors in create_train_test_split!\")"
   ]
  },
  {
   "cell_type": "code",
   "execution_count": 3,
   "metadata": {},
   "outputs": [],
   "source": []
  },
  {
   "cell_type": "code",
   "execution_count": 4,
   "metadata": {},
   "outputs": [
    {
     "name": "stdout",
     "output_type": "stream",
     "text": [
      "Success! No errors in create_train_test_split!\n"
     ]
    }
   ],
   "source": [
    "TestCreateTrainTestSplit().test_toy_data()"
   ]
  },
  {
   "cell_type": "code",
   "execution_count": null,
   "metadata": {},
   "outputs": [],
   "source": []
  },
  {
   "cell_type": "code",
   "execution_count": null,
   "metadata": {},
   "outputs": [],
   "source": []
  },
  {
   "cell_type": "code",
   "execution_count": null,
   "metadata": {},
   "outputs": [],
   "source": []
  }
 ],
 "metadata": {
  "kernelspec": {
   "display_name": "Python 3",
   "language": "python",
   "name": "python3"
  },
  "language_info": {
   "codemirror_mode": {
    "name": "ipython",
    "version": 3
   },
   "file_extension": ".py",
   "mimetype": "text/x-python",
   "name": "python",
   "nbconvert_exporter": "python",
   "pygments_lexer": "ipython3",
   "version": "3.8.5"
  }
 },
 "nbformat": 4,
 "nbformat_minor": 4
}
