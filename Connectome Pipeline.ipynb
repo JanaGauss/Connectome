{
 "cells": [
  {
   "cell_type": "markdown",
   "metadata": {
    "id": "If2PTdzkfzo3"
   },
   "source": [
    "# Connectome Pipeline\n",
    "\n",
    "Hi and welcome to the Connectome Pipeline!"
   ]
  },
  {
   "cell_type": "markdown",
   "metadata": {
    "id": "xLI7xV4Lfzo5"
   },
   "source": [
    "## 1. Preprocessing\n",
    "\n",
    "In the first step, you will preprocess the CONN Matlab files to an analysis ready dataset.\n",
    "\n",
    "Here is an overview on the parameters for the preprocessing pipeline. Parameters marked with a (*) are optional.\n",
    "\n",
    "\n",
    "+    *matlab_dir*: path to matlab files\n",
    "+    *excel_path*: path to excel list\n",
    "+    *preprocessing_type*: conn for connectivity matrix or \"aggregation\" for aggregated conn matrix\n",
    "+    *export_file**: If false return as pd dataframe\n",
    "+    *write_dir**: path where to write the dataset to if save_file = True\n",
    "+    *network**: Yeo7 or Yeo17 network (only applicable if preprocessing_type = aggregation)\n",
    "+    *statistic**: Summary statistic to be applied (only applicable if preprocessing_type = aggregation)\n",
    "+    *upper**: boolean whether only upper diagonal elements of connecivity matrices should be used\n",
    "+    *file_format**: Pass \"h5\" for further modelling in python or \"csv\" for R (default \"csv\")"
   ]
  },
  {
   "cell_type": "code",
   "execution_count": 1,
   "metadata": {
    "colab": {
     "base_uri": "https://localhost:8080/"
    },
    "executionInfo": {
     "elapsed": 2840,
     "status": "ok",
     "timestamp": 1645194398205,
     "user": {
      "displayName": "Jonas Klingele",
      "photoUrl": "https://lh3.googleusercontent.com/a/default-user=s64",
      "userId": "01851783090542566825"
     },
     "user_tz": -60
    },
    "id": "TVio-2b3OjCQ",
    "outputId": "848bd468-3749-47f3-e89b-6eb03c491021"
   },
   "outputs": [],
   "source": [
    "import os\n",
    "import pandas as pd"
   ]
  },
  {
   "cell_type": "code",
   "execution_count": 2,
   "metadata": {
    "executionInfo": {
     "elapsed": 219,
     "status": "ok",
     "timestamp": 1645194596416,
     "user": {
      "displayName": "Jonas Klingele",
      "photoUrl": "https://lh3.googleusercontent.com/a/default-user=s64",
      "userId": "01851783090542566825"
     },
     "user_tz": -60
    },
    "id": "JFRC1BcHfzo5"
   },
   "outputs": [],
   "source": [
    "from src.preprocessing.preprocessing_matlab_files import preprocess_mat_files"
   ]
  },
  {
   "cell_type": "code",
   "execution_count": 3,
   "metadata": {
    "executionInfo": {
     "elapsed": 251,
     "status": "ok",
     "timestamp": 1645194992214,
     "user": {
      "displayName": "Jonas Klingele",
      "photoUrl": "https://lh3.googleusercontent.com/a/default-user=s64",
      "userId": "01851783090542566825"
     },
     "user_tz": -60
    },
    "id": "54xpo4usfzo6"
   },
   "outputs": [],
   "source": [
    "matlab_dir = r\"./Data/MatLab\" # Enter the directory for the matlab files\n",
    "excel_path = r\"./Data/DELCODE_dataset_910.xlsx\" # Enter the directory for the corresponding excel sheet\n",
    "preprocessing_type = 'conn' \n",
    "write_dir = \"\" # ...\n",
    "export_file = False # rename to export file"
   ]
  },
  {
   "cell_type": "code",
   "execution_count": 4,
   "metadata": {
    "id": "fQMLPvI_fzo6"
   },
   "outputs": [
    {
     "name": "stdout",
     "output_type": "stream",
     "text": [
      "loading files\n",
      "Starting Preprocessing\n",
      "Creating Final Dataset\n",
      "Done!\n"
     ]
    }
   ],
   "source": [
    "df = preprocess_mat_files(matlab_dir = matlab_dir, excel_path = excel_path, preprocessing_type = preprocessing_type,\n",
    "                          write_dir = write_dir, export_file = export_file)"
   ]
  },
  {
   "cell_type": "code",
   "execution_count": 5,
   "metadata": {
    "id": "dgNDTjc3fzo7"
   },
   "outputs": [
    {
     "data": {
      "text/html": [
       "<div>\n",
       "<style scoped>\n",
       "    .dataframe tbody tr th:only-of-type {\n",
       "        vertical-align: middle;\n",
       "    }\n",
       "\n",
       "    .dataframe tbody tr th {\n",
       "        vertical-align: top;\n",
       "    }\n",
       "\n",
       "    .dataframe thead th {\n",
       "        text-align: right;\n",
       "    }\n",
       "</style>\n",
       "<table border=\"1\" class=\"dataframe\">\n",
       "  <thead>\n",
       "    <tr style=\"text-align: right;\">\n",
       "      <th></th>\n",
       "      <th>ConnID</th>\n",
       "      <th>Repseudonym</th>\n",
       "      <th>siteid</th>\n",
       "      <th>age</th>\n",
       "      <th>visdat</th>\n",
       "      <th>sex</th>\n",
       "      <th>prmdiag</th>\n",
       "      <th>edyears</th>\n",
       "      <th>MEM_score</th>\n",
       "      <th>Apoe</th>\n",
       "      <th>...</th>\n",
       "      <th>242_243</th>\n",
       "      <th>242_244</th>\n",
       "      <th>242_245</th>\n",
       "      <th>242_246</th>\n",
       "      <th>243_244</th>\n",
       "      <th>243_245</th>\n",
       "      <th>243_246</th>\n",
       "      <th>244_245</th>\n",
       "      <th>244_246</th>\n",
       "      <th>245_246</th>\n",
       "    </tr>\n",
       "  </thead>\n",
       "  <tbody>\n",
       "    <tr>\n",
       "      <th>0</th>\n",
       "      <td>1</td>\n",
       "      <td>0a8d02f2b</td>\n",
       "      <td>11</td>\n",
       "      <td>66</td>\n",
       "      <td>17.08.2016</td>\n",
       "      <td>0</td>\n",
       "      <td>2</td>\n",
       "      <td>17</td>\n",
       "      <td>0.054016</td>\n",
       "      <td>0</td>\n",
       "      <td>...</td>\n",
       "      <td>0.655094</td>\n",
       "      <td>0.547549</td>\n",
       "      <td>-0.256346</td>\n",
       "      <td>0.0799051</td>\n",
       "      <td>0.504077</td>\n",
       "      <td>0.0314353</td>\n",
       "      <td>0.180466</td>\n",
       "      <td>0.0953076</td>\n",
       "      <td>-0.062235</td>\n",
       "      <td>0.210861</td>\n",
       "    </tr>\n",
       "    <tr>\n",
       "      <th>1</th>\n",
       "      <td>2</td>\n",
       "      <td>0a71a953d</td>\n",
       "      <td>17</td>\n",
       "      <td>72</td>\n",
       "      <td>30.03.2015</td>\n",
       "      <td>0</td>\n",
       "      <td>1</td>\n",
       "      <td>20</td>\n",
       "      <td>-0.468749</td>\n",
       "      <td>1</td>\n",
       "      <td>...</td>\n",
       "      <td>0.795011</td>\n",
       "      <td>0.624784</td>\n",
       "      <td>-0.115689</td>\n",
       "      <td>0.0555967</td>\n",
       "      <td>0.684795</td>\n",
       "      <td>0.212303</td>\n",
       "      <td>0.193802</td>\n",
       "      <td>-0.117644</td>\n",
       "      <td>-0.0928372</td>\n",
       "      <td>0.621967</td>\n",
       "    </tr>\n",
       "    <tr>\n",
       "      <th>2</th>\n",
       "      <td>3</td>\n",
       "      <td>0a61339db</td>\n",
       "      <td>11</td>\n",
       "      <td>72</td>\n",
       "      <td>13.05.2015</td>\n",
       "      <td>1</td>\n",
       "      <td>1</td>\n",
       "      <td>16</td>\n",
       "      <td>-0.093521</td>\n",
       "      <td>0</td>\n",
       "      <td>...</td>\n",
       "      <td>0.209853</td>\n",
       "      <td>0.166607</td>\n",
       "      <td>0.0561474</td>\n",
       "      <td>0.159351</td>\n",
       "      <td>0.721864</td>\n",
       "      <td>0.107519</td>\n",
       "      <td>0.329301</td>\n",
       "      <td>0.0552936</td>\n",
       "      <td>0.39387</td>\n",
       "      <td>0.269579</td>\n",
       "    </tr>\n",
       "    <tr>\n",
       "      <th>3</th>\n",
       "      <td>4</td>\n",
       "      <td>0b28aed58</td>\n",
       "      <td>17</td>\n",
       "      <td>76</td>\n",
       "      <td>18.01.2016</td>\n",
       "      <td>0</td>\n",
       "      <td>1</td>\n",
       "      <td>20</td>\n",
       "      <td>0.466027</td>\n",
       "      <td>0</td>\n",
       "      <td>...</td>\n",
       "      <td>0.547318</td>\n",
       "      <td>0.724798</td>\n",
       "      <td>0.205874</td>\n",
       "      <td>0.193587</td>\n",
       "      <td>0.855264</td>\n",
       "      <td>0.0857812</td>\n",
       "      <td>0.333715</td>\n",
       "      <td>0.231567</td>\n",
       "      <td>0.28501</td>\n",
       "      <td>0.780887</td>\n",
       "    </tr>\n",
       "    <tr>\n",
       "      <th>4</th>\n",
       "      <td>5</td>\n",
       "      <td>0c1c5ae77</td>\n",
       "      <td>8</td>\n",
       "      <td>64</td>\n",
       "      <td>12.03.2015</td>\n",
       "      <td>1</td>\n",
       "      <td>1</td>\n",
       "      <td>13</td>\n",
       "      <td>1.4521</td>\n",
       "      <td>0</td>\n",
       "      <td>...</td>\n",
       "      <td>0.901057</td>\n",
       "      <td>0.547402</td>\n",
       "      <td>-0.0375842</td>\n",
       "      <td>0.0894263</td>\n",
       "      <td>0.509276</td>\n",
       "      <td>0.122451</td>\n",
       "      <td>0.308097</td>\n",
       "      <td>0.330322</td>\n",
       "      <td>0.360479</td>\n",
       "      <td>0.404907</td>\n",
       "    </tr>\n",
       "  </tbody>\n",
       "</table>\n",
       "<p>5 rows × 30146 columns</p>\n",
       "</div>"
      ],
      "text/plain": [
       "  ConnID Repseudonym siteid age      visdat sex prmdiag edyears MEM_score  \\\n",
       "0      1   0a8d02f2b     11  66  17.08.2016   0       2      17  0.054016   \n",
       "1      2   0a71a953d     17  72  30.03.2015   0       1      20 -0.468749   \n",
       "2      3   0a61339db     11  72  13.05.2015   1       1      16 -0.093521   \n",
       "3      4   0b28aed58     17  76  18.01.2016   0       1      20  0.466027   \n",
       "4      5   0c1c5ae77      8  64  12.03.2015   1       1      13    1.4521   \n",
       "\n",
       "  Apoe  ...   242_243   242_244    242_245    242_246   243_244    243_245  \\\n",
       "0    0  ...  0.655094  0.547549  -0.256346  0.0799051  0.504077  0.0314353   \n",
       "1    1  ...  0.795011  0.624784  -0.115689  0.0555967  0.684795   0.212303   \n",
       "2    0  ...  0.209853  0.166607  0.0561474   0.159351  0.721864   0.107519   \n",
       "3    0  ...  0.547318  0.724798   0.205874   0.193587  0.855264  0.0857812   \n",
       "4    0  ...  0.901057  0.547402 -0.0375842  0.0894263  0.509276   0.122451   \n",
       "\n",
       "    243_246    244_245    244_246   245_246  \n",
       "0  0.180466  0.0953076  -0.062235  0.210861  \n",
       "1  0.193802  -0.117644 -0.0928372  0.621967  \n",
       "2  0.329301  0.0552936    0.39387  0.269579  \n",
       "3  0.333715   0.231567    0.28501  0.780887  \n",
       "4  0.308097   0.330322   0.360479  0.404907  \n",
       "\n",
       "[5 rows x 30146 columns]"
      ]
     },
     "execution_count": 5,
     "metadata": {},
     "output_type": "execute_result"
    }
   ],
   "source": [
    "df.head()"
   ]
  },
  {
   "cell_type": "markdown",
   "metadata": {
    "id": "GesXXX0sfzo7"
   },
   "source": [
    "## 2. Modelling\n",
    "\n",
    "In the second step, you can decide between running the new input files on a pretrained model or train a new model"
   ]
  },
  {
   "cell_type": "markdown",
   "metadata": {
    "id": "PIU_ujK1fzo7"
   },
   "source": [
    "### 2.1  Data preparation\n",
    "Preparation of the data for modelling. Creates the target variable, drops unnecessary columns, performs a train/test split (if wanted). \\\\\n",
    "The user has to specify:\n",
    "- *classification*: is it a classification task (True) or a regression task (False)\n",
    "- *columns_drop*: which variables shoulnd't be used for modelling\n",
    "- *target*: what is the name of the target variable\n",
    "- *y_0, y_1* (only relevant for classification task): which values of the target variable are 0, which are 1\n",
    "- *train_size*: size of the training data\n",
    "- *seed*: a seed to ensure reproducibility of train/test split\n",
    "- split: should a train/test split be performed or not? "
   ]
  },
  {
   "cell_type": "code",
   "execution_count": 6,
   "metadata": {
    "id": "F8RM0TUufzo7"
   },
   "outputs": [],
   "source": [
    "from src.preprocessing.data_preparation import prepare_data"
   ]
  },
  {
   "cell_type": "code",
   "execution_count": 7,
   "metadata": {
    "id": "ZTSdzorufzo7"
   },
   "outputs": [],
   "source": [
    "classification = True\n",
    "columns_drop = [\"ConnID\", \"Repseudonym\", \"siteid\", \"visdat\", \"MEM_score\", \"Apoe\", \"IDs\"]\n",
    "target = \"prmdiag\"\n",
    "y_0 = [0]\n",
    "y_1 = [2, 3]\n",
    "train_size = 0.8\n",
    "seed = 1855\n",
    "split = True"
   ]
  },
  {
   "cell_type": "code",
   "execution_count": 8,
   "metadata": {
    "id": "fIi5_9ATgTS4"
   },
   "outputs": [],
   "source": [
    "# preparation of data\n",
    "X_train, y_train, X_test, y_test = prepare_data(data = df, classification = classification,\n",
    "                                                columns_drop = columns_drop, target = target, y_0 = y_0, y_1 = y_1,\n",
    "                                                train_size = train_size, seed = seed, split = split)\n",
    "\n"
   ]
  },
  {
   "cell_type": "markdown",
   "metadata": {
    "id": "hX99AfITfzo8"
   },
   "source": [
    "### 2.2 Run Model or get pretrained model\n",
    "\n",
    "Selection which model should be used and whether a pretrained model or newly trained model is desired.\n",
    "\n",
    "You can find a selection fo pretrained models under the models folder.\n",
    "\n",
    "The user has to specify:\n",
    "- X_train: training data coming from the previous step\n",
    "- y_train: values of target variable for the training data coming from the previous step\n",
    "- model: which model should be used (options are: \"elnet\" for elastic net, \"gboost\" for gradient boosting, \"rf\" for random forest and \"cnn\" for convolutional neural network)\n",
    "- pretrained: is a pretrained model wanted or should the training data be used to fit a new one. (True = pretrained, False = new fit)\n",
    "- model_path: the full path to the desired pretrained model if one should be used"
   ]
  },
  {
   "cell_type": "code",
   "execution_count": 9,
   "metadata": {
    "id": "AaJOVUgNfzo8",
    "outputId": "eed84514-09c7-4c74-e8cf-4359da2b57a4"
   },
   "outputs": [],
   "source": [
    "from src.models.framework import model_framework"
   ]
  },
  {
   "cell_type": "code",
   "execution_count": 10,
   "metadata": {},
   "outputs": [],
   "source": [
    "model = model_framework(X_train = X_train,\n",
    "                        y_train = y_train,\n",
    "                        model = \"gboost\",\n",
    "                        pretrained = False,\n",
    "                        model_path = None)"
   ]
  },
  {
   "cell_type": "markdown",
   "metadata": {
    "id": "dnxI8ZWEfzo8"
   },
   "source": [
    "## 3. Model Evaluation\n",
    "\n",
    "In this step you can now evaluate the Model on a set of prespecified metrics.\n",
    "\n",
    "+ For Classification: Accuracy, Precision, Recall, F1 and AUC\n",
    "+ For Regression: MSE, MAE and R2\n",
    "\n",
    "Checkout https://scikit-learn.org/stable/modules/classes.html#module-sklearn.metrics for details"
   ]
  },
  {
   "cell_type": "code",
   "execution_count": 11,
   "metadata": {
    "id": "m20cNjWqfzo8"
   },
   "outputs": [],
   "source": [
    "from src.models.evaluation import model_evaluation\n",
    "from src.models.brainnet_cnn import preprocess_test_data_for_cnn"
   ]
  },
  {
   "cell_type": "code",
   "execution_count": 137,
   "metadata": {},
   "outputs": [
    {
     "name": "stdout",
     "output_type": "stream",
     "text": [
      "Turning flat array to matrix\n"
     ]
    }
   ],
   "source": [
    "# If a cnn Model was trained, transform the test_dataset to the right input format for the CNN with the same settings\n",
    "if model.name == 'BrainNetCNN':\n",
    "    X_test, y_test = preprocess_test_data_for_cnn(X_test, y_test, aggregation=False, reorder=False)"
   ]
  },
  {
   "cell_type": "code",
   "execution_count": 165,
   "metadata": {
    "id": "tymSZ5sefzo8",
    "scrolled": true
   },
   "outputs": [
    {
     "data": {
      "text/html": [
       "<div>\n",
       "<style scoped>\n",
       "    .dataframe tbody tr th:only-of-type {\n",
       "        vertical-align: middle;\n",
       "    }\n",
       "\n",
       "    .dataframe tbody tr th {\n",
       "        vertical-align: top;\n",
       "    }\n",
       "\n",
       "    .dataframe thead th {\n",
       "        text-align: right;\n",
       "    }\n",
       "</style>\n",
       "<table border=\"1\" class=\"dataframe\">\n",
       "  <thead>\n",
       "    <tr style=\"text-align: right;\">\n",
       "      <th></th>\n",
       "      <th>Accuracy</th>\n",
       "      <th>Precision</th>\n",
       "      <th>Recall</th>\n",
       "      <th>F1</th>\n",
       "      <th>AUC</th>\n",
       "    </tr>\n",
       "  </thead>\n",
       "  <tbody>\n",
       "    <tr>\n",
       "      <th>0</th>\n",
       "      <td>0.680851</td>\n",
       "      <td>0.698413</td>\n",
       "      <td>0.8</td>\n",
       "      <td>0.745763</td>\n",
       "      <td>0.677855</td>\n",
       "    </tr>\n",
       "  </tbody>\n",
       "</table>\n",
       "</div>"
      ],
      "text/plain": [
       "   Accuracy  Precision  Recall        F1       AUC\n",
       "0  0.680851   0.698413     0.8  0.745763  0.677855"
      ]
     },
     "execution_count": 165,
     "metadata": {},
     "output_type": "execute_result"
    }
   ],
   "source": [
    "model_evaluation(model, X_test, y_test)"
   ]
  },
  {
   "cell_type": "markdown",
   "metadata": {
    "id": "UY8r5oMVfzo8"
   },
   "source": [
    "## 4. Feature Visualization and Interpretation\n",
    "\n",
    "In the final step you can choose between several feature visualization and interpretation techniques.\n",
    "\n",
    "The user has to specify:\n",
    "+        model: the model from  step 2\n",
    "+        X: X_test dataframe\n",
    "+        y: Target test dataframe\n",
    "+        viz_method: Choice  of \"GFI\" , \"GFI_only\", \"FI\" , \"FI_only\", \"elastic_net\", \"shapley\" and \"feature_attribution\"\n",
    "\n",
    "Visualization methods:\n",
    "+ GFI: Grouped Permutation Feature Importance (based on yeo7 network)\n",
    "+ GFI_only: Group only Permutation Feature Importance (based on yeo7 network)\n",
    "+ FI: Permutation Feature Importance\n",
    "+ FI_only: Version of Group only Permutation Feature Importance but for every feature, not groups\n",
    "+ elastic_net: Visualization of the elastic net coefficients\n",
    "+ shapley: Summary plot for shapley values\n",
    "+ feature_attribution: Neural Network Visulization with Saliency Maps\n",
    "\n",
    "For more details and customization of plots see our documentation."
   ]
  },
  {
   "cell_type": "code",
   "execution_count": 139,
   "metadata": {
    "id": "Ii5PDl5efzo8"
   },
   "outputs": [],
   "source": [
    "from src.visualization.viz_framework import visualization_framework"
   ]
  },
  {
   "cell_type": "code",
   "execution_count": 175,
   "metadata": {
    "id": "Q5FzFtovfzo8"
   },
   "outputs": [],
   "source": [
    "viz = visualization_framework(model=model,X=X_test,\n",
    "                              y=y_test, viz_method=\"feature_attribution\", method='saliency', average=True, ordered = True)"
   ]
  },
  {
   "cell_type": "code",
   "execution_count": null,
   "metadata": {},
   "outputs": [],
   "source": [
    "viz[0]"
   ]
  },
  {
   "cell_type": "code",
   "execution_count": null,
   "metadata": {},
   "outputs": [],
   "source": []
  }
 ],
 "metadata": {
  "colab": {
   "collapsed_sections": [],
   "name": "Connectome Pipeline.ipynb",
   "provenance": []
  },
  "kernelspec": {
   "display_name": "Python 3",
   "language": "python",
   "name": "python3"
  },
  "language_info": {
   "codemirror_mode": {
    "name": "ipython",
    "version": 3
   },
   "file_extension": ".py",
   "mimetype": "text/x-python",
   "name": "python",
   "nbconvert_exporter": "python",
   "pygments_lexer": "ipython3",
   "version": "3.7.6"
  }
 },
 "nbformat": 4,
 "nbformat_minor": 1
}
