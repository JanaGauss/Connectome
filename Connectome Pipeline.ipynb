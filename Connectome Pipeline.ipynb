{
 "cells": [
  {
   "cell_type": "markdown",
   "metadata": {},
   "source": [
    "# Connectome Pipeline\n",
    "\n",
    "Hi and welcome to the Connectome Pipeline!"
   ]
  },
  {
   "cell_type": "markdown",
   "metadata": {},
   "source": [
    "## 1. Preprocessing\n",
    "\n",
    "In the first step, you will preprocess the CONN Matlab files to a analysis ready dataset.\n",
    "\n",
    "Here is an overview on the parameters for the preprocessing pipeline. Parameters marked with a (*) are optional.\n",
    "\n",
    "\n",
    "+    *matlab_dir*: path to matlab files\n",
    "+    *excel_path*: path to excel list\n",
    "+    *save_file*: If false return as pd dataframe\n",
    "+    *preprocessing_type*: conn for connectivity matrix, \"aggregation\" for aggregated conn matrix, \"graph\" for graph matrices\n",
    "+    *write_dir**: path where to write the dataset to if save_file = True\n",
    "+    *network**: Yeo7 or Yeo17 network (only applicable if preprocessing_type = aggregation)\n",
    "+    *statistic**: Summary statistic to be applied (only applicable if preprocessing_type = aggregation)\n",
    "+    *upper**: boolean whether only upper diagonal elements of connecivity matrices should be used\n",
    "+    *split_size**: the size of the train dataset (default .8)\n",
    "+    *seed**: pass an int for reproducibility purposes (default 42)\n",
    "+    *file_format**: Pass \"h5\" for further modelling in python or \"csv\" for R (default \"csv\")"
   ]
  },
  {
   "cell_type": "code",
   "execution_count": 2,
   "metadata": {},
   "outputs": [],
   "source": [
    "from src.preprocessing.preprocessing_matlab_files import transform_mat_write_to_hdf"
   ]
  },
  {
   "cell_type": "code",
   "execution_count": 16,
   "metadata": {},
   "outputs": [],
   "source": [
    "matlab_dir = \"C:/Users/likai/Desktop/My Life/Master/3. Semester/Innolabs/Connectome Git/data/Matlab/\" # Enter the directory for the matlab files\n",
    "excel_path = \"C:/Users/likai/Desktop/My Life/Master/3. Semester/Innolabs/Connectome Git/data/DELCODE_dataset_910.xlsx\" # Enter the directory for the corresponding excel sheet\n",
    "write_dir = \"C:/Users/likai/Desktop/My Life/Master/3. Semester/Innolabs/Connectome Git/data/\" # ...\n",
    "save_file = False # rename to export file\n",
    "preprocessing_type = 'conn' "
   ]
  },
  {
   "cell_type": "code",
   "execution_count": 18,
   "metadata": {},
   "outputs": [
    {
     "name": "stdout",
     "output_type": "stream",
     "text": [
      "loading files\n",
      "Starting Preprocessing\n",
      "Creating Final Dataset\n",
      "Done!\n"
     ]
    }
   ],
   "source": [
    "df = transform_mat_write_to_hdf(matlab_dir = matlab_dir, excel_path = excel_path, write_dir = write_dir,\n",
    "                           save_file = save_file, preprocessing_type = 'conn')"
   ]
  },
  {
   "cell_type": "code",
   "execution_count": 20,
   "metadata": {},
   "outputs": [],
   "source": [
    "df.head()"
   ]
  },
  {
   "cell_type": "markdown",
   "metadata": {},
   "source": [
    "## 2. Modelling\n",
    "\n",
    "In the second step, you can decide between running the new input files on a pretrained model or train a new model"
   ]
  },
  {
   "cell_type": "markdown",
   "metadata": {},
   "source": [
    "### 2.1  Data preparation\n",
    "Preparation of the data for modelling. Creates the target variable, drops unnecessary columns, performs a train/test split. \\\\\n",
    "The user has to specify:\n",
    "- *classification*: is it a classification task (True) or a regression task (False)\n",
    "- *columns_drop*: which variables shoulnd't be used for modelling\n",
    "- *target*: what is the name of the target variable\n",
    "- *y_0, y_1* (only relevant for classification task): which values of the target variable are 0, which are 1\n",
    "- *train_size*: size of the training data\n",
    "- *seed*: a seed to ensure reproducibility of train/test split"
   ]
  },
  {
   "cell_type": "code",
   "execution_count": null,
   "metadata": {},
   "outputs": [],
   "source": [
    "from src.models import ...\n",
    "from sklearn.preprocessing import StandardScaler()"
   ]
  },
  {
   "cell_type": "code",
   "execution_count": null,
   "metadata": {},
   "outputs": [],
   "source": []
  },
  {
   "cell_type": "markdown",
   "metadata": {},
   "source": [
    "### 2.2 Run Model or get pretrained model"
   ]
  },
  {
   "cell_type": "code",
   "execution_count": null,
   "metadata": {},
   "outputs": [],
   "source": [
    "from src.models import gradient_boosting, pipeline_elastic_net"
   ]
  },
  {
   "cell_type": "code",
   "execution_count": null,
   "metadata": {},
   "outputs": [],
   "source": []
  },
  {
   "cell_type": "markdown",
   "metadata": {},
   "source": [
    "## 3. Model Evaluation\n",
    "\n",
    "In this step you can now evaluate the Model on a set of prespecified metrics.\n",
    "\n",
    "+ For Classification: Accuracy, Precision, Recall, F1 and AUC\n",
    "+ For Regression: MSE, MAE and R2\n",
    "\n",
    "Checkout https://scikit-learn.org/stable/modules/classes.html#module-sklearn.metrics for details"
   ]
  },
  {
   "cell_type": "code",
   "execution_count": 25,
   "metadata": {},
   "outputs": [],
   "source": [
    "from src.models.evaluation import model_evaluation"
   ]
  },
  {
   "cell_type": "code",
   "execution_count": null,
   "metadata": {},
   "outputs": [],
   "source": [
    "model = model\n",
    "X_test = ...\n",
    "y_test = ..."
   ]
  },
  {
   "cell_type": "code",
   "execution_count": null,
   "metadata": {},
   "outputs": [],
   "source": [
    "model_evaluation(model, X_test, y_test)"
   ]
  },
  {
   "cell_type": "markdown",
   "metadata": {},
   "source": [
    "## 4. Feature Visualization and Interpretation\n",
    "\n",
    "In the final step you can choose between several feature visualization and interpretation techniques."
   ]
  },
  {
   "cell_type": "code",
   "execution_count": 26,
   "metadata": {},
   "outputs": [],
   "source": [
    "from src.visualization.viz_utils import ordered_regions"
   ]
  },
  {
   "cell_type": "code",
   "execution_count": null,
   "metadata": {},
   "outputs": [],
   "source": [
    "model , X, y"
   ]
  }
 ],
 "metadata": {
  "kernelspec": {
   "display_name": "Python 3",
   "language": "python",
   "name": "python3"
  },
  "language_info": {
   "codemirror_mode": {
    "name": "ipython",
    "version": 3
   },
   "file_extension": ".py",
   "mimetype": "text/x-python",
   "name": "python",
   "nbconvert_exporter": "python",
   "pygments_lexer": "ipython3",
   "version": "3.8.5"
  }
 },
 "nbformat": 4,
 "nbformat_minor": 4
}