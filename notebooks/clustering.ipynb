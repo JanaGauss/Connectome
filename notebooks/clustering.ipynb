{
  "nbformat": 4,
  "nbformat_minor": 0,
  "metadata": {
    "colab": {
      "name": "clustering.ipynb",
      "provenance": [],
      "collapsed_sections": [
        "82o8GyqFwlLd",
        "Z7fr9PPRHsrH",
        "GuVOzNUOJYCm"
      ]
    },
    "kernelspec": {
      "name": "python3",
      "display_name": "Python 3"
    },
    "language_info": {
      "name": "python"
    }
  },
  "cells": [
    {
      "cell_type": "markdown",
      "source": [
        "# ToDo:\n",
        "- think about other cluster methods (single linkage...)\n",
        "- only use healthy (prmdiag=0) and sick (2,3) people -> clearer results?\n",
        "- (If the clustering approach should be continued) put everything in a function, input parameters: number of clusters, cluster method, which observations should be used. The function should fit the clustering and produce some plots to evaluate the results"
      ],
      "metadata": {
        "id": "q0CCpG-3Ulww"
      }
    },
    {
      "cell_type": "markdown",
      "source": [
        "# Import Libraries and setup"
      ],
      "metadata": {
        "id": "1EF9eHempMn4"
      }
    },
    {
      "cell_type": "code",
      "source": [
        "import os\n",
        "from google.colab import drive\n",
        "import pandas as pd\n",
        "import numpy as np\n",
        "import seaborn as sns\n",
        "from sklearn.cluster import AgglomerativeClustering\n",
        "from sklearn.cluster import KMeans\n",
        "from sklearn.decomposition import PCA\n",
        "from sklearn.manifold import TSNE\n",
        "from matplotlib import pyplot as plt\n",
        "from scipy.cluster.hierarchy import dendrogram, linkage\n",
        "\n",
        "\n",
        "plt.style.use(\"ggplot\")\n",
        "\n",
        "drive.mount('/content/drive', force_remount=True)\n",
        "os.chdir('/content/drive/MyDrive/Colab Notebooks/data_DELCODE')"
      ],
      "metadata": {
        "colab": {
          "base_uri": "https://localhost:8080/"
        },
        "id": "ko-zWmLOpPzL",
        "outputId": "c1d017c0-9cfc-44a1-b42c-36137f0ea7da",
        "collapsed": true
      },
      "execution_count": 42,
      "outputs": [
        {
          "output_type": "stream",
          "name": "stdout",
          "text": [
            "Mounted at /content/drive\n"
          ]
        }
      ]
    },
    {
      "cell_type": "markdown",
      "source": [
        "# Load and transform data"
      ],
      "metadata": {
        "id": "l1b7ar5Jpfqe"
      }
    },
    {
      "cell_type": "code",
      "source": [
        "train = pd.read_csv(\"train.csv\")\n",
        "test = pd.read_csv(\"test.csv\")\n"
      ],
      "metadata": {
        "id": "iENkvTqbphbF"
      },
      "execution_count": 2,
      "outputs": []
    },
    {
      "cell_type": "code",
      "source": [
        "train.head()\n"
      ],
      "metadata": {
        "colab": {
          "base_uri": "https://localhost:8080/",
          "height": 317
        },
        "id": "QH5ppqWytKhv",
        "outputId": "dc267e89-f96c-48a6-db54-f13776165a55"
      },
      "execution_count": 3,
      "outputs": [
        {
          "output_type": "execute_result",
          "data": {
            "text/html": [
              "\n",
              "  <div id=\"df-bd1f0f34-d75d-40ff-a2f7-eabab871b698\">\n",
              "    <div class=\"colab-df-container\">\n",
              "      <div>\n",
              "<style scoped>\n",
              "    .dataframe tbody tr th:only-of-type {\n",
              "        vertical-align: middle;\n",
              "    }\n",
              "\n",
              "    .dataframe tbody tr th {\n",
              "        vertical-align: top;\n",
              "    }\n",
              "\n",
              "    .dataframe thead th {\n",
              "        text-align: right;\n",
              "    }\n",
              "</style>\n",
              "<table border=\"1\" class=\"dataframe\">\n",
              "  <thead>\n",
              "    <tr style=\"text-align: right;\">\n",
              "      <th></th>\n",
              "      <th>ConnID</th>\n",
              "      <th>Repseudonym</th>\n",
              "      <th>siteid</th>\n",
              "      <th>age</th>\n",
              "      <th>visdat</th>\n",
              "      <th>sex</th>\n",
              "      <th>prmdiag</th>\n",
              "      <th>edyears</th>\n",
              "      <th>MEM_score</th>\n",
              "      <th>Apoe</th>\n",
              "      <th>IDs</th>\n",
              "      <th>1_2</th>\n",
              "      <th>1_3</th>\n",
              "      <th>1_4</th>\n",
              "      <th>1_5</th>\n",
              "      <th>1_6</th>\n",
              "      <th>1_7</th>\n",
              "      <th>1_8</th>\n",
              "      <th>1_9</th>\n",
              "      <th>1_10</th>\n",
              "      <th>1_11</th>\n",
              "      <th>1_12</th>\n",
              "      <th>1_13</th>\n",
              "      <th>1_14</th>\n",
              "      <th>1_15</th>\n",
              "      <th>1_16</th>\n",
              "      <th>1_17</th>\n",
              "      <th>1_18</th>\n",
              "      <th>1_19</th>\n",
              "      <th>1_20</th>\n",
              "      <th>1_21</th>\n",
              "      <th>1_22</th>\n",
              "      <th>1_23</th>\n",
              "      <th>1_24</th>\n",
              "      <th>1_25</th>\n",
              "      <th>1_26</th>\n",
              "      <th>1_27</th>\n",
              "      <th>1_28</th>\n",
              "      <th>1_29</th>\n",
              "      <th>1_30</th>\n",
              "      <th>...</th>\n",
              "      <th>237_243</th>\n",
              "      <th>237_244</th>\n",
              "      <th>237_245</th>\n",
              "      <th>237_246</th>\n",
              "      <th>238_239</th>\n",
              "      <th>238_240</th>\n",
              "      <th>238_241</th>\n",
              "      <th>238_242</th>\n",
              "      <th>238_243</th>\n",
              "      <th>238_244</th>\n",
              "      <th>238_245</th>\n",
              "      <th>238_246</th>\n",
              "      <th>239_240</th>\n",
              "      <th>239_241</th>\n",
              "      <th>239_242</th>\n",
              "      <th>239_243</th>\n",
              "      <th>239_244</th>\n",
              "      <th>239_245</th>\n",
              "      <th>239_246</th>\n",
              "      <th>240_241</th>\n",
              "      <th>240_242</th>\n",
              "      <th>240_243</th>\n",
              "      <th>240_244</th>\n",
              "      <th>240_245</th>\n",
              "      <th>240_246</th>\n",
              "      <th>241_242</th>\n",
              "      <th>241_243</th>\n",
              "      <th>241_244</th>\n",
              "      <th>241_245</th>\n",
              "      <th>241_246</th>\n",
              "      <th>242_243</th>\n",
              "      <th>242_244</th>\n",
              "      <th>242_245</th>\n",
              "      <th>242_246</th>\n",
              "      <th>243_244</th>\n",
              "      <th>243_245</th>\n",
              "      <th>243_246</th>\n",
              "      <th>244_245</th>\n",
              "      <th>244_246</th>\n",
              "      <th>245_246</th>\n",
              "    </tr>\n",
              "  </thead>\n",
              "  <tbody>\n",
              "    <tr>\n",
              "      <th>0</th>\n",
              "      <td>85</td>\n",
              "      <td>3fd91223d</td>\n",
              "      <td>14</td>\n",
              "      <td>63</td>\n",
              "      <td>18.05.2016</td>\n",
              "      <td>1</td>\n",
              "      <td>0</td>\n",
              "      <td>13</td>\n",
              "      <td>1.215577</td>\n",
              "      <td>1.0</td>\n",
              "      <td>85.0</td>\n",
              "      <td>0.749860</td>\n",
              "      <td>0.230923</td>\n",
              "      <td>-0.065474</td>\n",
              "      <td>0.412777</td>\n",
              "      <td>0.303270</td>\n",
              "      <td>0.341117</td>\n",
              "      <td>-0.027277</td>\n",
              "      <td>0.574057</td>\n",
              "      <td>0.290517</td>\n",
              "      <td>0.862302</td>\n",
              "      <td>0.479994</td>\n",
              "      <td>0.419541</td>\n",
              "      <td>0.089797</td>\n",
              "      <td>0.211377</td>\n",
              "      <td>-0.069165</td>\n",
              "      <td>0.243698</td>\n",
              "      <td>0.138934</td>\n",
              "      <td>0.203588</td>\n",
              "      <td>-0.128424</td>\n",
              "      <td>-0.142274</td>\n",
              "      <td>-0.097212</td>\n",
              "      <td>0.342343</td>\n",
              "      <td>-0.006937</td>\n",
              "      <td>0.953543</td>\n",
              "      <td>0.271842</td>\n",
              "      <td>-0.215807</td>\n",
              "      <td>-0.345942</td>\n",
              "      <td>0.288377</td>\n",
              "      <td>-0.002376</td>\n",
              "      <td>...</td>\n",
              "      <td>0.675390</td>\n",
              "      <td>0.641759</td>\n",
              "      <td>0.256006</td>\n",
              "      <td>0.161096</td>\n",
              "      <td>0.051992</td>\n",
              "      <td>0.335806</td>\n",
              "      <td>0.274249</td>\n",
              "      <td>0.464632</td>\n",
              "      <td>0.346927</td>\n",
              "      <td>0.197321</td>\n",
              "      <td>0.093035</td>\n",
              "      <td>0.169661</td>\n",
              "      <td>0.843718</td>\n",
              "      <td>0.758413</td>\n",
              "      <td>0.297913</td>\n",
              "      <td>0.398200</td>\n",
              "      <td>-0.033476</td>\n",
              "      <td>1.027731</td>\n",
              "      <td>1.040865</td>\n",
              "      <td>1.111977</td>\n",
              "      <td>0.796641</td>\n",
              "      <td>0.750172</td>\n",
              "      <td>0.242670</td>\n",
              "      <td>0.693493</td>\n",
              "      <td>0.663318</td>\n",
              "      <td>0.677533</td>\n",
              "      <td>0.545846</td>\n",
              "      <td>0.246136</td>\n",
              "      <td>0.600611</td>\n",
              "      <td>0.532708</td>\n",
              "      <td>0.910899</td>\n",
              "      <td>0.423027</td>\n",
              "      <td>0.168445</td>\n",
              "      <td>0.086235</td>\n",
              "      <td>0.553605</td>\n",
              "      <td>0.260301</td>\n",
              "      <td>0.262766</td>\n",
              "      <td>-0.064755</td>\n",
              "      <td>-0.121692</td>\n",
              "      <td>1.193451</td>\n",
              "    </tr>\n",
              "    <tr>\n",
              "      <th>1</th>\n",
              "      <td>11</td>\n",
              "      <td>0f1b4b7ac</td>\n",
              "      <td>11</td>\n",
              "      <td>68</td>\n",
              "      <td>26.10.2017</td>\n",
              "      <td>1</td>\n",
              "      <td>2</td>\n",
              "      <td>13</td>\n",
              "      <td>-0.583224</td>\n",
              "      <td>1.0</td>\n",
              "      <td>11.0</td>\n",
              "      <td>0.769255</td>\n",
              "      <td>0.488714</td>\n",
              "      <td>0.116482</td>\n",
              "      <td>-0.021402</td>\n",
              "      <td>-0.150269</td>\n",
              "      <td>0.307751</td>\n",
              "      <td>0.393959</td>\n",
              "      <td>0.304850</td>\n",
              "      <td>0.355440</td>\n",
              "      <td>0.476269</td>\n",
              "      <td>0.125607</td>\n",
              "      <td>-0.130721</td>\n",
              "      <td>-0.072421</td>\n",
              "      <td>0.430517</td>\n",
              "      <td>0.186178</td>\n",
              "      <td>0.727480</td>\n",
              "      <td>0.388229</td>\n",
              "      <td>0.120676</td>\n",
              "      <td>0.009006</td>\n",
              "      <td>0.496298</td>\n",
              "      <td>0.096529</td>\n",
              "      <td>0.357324</td>\n",
              "      <td>0.193164</td>\n",
              "      <td>0.485271</td>\n",
              "      <td>0.248289</td>\n",
              "      <td>-0.113434</td>\n",
              "      <td>-0.227484</td>\n",
              "      <td>0.485454</td>\n",
              "      <td>0.268980</td>\n",
              "      <td>...</td>\n",
              "      <td>1.170770</td>\n",
              "      <td>0.347485</td>\n",
              "      <td>0.377663</td>\n",
              "      <td>0.224154</td>\n",
              "      <td>0.323828</td>\n",
              "      <td>0.439175</td>\n",
              "      <td>0.538379</td>\n",
              "      <td>0.322498</td>\n",
              "      <td>0.745291</td>\n",
              "      <td>0.248104</td>\n",
              "      <td>0.554985</td>\n",
              "      <td>0.353254</td>\n",
              "      <td>0.220629</td>\n",
              "      <td>0.451341</td>\n",
              "      <td>0.322443</td>\n",
              "      <td>0.568902</td>\n",
              "      <td>0.357294</td>\n",
              "      <td>0.450699</td>\n",
              "      <td>0.659226</td>\n",
              "      <td>0.461063</td>\n",
              "      <td>0.722502</td>\n",
              "      <td>0.556016</td>\n",
              "      <td>0.228903</td>\n",
              "      <td>0.295915</td>\n",
              "      <td>0.322317</td>\n",
              "      <td>0.484691</td>\n",
              "      <td>0.791189</td>\n",
              "      <td>0.268268</td>\n",
              "      <td>0.141795</td>\n",
              "      <td>0.034816</td>\n",
              "      <td>0.381080</td>\n",
              "      <td>0.852528</td>\n",
              "      <td>0.141102</td>\n",
              "      <td>0.182648</td>\n",
              "      <td>0.196211</td>\n",
              "      <td>0.387882</td>\n",
              "      <td>0.299217</td>\n",
              "      <td>0.194711</td>\n",
              "      <td>0.191894</td>\n",
              "      <td>1.018621</td>\n",
              "    </tr>\n",
              "    <tr>\n",
              "      <th>2</th>\n",
              "      <td>619</td>\n",
              "      <td>bf5da3838</td>\n",
              "      <td>11</td>\n",
              "      <td>78</td>\n",
              "      <td>22.06.2016</td>\n",
              "      <td>0</td>\n",
              "      <td>1</td>\n",
              "      <td>14</td>\n",
              "      <td>-0.856116</td>\n",
              "      <td>1.0</td>\n",
              "      <td>619.0</td>\n",
              "      <td>0.168419</td>\n",
              "      <td>0.257018</td>\n",
              "      <td>0.016907</td>\n",
              "      <td>0.091702</td>\n",
              "      <td>-0.010532</td>\n",
              "      <td>0.435234</td>\n",
              "      <td>0.106881</td>\n",
              "      <td>0.182423</td>\n",
              "      <td>0.056001</td>\n",
              "      <td>0.502006</td>\n",
              "      <td>0.317397</td>\n",
              "      <td>0.217119</td>\n",
              "      <td>0.021138</td>\n",
              "      <td>0.640308</td>\n",
              "      <td>0.071841</td>\n",
              "      <td>0.204547</td>\n",
              "      <td>0.161851</td>\n",
              "      <td>0.247751</td>\n",
              "      <td>-0.140406</td>\n",
              "      <td>0.114880</td>\n",
              "      <td>-0.060171</td>\n",
              "      <td>0.269094</td>\n",
              "      <td>0.016566</td>\n",
              "      <td>0.430953</td>\n",
              "      <td>0.037941</td>\n",
              "      <td>0.160389</td>\n",
              "      <td>-0.093853</td>\n",
              "      <td>0.430277</td>\n",
              "      <td>-0.035102</td>\n",
              "      <td>...</td>\n",
              "      <td>0.709562</td>\n",
              "      <td>0.446627</td>\n",
              "      <td>0.172218</td>\n",
              "      <td>-0.172940</td>\n",
              "      <td>0.199733</td>\n",
              "      <td>0.216898</td>\n",
              "      <td>0.212193</td>\n",
              "      <td>0.245178</td>\n",
              "      <td>0.138725</td>\n",
              "      <td>0.192206</td>\n",
              "      <td>0.234587</td>\n",
              "      <td>0.136768</td>\n",
              "      <td>0.221140</td>\n",
              "      <td>0.219693</td>\n",
              "      <td>0.082570</td>\n",
              "      <td>0.190661</td>\n",
              "      <td>0.110283</td>\n",
              "      <td>0.411547</td>\n",
              "      <td>0.318120</td>\n",
              "      <td>0.673747</td>\n",
              "      <td>0.659346</td>\n",
              "      <td>0.442534</td>\n",
              "      <td>0.396549</td>\n",
              "      <td>0.123856</td>\n",
              "      <td>0.012965</td>\n",
              "      <td>0.577570</td>\n",
              "      <td>0.563080</td>\n",
              "      <td>0.140217</td>\n",
              "      <td>0.097882</td>\n",
              "      <td>-0.028234</td>\n",
              "      <td>0.639703</td>\n",
              "      <td>0.427146</td>\n",
              "      <td>0.088723</td>\n",
              "      <td>-0.245473</td>\n",
              "      <td>0.663036</td>\n",
              "      <td>0.142216</td>\n",
              "      <td>-0.300101</td>\n",
              "      <td>0.115183</td>\n",
              "      <td>-0.298258</td>\n",
              "      <td>0.131574</td>\n",
              "    </tr>\n",
              "    <tr>\n",
              "      <th>3</th>\n",
              "      <td>252</td>\n",
              "      <td>47e5a2600</td>\n",
              "      <td>2</td>\n",
              "      <td>63</td>\n",
              "      <td>28.11.2016</td>\n",
              "      <td>1</td>\n",
              "      <td>1</td>\n",
              "      <td>17</td>\n",
              "      <td>0.862633</td>\n",
              "      <td>0.0</td>\n",
              "      <td>252.0</td>\n",
              "      <td>0.868713</td>\n",
              "      <td>0.325486</td>\n",
              "      <td>0.395653</td>\n",
              "      <td>0.391204</td>\n",
              "      <td>0.349502</td>\n",
              "      <td>0.079478</td>\n",
              "      <td>0.199210</td>\n",
              "      <td>0.158742</td>\n",
              "      <td>-0.060597</td>\n",
              "      <td>0.801271</td>\n",
              "      <td>0.418965</td>\n",
              "      <td>0.180624</td>\n",
              "      <td>0.031938</td>\n",
              "      <td>0.310969</td>\n",
              "      <td>0.231340</td>\n",
              "      <td>0.663267</td>\n",
              "      <td>0.339705</td>\n",
              "      <td>0.427437</td>\n",
              "      <td>0.265302</td>\n",
              "      <td>0.042056</td>\n",
              "      <td>0.125814</td>\n",
              "      <td>0.487544</td>\n",
              "      <td>0.190261</td>\n",
              "      <td>0.516608</td>\n",
              "      <td>0.238371</td>\n",
              "      <td>0.118187</td>\n",
              "      <td>0.057087</td>\n",
              "      <td>0.064976</td>\n",
              "      <td>0.018432</td>\n",
              "      <td>...</td>\n",
              "      <td>0.695289</td>\n",
              "      <td>0.720458</td>\n",
              "      <td>0.383823</td>\n",
              "      <td>0.223196</td>\n",
              "      <td>0.268081</td>\n",
              "      <td>0.140685</td>\n",
              "      <td>0.303392</td>\n",
              "      <td>0.211814</td>\n",
              "      <td>0.215745</td>\n",
              "      <td>0.049197</td>\n",
              "      <td>0.347162</td>\n",
              "      <td>0.521063</td>\n",
              "      <td>0.218042</td>\n",
              "      <td>0.429776</td>\n",
              "      <td>0.175440</td>\n",
              "      <td>0.284785</td>\n",
              "      <td>-0.061578</td>\n",
              "      <td>0.478259</td>\n",
              "      <td>0.531669</td>\n",
              "      <td>0.544807</td>\n",
              "      <td>0.729218</td>\n",
              "      <td>0.118570</td>\n",
              "      <td>-0.128986</td>\n",
              "      <td>0.300403</td>\n",
              "      <td>0.406977</td>\n",
              "      <td>0.579221</td>\n",
              "      <td>0.414116</td>\n",
              "      <td>0.185960</td>\n",
              "      <td>0.494446</td>\n",
              "      <td>0.406204</td>\n",
              "      <td>0.331876</td>\n",
              "      <td>0.222091</td>\n",
              "      <td>0.354670</td>\n",
              "      <td>0.261393</td>\n",
              "      <td>0.797265</td>\n",
              "      <td>0.431262</td>\n",
              "      <td>0.195765</td>\n",
              "      <td>0.176242</td>\n",
              "      <td>-0.108549</td>\n",
              "      <td>0.525855</td>\n",
              "    </tr>\n",
              "    <tr>\n",
              "      <th>4</th>\n",
              "      <td>872</td>\n",
              "      <td>48387a07e</td>\n",
              "      <td>8</td>\n",
              "      <td>79</td>\n",
              "      <td>2015-08-31</td>\n",
              "      <td>1</td>\n",
              "      <td>3</td>\n",
              "      <td>11</td>\n",
              "      <td>-2.116266</td>\n",
              "      <td>1.0</td>\n",
              "      <td>872.0</td>\n",
              "      <td>0.128000</td>\n",
              "      <td>0.545008</td>\n",
              "      <td>-0.343972</td>\n",
              "      <td>0.862140</td>\n",
              "      <td>-0.015617</td>\n",
              "      <td>0.179164</td>\n",
              "      <td>-0.233017</td>\n",
              "      <td>0.034938</td>\n",
              "      <td>-0.105519</td>\n",
              "      <td>0.733050</td>\n",
              "      <td>0.088092</td>\n",
              "      <td>0.277305</td>\n",
              "      <td>-0.179329</td>\n",
              "      <td>0.332651</td>\n",
              "      <td>-0.231090</td>\n",
              "      <td>0.702441</td>\n",
              "      <td>-0.072943</td>\n",
              "      <td>0.645076</td>\n",
              "      <td>-0.215037</td>\n",
              "      <td>0.274248</td>\n",
              "      <td>-0.451468</td>\n",
              "      <td>0.574711</td>\n",
              "      <td>-0.173056</td>\n",
              "      <td>0.595247</td>\n",
              "      <td>-0.396143</td>\n",
              "      <td>0.378200</td>\n",
              "      <td>-0.196846</td>\n",
              "      <td>0.674376</td>\n",
              "      <td>-0.166660</td>\n",
              "      <td>...</td>\n",
              "      <td>0.301599</td>\n",
              "      <td>0.281604</td>\n",
              "      <td>-0.257081</td>\n",
              "      <td>0.164976</td>\n",
              "      <td>-0.064623</td>\n",
              "      <td>0.205962</td>\n",
              "      <td>0.259190</td>\n",
              "      <td>0.369864</td>\n",
              "      <td>0.119939</td>\n",
              "      <td>0.430113</td>\n",
              "      <td>-0.128200</td>\n",
              "      <td>0.036388</td>\n",
              "      <td>-0.062767</td>\n",
              "      <td>0.013018</td>\n",
              "      <td>0.002274</td>\n",
              "      <td>0.071944</td>\n",
              "      <td>0.069917</td>\n",
              "      <td>0.173637</td>\n",
              "      <td>0.107760</td>\n",
              "      <td>0.456734</td>\n",
              "      <td>0.444816</td>\n",
              "      <td>0.072618</td>\n",
              "      <td>0.086900</td>\n",
              "      <td>-0.095910</td>\n",
              "      <td>0.172357</td>\n",
              "      <td>0.220310</td>\n",
              "      <td>0.484933</td>\n",
              "      <td>0.004595</td>\n",
              "      <td>-0.263606</td>\n",
              "      <td>-0.013920</td>\n",
              "      <td>0.155383</td>\n",
              "      <td>0.416782</td>\n",
              "      <td>-0.300804</td>\n",
              "      <td>0.057657</td>\n",
              "      <td>0.031142</td>\n",
              "      <td>-0.086161</td>\n",
              "      <td>0.055487</td>\n",
              "      <td>-0.082463</td>\n",
              "      <td>-0.029868</td>\n",
              "      <td>0.177041</td>\n",
              "    </tr>\n",
              "  </tbody>\n",
              "</table>\n",
              "<p>5 rows × 30146 columns</p>\n",
              "</div>\n",
              "      <button class=\"colab-df-convert\" onclick=\"convertToInteractive('df-bd1f0f34-d75d-40ff-a2f7-eabab871b698')\"\n",
              "              title=\"Convert this dataframe to an interactive table.\"\n",
              "              style=\"display:none;\">\n",
              "        \n",
              "  <svg xmlns=\"http://www.w3.org/2000/svg\" height=\"24px\"viewBox=\"0 0 24 24\"\n",
              "       width=\"24px\">\n",
              "    <path d=\"M0 0h24v24H0V0z\" fill=\"none\"/>\n",
              "    <path d=\"M18.56 5.44l.94 2.06.94-2.06 2.06-.94-2.06-.94-.94-2.06-.94 2.06-2.06.94zm-11 1L8.5 8.5l.94-2.06 2.06-.94-2.06-.94L8.5 2.5l-.94 2.06-2.06.94zm10 10l.94 2.06.94-2.06 2.06-.94-2.06-.94-.94-2.06-.94 2.06-2.06.94z\"/><path d=\"M17.41 7.96l-1.37-1.37c-.4-.4-.92-.59-1.43-.59-.52 0-1.04.2-1.43.59L10.3 9.45l-7.72 7.72c-.78.78-.78 2.05 0 2.83L4 21.41c.39.39.9.59 1.41.59.51 0 1.02-.2 1.41-.59l7.78-7.78 2.81-2.81c.8-.78.8-2.07 0-2.86zM5.41 20L4 18.59l7.72-7.72 1.47 1.35L5.41 20z\"/>\n",
              "  </svg>\n",
              "      </button>\n",
              "      \n",
              "  <style>\n",
              "    .colab-df-container {\n",
              "      display:flex;\n",
              "      flex-wrap:wrap;\n",
              "      gap: 12px;\n",
              "    }\n",
              "\n",
              "    .colab-df-convert {\n",
              "      background-color: #E8F0FE;\n",
              "      border: none;\n",
              "      border-radius: 50%;\n",
              "      cursor: pointer;\n",
              "      display: none;\n",
              "      fill: #1967D2;\n",
              "      height: 32px;\n",
              "      padding: 0 0 0 0;\n",
              "      width: 32px;\n",
              "    }\n",
              "\n",
              "    .colab-df-convert:hover {\n",
              "      background-color: #E2EBFA;\n",
              "      box-shadow: 0px 1px 2px rgba(60, 64, 67, 0.3), 0px 1px 3px 1px rgba(60, 64, 67, 0.15);\n",
              "      fill: #174EA6;\n",
              "    }\n",
              "\n",
              "    [theme=dark] .colab-df-convert {\n",
              "      background-color: #3B4455;\n",
              "      fill: #D2E3FC;\n",
              "    }\n",
              "\n",
              "    [theme=dark] .colab-df-convert:hover {\n",
              "      background-color: #434B5C;\n",
              "      box-shadow: 0px 1px 3px 1px rgba(0, 0, 0, 0.15);\n",
              "      filter: drop-shadow(0px 1px 2px rgba(0, 0, 0, 0.3));\n",
              "      fill: #FFFFFF;\n",
              "    }\n",
              "  </style>\n",
              "\n",
              "      <script>\n",
              "        const buttonEl =\n",
              "          document.querySelector('#df-bd1f0f34-d75d-40ff-a2f7-eabab871b698 button.colab-df-convert');\n",
              "        buttonEl.style.display =\n",
              "          google.colab.kernel.accessAllowed ? 'block' : 'none';\n",
              "\n",
              "        async function convertToInteractive(key) {\n",
              "          const element = document.querySelector('#df-bd1f0f34-d75d-40ff-a2f7-eabab871b698');\n",
              "          const dataTable =\n",
              "            await google.colab.kernel.invokeFunction('convertToInteractive',\n",
              "                                                     [key], {});\n",
              "          if (!dataTable) return;\n",
              "\n",
              "          const docLinkHtml = 'Like what you see? Visit the ' +\n",
              "            '<a target=\"_blank\" href=https://colab.research.google.com/notebooks/data_table.ipynb>data table notebook</a>'\n",
              "            + ' to learn more about interactive tables.';\n",
              "          element.innerHTML = '';\n",
              "          dataTable['output_type'] = 'display_data';\n",
              "          await google.colab.output.renderOutput(dataTable, element);\n",
              "          const docLink = document.createElement('div');\n",
              "          docLink.innerHTML = docLinkHtml;\n",
              "          element.appendChild(docLink);\n",
              "        }\n",
              "      </script>\n",
              "    </div>\n",
              "  </div>\n",
              "  "
            ],
            "text/plain": [
              "   ConnID Repseudonym  siteid  age  ...   243_246   244_245   244_246   245_246\n",
              "0      85   3fd91223d      14   63  ...  0.262766 -0.064755 -0.121692  1.193451\n",
              "1      11   0f1b4b7ac      11   68  ...  0.299217  0.194711  0.191894  1.018621\n",
              "2     619   bf5da3838      11   78  ... -0.300101  0.115183 -0.298258  0.131574\n",
              "3     252   47e5a2600       2   63  ...  0.195765  0.176242 -0.108549  0.525855\n",
              "4     872   48387a07e       8   79  ...  0.055487 -0.082463 -0.029868  0.177041\n",
              "\n",
              "[5 rows x 30146 columns]"
            ]
          },
          "metadata": {},
          "execution_count": 3
        }
      ]
    },
    {
      "cell_type": "code",
      "source": [
        "test.head()"
      ],
      "metadata": {
        "colab": {
          "base_uri": "https://localhost:8080/",
          "height": 317
        },
        "id": "aP-YAhaAvcse",
        "outputId": "b7ae4353-83b3-4e7a-f07b-25e04a0b2d70"
      },
      "execution_count": 4,
      "outputs": [
        {
          "output_type": "execute_result",
          "data": {
            "text/html": [
              "\n",
              "  <div id=\"df-28c3ac32-ff11-41dc-8454-f582b21c2a0a\">\n",
              "    <div class=\"colab-df-container\">\n",
              "      <div>\n",
              "<style scoped>\n",
              "    .dataframe tbody tr th:only-of-type {\n",
              "        vertical-align: middle;\n",
              "    }\n",
              "\n",
              "    .dataframe tbody tr th {\n",
              "        vertical-align: top;\n",
              "    }\n",
              "\n",
              "    .dataframe thead th {\n",
              "        text-align: right;\n",
              "    }\n",
              "</style>\n",
              "<table border=\"1\" class=\"dataframe\">\n",
              "  <thead>\n",
              "    <tr style=\"text-align: right;\">\n",
              "      <th></th>\n",
              "      <th>ConnID</th>\n",
              "      <th>Repseudonym</th>\n",
              "      <th>siteid</th>\n",
              "      <th>age</th>\n",
              "      <th>visdat</th>\n",
              "      <th>sex</th>\n",
              "      <th>prmdiag</th>\n",
              "      <th>edyears</th>\n",
              "      <th>MEM_score</th>\n",
              "      <th>Apoe</th>\n",
              "      <th>IDs</th>\n",
              "      <th>1_2</th>\n",
              "      <th>1_3</th>\n",
              "      <th>1_4</th>\n",
              "      <th>1_5</th>\n",
              "      <th>1_6</th>\n",
              "      <th>1_7</th>\n",
              "      <th>1_8</th>\n",
              "      <th>1_9</th>\n",
              "      <th>1_10</th>\n",
              "      <th>1_11</th>\n",
              "      <th>1_12</th>\n",
              "      <th>1_13</th>\n",
              "      <th>1_14</th>\n",
              "      <th>1_15</th>\n",
              "      <th>1_16</th>\n",
              "      <th>1_17</th>\n",
              "      <th>1_18</th>\n",
              "      <th>1_19</th>\n",
              "      <th>1_20</th>\n",
              "      <th>1_21</th>\n",
              "      <th>1_22</th>\n",
              "      <th>1_23</th>\n",
              "      <th>1_24</th>\n",
              "      <th>1_25</th>\n",
              "      <th>1_26</th>\n",
              "      <th>1_27</th>\n",
              "      <th>1_28</th>\n",
              "      <th>1_29</th>\n",
              "      <th>1_30</th>\n",
              "      <th>...</th>\n",
              "      <th>237_243</th>\n",
              "      <th>237_244</th>\n",
              "      <th>237_245</th>\n",
              "      <th>237_246</th>\n",
              "      <th>238_239</th>\n",
              "      <th>238_240</th>\n",
              "      <th>238_241</th>\n",
              "      <th>238_242</th>\n",
              "      <th>238_243</th>\n",
              "      <th>238_244</th>\n",
              "      <th>238_245</th>\n",
              "      <th>238_246</th>\n",
              "      <th>239_240</th>\n",
              "      <th>239_241</th>\n",
              "      <th>239_242</th>\n",
              "      <th>239_243</th>\n",
              "      <th>239_244</th>\n",
              "      <th>239_245</th>\n",
              "      <th>239_246</th>\n",
              "      <th>240_241</th>\n",
              "      <th>240_242</th>\n",
              "      <th>240_243</th>\n",
              "      <th>240_244</th>\n",
              "      <th>240_245</th>\n",
              "      <th>240_246</th>\n",
              "      <th>241_242</th>\n",
              "      <th>241_243</th>\n",
              "      <th>241_244</th>\n",
              "      <th>241_245</th>\n",
              "      <th>241_246</th>\n",
              "      <th>242_243</th>\n",
              "      <th>242_244</th>\n",
              "      <th>242_245</th>\n",
              "      <th>242_246</th>\n",
              "      <th>243_244</th>\n",
              "      <th>243_245</th>\n",
              "      <th>243_246</th>\n",
              "      <th>244_245</th>\n",
              "      <th>244_246</th>\n",
              "      <th>245_246</th>\n",
              "    </tr>\n",
              "  </thead>\n",
              "  <tbody>\n",
              "    <tr>\n",
              "      <th>0</th>\n",
              "      <td>868</td>\n",
              "      <td>6829e1ce3</td>\n",
              "      <td>10</td>\n",
              "      <td>71</td>\n",
              "      <td>2015-01-26</td>\n",
              "      <td>2</td>\n",
              "      <td>3</td>\n",
              "      <td>16</td>\n",
              "      <td>-1.729994</td>\n",
              "      <td>1.0</td>\n",
              "      <td>868.0</td>\n",
              "      <td>1.146729</td>\n",
              "      <td>0.522587</td>\n",
              "      <td>0.299638</td>\n",
              "      <td>0.549717</td>\n",
              "      <td>0.073312</td>\n",
              "      <td>0.446971</td>\n",
              "      <td>0.012572</td>\n",
              "      <td>0.603935</td>\n",
              "      <td>0.515467</td>\n",
              "      <td>0.932092</td>\n",
              "      <td>0.583021</td>\n",
              "      <td>0.171392</td>\n",
              "      <td>-0.144495</td>\n",
              "      <td>-0.024442</td>\n",
              "      <td>-0.154272</td>\n",
              "      <td>0.712633</td>\n",
              "      <td>0.251251</td>\n",
              "      <td>0.240397</td>\n",
              "      <td>-0.052765</td>\n",
              "      <td>0.386807</td>\n",
              "      <td>0.228755</td>\n",
              "      <td>0.298525</td>\n",
              "      <td>0.221253</td>\n",
              "      <td>1.410941</td>\n",
              "      <td>0.474349</td>\n",
              "      <td>0.086748</td>\n",
              "      <td>0.237207</td>\n",
              "      <td>0.782228</td>\n",
              "      <td>0.296881</td>\n",
              "      <td>...</td>\n",
              "      <td>0.351774</td>\n",
              "      <td>0.511471</td>\n",
              "      <td>0.285011</td>\n",
              "      <td>0.270964</td>\n",
              "      <td>0.300079</td>\n",
              "      <td>0.243370</td>\n",
              "      <td>0.258913</td>\n",
              "      <td>0.261387</td>\n",
              "      <td>0.046223</td>\n",
              "      <td>0.189416</td>\n",
              "      <td>0.380844</td>\n",
              "      <td>0.385093</td>\n",
              "      <td>0.527842</td>\n",
              "      <td>0.512310</td>\n",
              "      <td>0.552118</td>\n",
              "      <td>0.450334</td>\n",
              "      <td>0.314042</td>\n",
              "      <td>0.155607</td>\n",
              "      <td>0.164104</td>\n",
              "      <td>0.277321</td>\n",
              "      <td>0.763092</td>\n",
              "      <td>0.408995</td>\n",
              "      <td>0.353857</td>\n",
              "      <td>-0.039462</td>\n",
              "      <td>-0.050630</td>\n",
              "      <td>0.585805</td>\n",
              "      <td>0.494930</td>\n",
              "      <td>0.147964</td>\n",
              "      <td>0.142526</td>\n",
              "      <td>-0.063525</td>\n",
              "      <td>0.747366</td>\n",
              "      <td>0.400368</td>\n",
              "      <td>-0.087084</td>\n",
              "      <td>-0.167530</td>\n",
              "      <td>0.879731</td>\n",
              "      <td>-0.252925</td>\n",
              "      <td>-0.231639</td>\n",
              "      <td>-0.138693</td>\n",
              "      <td>-0.027045</td>\n",
              "      <td>0.388247</td>\n",
              "    </tr>\n",
              "    <tr>\n",
              "      <th>1</th>\n",
              "      <td>441</td>\n",
              "      <td>8522b0508</td>\n",
              "      <td>2</td>\n",
              "      <td>67</td>\n",
              "      <td>21.10.2014</td>\n",
              "      <td>1</td>\n",
              "      <td>0</td>\n",
              "      <td>16</td>\n",
              "      <td>1.158892</td>\n",
              "      <td>1.0</td>\n",
              "      <td>441.0</td>\n",
              "      <td>0.199663</td>\n",
              "      <td>0.610013</td>\n",
              "      <td>-0.066466</td>\n",
              "      <td>0.349376</td>\n",
              "      <td>0.076821</td>\n",
              "      <td>0.208840</td>\n",
              "      <td>-0.262101</td>\n",
              "      <td>0.251783</td>\n",
              "      <td>0.211163</td>\n",
              "      <td>0.502968</td>\n",
              "      <td>0.207629</td>\n",
              "      <td>0.394165</td>\n",
              "      <td>0.220473</td>\n",
              "      <td>0.123993</td>\n",
              "      <td>-0.243632</td>\n",
              "      <td>0.552812</td>\n",
              "      <td>0.049304</td>\n",
              "      <td>-0.000104</td>\n",
              "      <td>-0.295398</td>\n",
              "      <td>-0.166069</td>\n",
              "      <td>-0.178240</td>\n",
              "      <td>0.405269</td>\n",
              "      <td>0.093878</td>\n",
              "      <td>0.658632</td>\n",
              "      <td>-0.157273</td>\n",
              "      <td>-0.017449</td>\n",
              "      <td>-0.041605</td>\n",
              "      <td>0.469527</td>\n",
              "      <td>-0.155139</td>\n",
              "      <td>...</td>\n",
              "      <td>0.568286</td>\n",
              "      <td>0.587661</td>\n",
              "      <td>0.183287</td>\n",
              "      <td>0.223735</td>\n",
              "      <td>0.130710</td>\n",
              "      <td>0.166708</td>\n",
              "      <td>0.359447</td>\n",
              "      <td>0.452511</td>\n",
              "      <td>0.340619</td>\n",
              "      <td>0.426335</td>\n",
              "      <td>0.069407</td>\n",
              "      <td>0.105798</td>\n",
              "      <td>0.426328</td>\n",
              "      <td>0.282587</td>\n",
              "      <td>0.205381</td>\n",
              "      <td>0.334163</td>\n",
              "      <td>-0.105860</td>\n",
              "      <td>0.547087</td>\n",
              "      <td>0.732076</td>\n",
              "      <td>0.466669</td>\n",
              "      <td>0.774426</td>\n",
              "      <td>0.387074</td>\n",
              "      <td>0.279595</td>\n",
              "      <td>0.339490</td>\n",
              "      <td>0.642812</td>\n",
              "      <td>0.525380</td>\n",
              "      <td>0.845305</td>\n",
              "      <td>0.514832</td>\n",
              "      <td>0.259368</td>\n",
              "      <td>0.347379</td>\n",
              "      <td>0.496284</td>\n",
              "      <td>0.486426</td>\n",
              "      <td>0.242803</td>\n",
              "      <td>0.254150</td>\n",
              "      <td>0.619526</td>\n",
              "      <td>0.272887</td>\n",
              "      <td>0.358726</td>\n",
              "      <td>0.032463</td>\n",
              "      <td>0.061394</td>\n",
              "      <td>0.616225</td>\n",
              "    </tr>\n",
              "    <tr>\n",
              "      <th>2</th>\n",
              "      <td>344</td>\n",
              "      <td>278d3e09d</td>\n",
              "      <td>8</td>\n",
              "      <td>65</td>\n",
              "      <td>11.09.2017</td>\n",
              "      <td>0</td>\n",
              "      <td>2</td>\n",
              "      <td>13</td>\n",
              "      <td>-0.551006</td>\n",
              "      <td>1.0</td>\n",
              "      <td>344.0</td>\n",
              "      <td>0.725238</td>\n",
              "      <td>0.426898</td>\n",
              "      <td>0.360894</td>\n",
              "      <td>0.397894</td>\n",
              "      <td>0.256171</td>\n",
              "      <td>0.386240</td>\n",
              "      <td>0.287945</td>\n",
              "      <td>0.371946</td>\n",
              "      <td>0.271444</td>\n",
              "      <td>0.609089</td>\n",
              "      <td>0.498072</td>\n",
              "      <td>0.465709</td>\n",
              "      <td>0.396935</td>\n",
              "      <td>0.336638</td>\n",
              "      <td>0.446888</td>\n",
              "      <td>0.531004</td>\n",
              "      <td>0.389180</td>\n",
              "      <td>0.377135</td>\n",
              "      <td>0.363941</td>\n",
              "      <td>0.571994</td>\n",
              "      <td>0.364167</td>\n",
              "      <td>0.417144</td>\n",
              "      <td>0.246004</td>\n",
              "      <td>0.516343</td>\n",
              "      <td>0.338453</td>\n",
              "      <td>0.069048</td>\n",
              "      <td>0.216679</td>\n",
              "      <td>0.159632</td>\n",
              "      <td>0.384338</td>\n",
              "      <td>...</td>\n",
              "      <td>0.155720</td>\n",
              "      <td>0.567304</td>\n",
              "      <td>-0.004329</td>\n",
              "      <td>0.017256</td>\n",
              "      <td>0.063996</td>\n",
              "      <td>0.074868</td>\n",
              "      <td>0.256378</td>\n",
              "      <td>0.301886</td>\n",
              "      <td>0.180127</td>\n",
              "      <td>0.111256</td>\n",
              "      <td>-0.155415</td>\n",
              "      <td>-0.101298</td>\n",
              "      <td>0.141372</td>\n",
              "      <td>0.379444</td>\n",
              "      <td>-0.019284</td>\n",
              "      <td>0.072540</td>\n",
              "      <td>-0.186382</td>\n",
              "      <td>0.199278</td>\n",
              "      <td>0.417957</td>\n",
              "      <td>0.093033</td>\n",
              "      <td>0.441952</td>\n",
              "      <td>0.149979</td>\n",
              "      <td>0.208389</td>\n",
              "      <td>0.309599</td>\n",
              "      <td>0.440471</td>\n",
              "      <td>0.292920</td>\n",
              "      <td>0.381183</td>\n",
              "      <td>-0.173404</td>\n",
              "      <td>-0.034664</td>\n",
              "      <td>-0.018565</td>\n",
              "      <td>0.623140</td>\n",
              "      <td>0.499137</td>\n",
              "      <td>0.129084</td>\n",
              "      <td>0.047080</td>\n",
              "      <td>0.387393</td>\n",
              "      <td>-0.007641</td>\n",
              "      <td>0.035944</td>\n",
              "      <td>0.172719</td>\n",
              "      <td>0.116450</td>\n",
              "      <td>0.835336</td>\n",
              "    </tr>\n",
              "    <tr>\n",
              "      <th>3</th>\n",
              "      <td>739</td>\n",
              "      <td>e082ef075</td>\n",
              "      <td>10</td>\n",
              "      <td>73</td>\n",
              "      <td>19.10.2017</td>\n",
              "      <td>0</td>\n",
              "      <td>1</td>\n",
              "      <td>15</td>\n",
              "      <td>0.065046</td>\n",
              "      <td>0.0</td>\n",
              "      <td>739.0</td>\n",
              "      <td>0.869575</td>\n",
              "      <td>0.559593</td>\n",
              "      <td>0.257733</td>\n",
              "      <td>0.073006</td>\n",
              "      <td>0.082113</td>\n",
              "      <td>0.381939</td>\n",
              "      <td>0.371169</td>\n",
              "      <td>0.294993</td>\n",
              "      <td>0.386934</td>\n",
              "      <td>0.532553</td>\n",
              "      <td>0.449445</td>\n",
              "      <td>-0.205010</td>\n",
              "      <td>-0.239771</td>\n",
              "      <td>0.455469</td>\n",
              "      <td>0.453030</td>\n",
              "      <td>0.448847</td>\n",
              "      <td>0.264279</td>\n",
              "      <td>0.055732</td>\n",
              "      <td>0.076631</td>\n",
              "      <td>0.338998</td>\n",
              "      <td>0.139095</td>\n",
              "      <td>0.570759</td>\n",
              "      <td>0.290608</td>\n",
              "      <td>0.591161</td>\n",
              "      <td>0.232670</td>\n",
              "      <td>-0.378361</td>\n",
              "      <td>-0.021351</td>\n",
              "      <td>-0.019480</td>\n",
              "      <td>0.040730</td>\n",
              "      <td>...</td>\n",
              "      <td>0.739715</td>\n",
              "      <td>0.696475</td>\n",
              "      <td>0.096738</td>\n",
              "      <td>0.061929</td>\n",
              "      <td>0.030234</td>\n",
              "      <td>0.570444</td>\n",
              "      <td>0.710507</td>\n",
              "      <td>0.727654</td>\n",
              "      <td>0.669247</td>\n",
              "      <td>0.624993</td>\n",
              "      <td>0.029718</td>\n",
              "      <td>0.028448</td>\n",
              "      <td>0.388798</td>\n",
              "      <td>0.331263</td>\n",
              "      <td>0.181484</td>\n",
              "      <td>0.231469</td>\n",
              "      <td>-0.077557</td>\n",
              "      <td>0.505848</td>\n",
              "      <td>0.542434</td>\n",
              "      <td>0.554592</td>\n",
              "      <td>0.730163</td>\n",
              "      <td>0.717702</td>\n",
              "      <td>0.451304</td>\n",
              "      <td>0.104766</td>\n",
              "      <td>0.353524</td>\n",
              "      <td>0.938313</td>\n",
              "      <td>0.585477</td>\n",
              "      <td>0.233315</td>\n",
              "      <td>-0.033772</td>\n",
              "      <td>0.010233</td>\n",
              "      <td>0.736154</td>\n",
              "      <td>0.569162</td>\n",
              "      <td>-0.119822</td>\n",
              "      <td>-0.006025</td>\n",
              "      <td>0.557559</td>\n",
              "      <td>-0.116897</td>\n",
              "      <td>-0.013115</td>\n",
              "      <td>0.108947</td>\n",
              "      <td>0.054055</td>\n",
              "      <td>0.560809</td>\n",
              "    </tr>\n",
              "    <tr>\n",
              "      <th>4</th>\n",
              "      <td>788</td>\n",
              "      <td>f71815317</td>\n",
              "      <td>10</td>\n",
              "      <td>68</td>\n",
              "      <td>23.03.2015</td>\n",
              "      <td>1</td>\n",
              "      <td>0</td>\n",
              "      <td>18</td>\n",
              "      <td>0.746486</td>\n",
              "      <td>1.0</td>\n",
              "      <td>788.0</td>\n",
              "      <td>0.441515</td>\n",
              "      <td>0.386490</td>\n",
              "      <td>-0.026574</td>\n",
              "      <td>0.261981</td>\n",
              "      <td>0.058682</td>\n",
              "      <td>0.529303</td>\n",
              "      <td>0.489445</td>\n",
              "      <td>0.249773</td>\n",
              "      <td>0.230496</td>\n",
              "      <td>0.483261</td>\n",
              "      <td>0.222630</td>\n",
              "      <td>0.437510</td>\n",
              "      <td>0.109644</td>\n",
              "      <td>0.056770</td>\n",
              "      <td>-0.024151</td>\n",
              "      <td>0.468324</td>\n",
              "      <td>-0.045324</td>\n",
              "      <td>0.228089</td>\n",
              "      <td>0.026241</td>\n",
              "      <td>0.296034</td>\n",
              "      <td>0.027189</td>\n",
              "      <td>0.339351</td>\n",
              "      <td>0.031207</td>\n",
              "      <td>0.528243</td>\n",
              "      <td>0.138107</td>\n",
              "      <td>0.161225</td>\n",
              "      <td>-0.218060</td>\n",
              "      <td>0.422676</td>\n",
              "      <td>-0.077393</td>\n",
              "      <td>...</td>\n",
              "      <td>0.519957</td>\n",
              "      <td>0.316054</td>\n",
              "      <td>0.159369</td>\n",
              "      <td>0.163482</td>\n",
              "      <td>0.217169</td>\n",
              "      <td>0.311668</td>\n",
              "      <td>0.339225</td>\n",
              "      <td>0.221511</td>\n",
              "      <td>0.103218</td>\n",
              "      <td>0.326568</td>\n",
              "      <td>0.152667</td>\n",
              "      <td>0.141363</td>\n",
              "      <td>0.100861</td>\n",
              "      <td>0.176335</td>\n",
              "      <td>0.059848</td>\n",
              "      <td>0.209259</td>\n",
              "      <td>0.286097</td>\n",
              "      <td>0.011010</td>\n",
              "      <td>0.112836</td>\n",
              "      <td>0.234297</td>\n",
              "      <td>0.524877</td>\n",
              "      <td>0.097849</td>\n",
              "      <td>0.190229</td>\n",
              "      <td>0.045144</td>\n",
              "      <td>0.150050</td>\n",
              "      <td>-0.070643</td>\n",
              "      <td>0.338269</td>\n",
              "      <td>0.071217</td>\n",
              "      <td>-0.283862</td>\n",
              "      <td>-0.029804</td>\n",
              "      <td>0.250007</td>\n",
              "      <td>0.286963</td>\n",
              "      <td>0.099830</td>\n",
              "      <td>0.150341</td>\n",
              "      <td>0.217731</td>\n",
              "      <td>-0.076833</td>\n",
              "      <td>0.167448</td>\n",
              "      <td>0.222248</td>\n",
              "      <td>0.206649</td>\n",
              "      <td>-0.004471</td>\n",
              "    </tr>\n",
              "  </tbody>\n",
              "</table>\n",
              "<p>5 rows × 30146 columns</p>\n",
              "</div>\n",
              "      <button class=\"colab-df-convert\" onclick=\"convertToInteractive('df-28c3ac32-ff11-41dc-8454-f582b21c2a0a')\"\n",
              "              title=\"Convert this dataframe to an interactive table.\"\n",
              "              style=\"display:none;\">\n",
              "        \n",
              "  <svg xmlns=\"http://www.w3.org/2000/svg\" height=\"24px\"viewBox=\"0 0 24 24\"\n",
              "       width=\"24px\">\n",
              "    <path d=\"M0 0h24v24H0V0z\" fill=\"none\"/>\n",
              "    <path d=\"M18.56 5.44l.94 2.06.94-2.06 2.06-.94-2.06-.94-.94-2.06-.94 2.06-2.06.94zm-11 1L8.5 8.5l.94-2.06 2.06-.94-2.06-.94L8.5 2.5l-.94 2.06-2.06.94zm10 10l.94 2.06.94-2.06 2.06-.94-2.06-.94-.94-2.06-.94 2.06-2.06.94z\"/><path d=\"M17.41 7.96l-1.37-1.37c-.4-.4-.92-.59-1.43-.59-.52 0-1.04.2-1.43.59L10.3 9.45l-7.72 7.72c-.78.78-.78 2.05 0 2.83L4 21.41c.39.39.9.59 1.41.59.51 0 1.02-.2 1.41-.59l7.78-7.78 2.81-2.81c.8-.78.8-2.07 0-2.86zM5.41 20L4 18.59l7.72-7.72 1.47 1.35L5.41 20z\"/>\n",
              "  </svg>\n",
              "      </button>\n",
              "      \n",
              "  <style>\n",
              "    .colab-df-container {\n",
              "      display:flex;\n",
              "      flex-wrap:wrap;\n",
              "      gap: 12px;\n",
              "    }\n",
              "\n",
              "    .colab-df-convert {\n",
              "      background-color: #E8F0FE;\n",
              "      border: none;\n",
              "      border-radius: 50%;\n",
              "      cursor: pointer;\n",
              "      display: none;\n",
              "      fill: #1967D2;\n",
              "      height: 32px;\n",
              "      padding: 0 0 0 0;\n",
              "      width: 32px;\n",
              "    }\n",
              "\n",
              "    .colab-df-convert:hover {\n",
              "      background-color: #E2EBFA;\n",
              "      box-shadow: 0px 1px 2px rgba(60, 64, 67, 0.3), 0px 1px 3px 1px rgba(60, 64, 67, 0.15);\n",
              "      fill: #174EA6;\n",
              "    }\n",
              "\n",
              "    [theme=dark] .colab-df-convert {\n",
              "      background-color: #3B4455;\n",
              "      fill: #D2E3FC;\n",
              "    }\n",
              "\n",
              "    [theme=dark] .colab-df-convert:hover {\n",
              "      background-color: #434B5C;\n",
              "      box-shadow: 0px 1px 3px 1px rgba(0, 0, 0, 0.15);\n",
              "      filter: drop-shadow(0px 1px 2px rgba(0, 0, 0, 0.3));\n",
              "      fill: #FFFFFF;\n",
              "    }\n",
              "  </style>\n",
              "\n",
              "      <script>\n",
              "        const buttonEl =\n",
              "          document.querySelector('#df-28c3ac32-ff11-41dc-8454-f582b21c2a0a button.colab-df-convert');\n",
              "        buttonEl.style.display =\n",
              "          google.colab.kernel.accessAllowed ? 'block' : 'none';\n",
              "\n",
              "        async function convertToInteractive(key) {\n",
              "          const element = document.querySelector('#df-28c3ac32-ff11-41dc-8454-f582b21c2a0a');\n",
              "          const dataTable =\n",
              "            await google.colab.kernel.invokeFunction('convertToInteractive',\n",
              "                                                     [key], {});\n",
              "          if (!dataTable) return;\n",
              "\n",
              "          const docLinkHtml = 'Like what you see? Visit the ' +\n",
              "            '<a target=\"_blank\" href=https://colab.research.google.com/notebooks/data_table.ipynb>data table notebook</a>'\n",
              "            + ' to learn more about interactive tables.';\n",
              "          element.innerHTML = '';\n",
              "          dataTable['output_type'] = 'display_data';\n",
              "          await google.colab.output.renderOutput(dataTable, element);\n",
              "          const docLink = document.createElement('div');\n",
              "          docLink.innerHTML = docLinkHtml;\n",
              "          element.appendChild(docLink);\n",
              "        }\n",
              "      </script>\n",
              "    </div>\n",
              "  </div>\n",
              "  "
            ],
            "text/plain": [
              "   ConnID Repseudonym  siteid  age  ...   243_246   244_245   244_246   245_246\n",
              "0     868   6829e1ce3      10   71  ... -0.231639 -0.138693 -0.027045  0.388247\n",
              "1     441   8522b0508       2   67  ...  0.358726  0.032463  0.061394  0.616225\n",
              "2     344   278d3e09d       8   65  ...  0.035944  0.172719  0.116450  0.835336\n",
              "3     739   e082ef075      10   73  ... -0.013115  0.108947  0.054055  0.560809\n",
              "4     788   f71815317      10   68  ...  0.167448  0.222248  0.206649 -0.004471\n",
              "\n",
              "[5 rows x 30146 columns]"
            ]
          },
          "metadata": {},
          "execution_count": 4
        }
      ]
    },
    {
      "cell_type": "code",
      "source": [
        "data = pd.concat([train, test])\n",
        "\n",
        "data.info()"
      ],
      "metadata": {
        "colab": {
          "base_uri": "https://localhost:8080/"
        },
        "id": "IU-01yAYvRfe",
        "outputId": "753fb68e-f62a-448b-f060-3d2409c2226d"
      },
      "execution_count": 5,
      "outputs": [
        {
          "output_type": "stream",
          "name": "stdout",
          "text": [
            "<class 'pandas.core.frame.DataFrame'>\n",
            "Int64Index: 909 entries, 0 to 181\n",
            "Columns: 30146 entries, ConnID to 245_246\n",
            "dtypes: float64(30138), int64(6), object(2)\n",
            "memory usage: 209.1+ MB\n"
          ]
        }
      ]
    },
    {
      "cell_type": "code",
      "source": [
        "data.drop(['ConnID','Repseudonym','siteid','age', 'visdat', 'sex', 'prmdiag', 'edyears', 'MEM_score', 'Apoe', 'IDs'], axis = 1, inplace=True)\n",
        "data.head()"
      ],
      "metadata": {
        "colab": {
          "base_uri": "https://localhost:8080/",
          "height": 300
        },
        "id": "_3s6uoj0vhDd",
        "outputId": "8852bc4a-2a6d-49e5-e3a9-a7ab2fecedea"
      },
      "execution_count": 6,
      "outputs": [
        {
          "output_type": "execute_result",
          "data": {
            "text/html": [
              "\n",
              "  <div id=\"df-068ccf44-fcb5-4c43-ab2b-f0b604c691e2\">\n",
              "    <div class=\"colab-df-container\">\n",
              "      <div>\n",
              "<style scoped>\n",
              "    .dataframe tbody tr th:only-of-type {\n",
              "        vertical-align: middle;\n",
              "    }\n",
              "\n",
              "    .dataframe tbody tr th {\n",
              "        vertical-align: top;\n",
              "    }\n",
              "\n",
              "    .dataframe thead th {\n",
              "        text-align: right;\n",
              "    }\n",
              "</style>\n",
              "<table border=\"1\" class=\"dataframe\">\n",
              "  <thead>\n",
              "    <tr style=\"text-align: right;\">\n",
              "      <th></th>\n",
              "      <th>1_2</th>\n",
              "      <th>1_3</th>\n",
              "      <th>1_4</th>\n",
              "      <th>1_5</th>\n",
              "      <th>1_6</th>\n",
              "      <th>1_7</th>\n",
              "      <th>1_8</th>\n",
              "      <th>1_9</th>\n",
              "      <th>1_10</th>\n",
              "      <th>1_11</th>\n",
              "      <th>1_12</th>\n",
              "      <th>1_13</th>\n",
              "      <th>1_14</th>\n",
              "      <th>1_15</th>\n",
              "      <th>1_16</th>\n",
              "      <th>1_17</th>\n",
              "      <th>1_18</th>\n",
              "      <th>1_19</th>\n",
              "      <th>1_20</th>\n",
              "      <th>1_21</th>\n",
              "      <th>1_22</th>\n",
              "      <th>1_23</th>\n",
              "      <th>1_24</th>\n",
              "      <th>1_25</th>\n",
              "      <th>1_26</th>\n",
              "      <th>1_27</th>\n",
              "      <th>1_28</th>\n",
              "      <th>1_29</th>\n",
              "      <th>1_30</th>\n",
              "      <th>1_31</th>\n",
              "      <th>1_32</th>\n",
              "      <th>1_33</th>\n",
              "      <th>1_34</th>\n",
              "      <th>1_35</th>\n",
              "      <th>1_36</th>\n",
              "      <th>1_37</th>\n",
              "      <th>1_38</th>\n",
              "      <th>1_39</th>\n",
              "      <th>1_40</th>\n",
              "      <th>1_41</th>\n",
              "      <th>...</th>\n",
              "      <th>237_243</th>\n",
              "      <th>237_244</th>\n",
              "      <th>237_245</th>\n",
              "      <th>237_246</th>\n",
              "      <th>238_239</th>\n",
              "      <th>238_240</th>\n",
              "      <th>238_241</th>\n",
              "      <th>238_242</th>\n",
              "      <th>238_243</th>\n",
              "      <th>238_244</th>\n",
              "      <th>238_245</th>\n",
              "      <th>238_246</th>\n",
              "      <th>239_240</th>\n",
              "      <th>239_241</th>\n",
              "      <th>239_242</th>\n",
              "      <th>239_243</th>\n",
              "      <th>239_244</th>\n",
              "      <th>239_245</th>\n",
              "      <th>239_246</th>\n",
              "      <th>240_241</th>\n",
              "      <th>240_242</th>\n",
              "      <th>240_243</th>\n",
              "      <th>240_244</th>\n",
              "      <th>240_245</th>\n",
              "      <th>240_246</th>\n",
              "      <th>241_242</th>\n",
              "      <th>241_243</th>\n",
              "      <th>241_244</th>\n",
              "      <th>241_245</th>\n",
              "      <th>241_246</th>\n",
              "      <th>242_243</th>\n",
              "      <th>242_244</th>\n",
              "      <th>242_245</th>\n",
              "      <th>242_246</th>\n",
              "      <th>243_244</th>\n",
              "      <th>243_245</th>\n",
              "      <th>243_246</th>\n",
              "      <th>244_245</th>\n",
              "      <th>244_246</th>\n",
              "      <th>245_246</th>\n",
              "    </tr>\n",
              "  </thead>\n",
              "  <tbody>\n",
              "    <tr>\n",
              "      <th>0</th>\n",
              "      <td>0.749860</td>\n",
              "      <td>0.230923</td>\n",
              "      <td>-0.065474</td>\n",
              "      <td>0.412777</td>\n",
              "      <td>0.303270</td>\n",
              "      <td>0.341117</td>\n",
              "      <td>-0.027277</td>\n",
              "      <td>0.574057</td>\n",
              "      <td>0.290517</td>\n",
              "      <td>0.862302</td>\n",
              "      <td>0.479994</td>\n",
              "      <td>0.419541</td>\n",
              "      <td>0.089797</td>\n",
              "      <td>0.211377</td>\n",
              "      <td>-0.069165</td>\n",
              "      <td>0.243698</td>\n",
              "      <td>0.138934</td>\n",
              "      <td>0.203588</td>\n",
              "      <td>-0.128424</td>\n",
              "      <td>-0.142274</td>\n",
              "      <td>-0.097212</td>\n",
              "      <td>0.342343</td>\n",
              "      <td>-0.006937</td>\n",
              "      <td>0.953543</td>\n",
              "      <td>0.271842</td>\n",
              "      <td>-0.215807</td>\n",
              "      <td>-0.345942</td>\n",
              "      <td>0.288377</td>\n",
              "      <td>-0.002376</td>\n",
              "      <td>0.105462</td>\n",
              "      <td>0.011338</td>\n",
              "      <td>0.225393</td>\n",
              "      <td>0.253414</td>\n",
              "      <td>0.241490</td>\n",
              "      <td>0.170374</td>\n",
              "      <td>0.454263</td>\n",
              "      <td>0.390002</td>\n",
              "      <td>0.608381</td>\n",
              "      <td>0.330585</td>\n",
              "      <td>0.297279</td>\n",
              "      <td>...</td>\n",
              "      <td>0.675390</td>\n",
              "      <td>0.641759</td>\n",
              "      <td>0.256006</td>\n",
              "      <td>0.161096</td>\n",
              "      <td>0.051992</td>\n",
              "      <td>0.335806</td>\n",
              "      <td>0.274249</td>\n",
              "      <td>0.464632</td>\n",
              "      <td>0.346927</td>\n",
              "      <td>0.197321</td>\n",
              "      <td>0.093035</td>\n",
              "      <td>0.169661</td>\n",
              "      <td>0.843718</td>\n",
              "      <td>0.758413</td>\n",
              "      <td>0.297913</td>\n",
              "      <td>0.398200</td>\n",
              "      <td>-0.033476</td>\n",
              "      <td>1.027731</td>\n",
              "      <td>1.040865</td>\n",
              "      <td>1.111977</td>\n",
              "      <td>0.796641</td>\n",
              "      <td>0.750172</td>\n",
              "      <td>0.242670</td>\n",
              "      <td>0.693493</td>\n",
              "      <td>0.663318</td>\n",
              "      <td>0.677533</td>\n",
              "      <td>0.545846</td>\n",
              "      <td>0.246136</td>\n",
              "      <td>0.600611</td>\n",
              "      <td>0.532708</td>\n",
              "      <td>0.910899</td>\n",
              "      <td>0.423027</td>\n",
              "      <td>0.168445</td>\n",
              "      <td>0.086235</td>\n",
              "      <td>0.553605</td>\n",
              "      <td>0.260301</td>\n",
              "      <td>0.262766</td>\n",
              "      <td>-0.064755</td>\n",
              "      <td>-0.121692</td>\n",
              "      <td>1.193451</td>\n",
              "    </tr>\n",
              "    <tr>\n",
              "      <th>1</th>\n",
              "      <td>0.769255</td>\n",
              "      <td>0.488714</td>\n",
              "      <td>0.116482</td>\n",
              "      <td>-0.021402</td>\n",
              "      <td>-0.150269</td>\n",
              "      <td>0.307751</td>\n",
              "      <td>0.393959</td>\n",
              "      <td>0.304850</td>\n",
              "      <td>0.355440</td>\n",
              "      <td>0.476269</td>\n",
              "      <td>0.125607</td>\n",
              "      <td>-0.130721</td>\n",
              "      <td>-0.072421</td>\n",
              "      <td>0.430517</td>\n",
              "      <td>0.186178</td>\n",
              "      <td>0.727480</td>\n",
              "      <td>0.388229</td>\n",
              "      <td>0.120676</td>\n",
              "      <td>0.009006</td>\n",
              "      <td>0.496298</td>\n",
              "      <td>0.096529</td>\n",
              "      <td>0.357324</td>\n",
              "      <td>0.193164</td>\n",
              "      <td>0.485271</td>\n",
              "      <td>0.248289</td>\n",
              "      <td>-0.113434</td>\n",
              "      <td>-0.227484</td>\n",
              "      <td>0.485454</td>\n",
              "      <td>0.268980</td>\n",
              "      <td>0.308087</td>\n",
              "      <td>0.194488</td>\n",
              "      <td>0.309779</td>\n",
              "      <td>0.124812</td>\n",
              "      <td>0.151790</td>\n",
              "      <td>-0.065100</td>\n",
              "      <td>0.646630</td>\n",
              "      <td>0.305655</td>\n",
              "      <td>0.520542</td>\n",
              "      <td>0.225370</td>\n",
              "      <td>0.040498</td>\n",
              "      <td>...</td>\n",
              "      <td>1.170770</td>\n",
              "      <td>0.347485</td>\n",
              "      <td>0.377663</td>\n",
              "      <td>0.224154</td>\n",
              "      <td>0.323828</td>\n",
              "      <td>0.439175</td>\n",
              "      <td>0.538379</td>\n",
              "      <td>0.322498</td>\n",
              "      <td>0.745291</td>\n",
              "      <td>0.248104</td>\n",
              "      <td>0.554985</td>\n",
              "      <td>0.353254</td>\n",
              "      <td>0.220629</td>\n",
              "      <td>0.451341</td>\n",
              "      <td>0.322443</td>\n",
              "      <td>0.568902</td>\n",
              "      <td>0.357294</td>\n",
              "      <td>0.450699</td>\n",
              "      <td>0.659226</td>\n",
              "      <td>0.461063</td>\n",
              "      <td>0.722502</td>\n",
              "      <td>0.556016</td>\n",
              "      <td>0.228903</td>\n",
              "      <td>0.295915</td>\n",
              "      <td>0.322317</td>\n",
              "      <td>0.484691</td>\n",
              "      <td>0.791189</td>\n",
              "      <td>0.268268</td>\n",
              "      <td>0.141795</td>\n",
              "      <td>0.034816</td>\n",
              "      <td>0.381080</td>\n",
              "      <td>0.852528</td>\n",
              "      <td>0.141102</td>\n",
              "      <td>0.182648</td>\n",
              "      <td>0.196211</td>\n",
              "      <td>0.387882</td>\n",
              "      <td>0.299217</td>\n",
              "      <td>0.194711</td>\n",
              "      <td>0.191894</td>\n",
              "      <td>1.018621</td>\n",
              "    </tr>\n",
              "    <tr>\n",
              "      <th>2</th>\n",
              "      <td>0.168419</td>\n",
              "      <td>0.257018</td>\n",
              "      <td>0.016907</td>\n",
              "      <td>0.091702</td>\n",
              "      <td>-0.010532</td>\n",
              "      <td>0.435234</td>\n",
              "      <td>0.106881</td>\n",
              "      <td>0.182423</td>\n",
              "      <td>0.056001</td>\n",
              "      <td>0.502006</td>\n",
              "      <td>0.317397</td>\n",
              "      <td>0.217119</td>\n",
              "      <td>0.021138</td>\n",
              "      <td>0.640308</td>\n",
              "      <td>0.071841</td>\n",
              "      <td>0.204547</td>\n",
              "      <td>0.161851</td>\n",
              "      <td>0.247751</td>\n",
              "      <td>-0.140406</td>\n",
              "      <td>0.114880</td>\n",
              "      <td>-0.060171</td>\n",
              "      <td>0.269094</td>\n",
              "      <td>0.016566</td>\n",
              "      <td>0.430953</td>\n",
              "      <td>0.037941</td>\n",
              "      <td>0.160389</td>\n",
              "      <td>-0.093853</td>\n",
              "      <td>0.430277</td>\n",
              "      <td>-0.035102</td>\n",
              "      <td>-0.029993</td>\n",
              "      <td>0.202016</td>\n",
              "      <td>0.099901</td>\n",
              "      <td>0.057707</td>\n",
              "      <td>0.136433</td>\n",
              "      <td>0.135859</td>\n",
              "      <td>0.613484</td>\n",
              "      <td>0.007812</td>\n",
              "      <td>0.598032</td>\n",
              "      <td>0.056181</td>\n",
              "      <td>0.126008</td>\n",
              "      <td>...</td>\n",
              "      <td>0.709562</td>\n",
              "      <td>0.446627</td>\n",
              "      <td>0.172218</td>\n",
              "      <td>-0.172940</td>\n",
              "      <td>0.199733</td>\n",
              "      <td>0.216898</td>\n",
              "      <td>0.212193</td>\n",
              "      <td>0.245178</td>\n",
              "      <td>0.138725</td>\n",
              "      <td>0.192206</td>\n",
              "      <td>0.234587</td>\n",
              "      <td>0.136768</td>\n",
              "      <td>0.221140</td>\n",
              "      <td>0.219693</td>\n",
              "      <td>0.082570</td>\n",
              "      <td>0.190661</td>\n",
              "      <td>0.110283</td>\n",
              "      <td>0.411547</td>\n",
              "      <td>0.318120</td>\n",
              "      <td>0.673747</td>\n",
              "      <td>0.659346</td>\n",
              "      <td>0.442534</td>\n",
              "      <td>0.396549</td>\n",
              "      <td>0.123856</td>\n",
              "      <td>0.012965</td>\n",
              "      <td>0.577570</td>\n",
              "      <td>0.563080</td>\n",
              "      <td>0.140217</td>\n",
              "      <td>0.097882</td>\n",
              "      <td>-0.028234</td>\n",
              "      <td>0.639703</td>\n",
              "      <td>0.427146</td>\n",
              "      <td>0.088723</td>\n",
              "      <td>-0.245473</td>\n",
              "      <td>0.663036</td>\n",
              "      <td>0.142216</td>\n",
              "      <td>-0.300101</td>\n",
              "      <td>0.115183</td>\n",
              "      <td>-0.298258</td>\n",
              "      <td>0.131574</td>\n",
              "    </tr>\n",
              "    <tr>\n",
              "      <th>3</th>\n",
              "      <td>0.868713</td>\n",
              "      <td>0.325486</td>\n",
              "      <td>0.395653</td>\n",
              "      <td>0.391204</td>\n",
              "      <td>0.349502</td>\n",
              "      <td>0.079478</td>\n",
              "      <td>0.199210</td>\n",
              "      <td>0.158742</td>\n",
              "      <td>-0.060597</td>\n",
              "      <td>0.801271</td>\n",
              "      <td>0.418965</td>\n",
              "      <td>0.180624</td>\n",
              "      <td>0.031938</td>\n",
              "      <td>0.310969</td>\n",
              "      <td>0.231340</td>\n",
              "      <td>0.663267</td>\n",
              "      <td>0.339705</td>\n",
              "      <td>0.427437</td>\n",
              "      <td>0.265302</td>\n",
              "      <td>0.042056</td>\n",
              "      <td>0.125814</td>\n",
              "      <td>0.487544</td>\n",
              "      <td>0.190261</td>\n",
              "      <td>0.516608</td>\n",
              "      <td>0.238371</td>\n",
              "      <td>0.118187</td>\n",
              "      <td>0.057087</td>\n",
              "      <td>0.064976</td>\n",
              "      <td>0.018432</td>\n",
              "      <td>-0.057417</td>\n",
              "      <td>0.038900</td>\n",
              "      <td>0.577939</td>\n",
              "      <td>0.531050</td>\n",
              "      <td>0.419170</td>\n",
              "      <td>0.031777</td>\n",
              "      <td>0.614033</td>\n",
              "      <td>0.272392</td>\n",
              "      <td>0.321683</td>\n",
              "      <td>0.150160</td>\n",
              "      <td>-0.095889</td>\n",
              "      <td>...</td>\n",
              "      <td>0.695289</td>\n",
              "      <td>0.720458</td>\n",
              "      <td>0.383823</td>\n",
              "      <td>0.223196</td>\n",
              "      <td>0.268081</td>\n",
              "      <td>0.140685</td>\n",
              "      <td>0.303392</td>\n",
              "      <td>0.211814</td>\n",
              "      <td>0.215745</td>\n",
              "      <td>0.049197</td>\n",
              "      <td>0.347162</td>\n",
              "      <td>0.521063</td>\n",
              "      <td>0.218042</td>\n",
              "      <td>0.429776</td>\n",
              "      <td>0.175440</td>\n",
              "      <td>0.284785</td>\n",
              "      <td>-0.061578</td>\n",
              "      <td>0.478259</td>\n",
              "      <td>0.531669</td>\n",
              "      <td>0.544807</td>\n",
              "      <td>0.729218</td>\n",
              "      <td>0.118570</td>\n",
              "      <td>-0.128986</td>\n",
              "      <td>0.300403</td>\n",
              "      <td>0.406977</td>\n",
              "      <td>0.579221</td>\n",
              "      <td>0.414116</td>\n",
              "      <td>0.185960</td>\n",
              "      <td>0.494446</td>\n",
              "      <td>0.406204</td>\n",
              "      <td>0.331876</td>\n",
              "      <td>0.222091</td>\n",
              "      <td>0.354670</td>\n",
              "      <td>0.261393</td>\n",
              "      <td>0.797265</td>\n",
              "      <td>0.431262</td>\n",
              "      <td>0.195765</td>\n",
              "      <td>0.176242</td>\n",
              "      <td>-0.108549</td>\n",
              "      <td>0.525855</td>\n",
              "    </tr>\n",
              "    <tr>\n",
              "      <th>4</th>\n",
              "      <td>0.128000</td>\n",
              "      <td>0.545008</td>\n",
              "      <td>-0.343972</td>\n",
              "      <td>0.862140</td>\n",
              "      <td>-0.015617</td>\n",
              "      <td>0.179164</td>\n",
              "      <td>-0.233017</td>\n",
              "      <td>0.034938</td>\n",
              "      <td>-0.105519</td>\n",
              "      <td>0.733050</td>\n",
              "      <td>0.088092</td>\n",
              "      <td>0.277305</td>\n",
              "      <td>-0.179329</td>\n",
              "      <td>0.332651</td>\n",
              "      <td>-0.231090</td>\n",
              "      <td>0.702441</td>\n",
              "      <td>-0.072943</td>\n",
              "      <td>0.645076</td>\n",
              "      <td>-0.215037</td>\n",
              "      <td>0.274248</td>\n",
              "      <td>-0.451468</td>\n",
              "      <td>0.574711</td>\n",
              "      <td>-0.173056</td>\n",
              "      <td>0.595247</td>\n",
              "      <td>-0.396143</td>\n",
              "      <td>0.378200</td>\n",
              "      <td>-0.196846</td>\n",
              "      <td>0.674376</td>\n",
              "      <td>-0.166660</td>\n",
              "      <td>0.612536</td>\n",
              "      <td>-0.324272</td>\n",
              "      <td>0.939128</td>\n",
              "      <td>-0.014797</td>\n",
              "      <td>0.828764</td>\n",
              "      <td>-0.181847</td>\n",
              "      <td>0.353251</td>\n",
              "      <td>-0.151077</td>\n",
              "      <td>0.833930</td>\n",
              "      <td>-0.089481</td>\n",
              "      <td>-0.079434</td>\n",
              "      <td>...</td>\n",
              "      <td>0.301599</td>\n",
              "      <td>0.281604</td>\n",
              "      <td>-0.257081</td>\n",
              "      <td>0.164976</td>\n",
              "      <td>-0.064623</td>\n",
              "      <td>0.205962</td>\n",
              "      <td>0.259190</td>\n",
              "      <td>0.369864</td>\n",
              "      <td>0.119939</td>\n",
              "      <td>0.430113</td>\n",
              "      <td>-0.128200</td>\n",
              "      <td>0.036388</td>\n",
              "      <td>-0.062767</td>\n",
              "      <td>0.013018</td>\n",
              "      <td>0.002274</td>\n",
              "      <td>0.071944</td>\n",
              "      <td>0.069917</td>\n",
              "      <td>0.173637</td>\n",
              "      <td>0.107760</td>\n",
              "      <td>0.456734</td>\n",
              "      <td>0.444816</td>\n",
              "      <td>0.072618</td>\n",
              "      <td>0.086900</td>\n",
              "      <td>-0.095910</td>\n",
              "      <td>0.172357</td>\n",
              "      <td>0.220310</td>\n",
              "      <td>0.484933</td>\n",
              "      <td>0.004595</td>\n",
              "      <td>-0.263606</td>\n",
              "      <td>-0.013920</td>\n",
              "      <td>0.155383</td>\n",
              "      <td>0.416782</td>\n",
              "      <td>-0.300804</td>\n",
              "      <td>0.057657</td>\n",
              "      <td>0.031142</td>\n",
              "      <td>-0.086161</td>\n",
              "      <td>0.055487</td>\n",
              "      <td>-0.082463</td>\n",
              "      <td>-0.029868</td>\n",
              "      <td>0.177041</td>\n",
              "    </tr>\n",
              "  </tbody>\n",
              "</table>\n",
              "<p>5 rows × 30135 columns</p>\n",
              "</div>\n",
              "      <button class=\"colab-df-convert\" onclick=\"convertToInteractive('df-068ccf44-fcb5-4c43-ab2b-f0b604c691e2')\"\n",
              "              title=\"Convert this dataframe to an interactive table.\"\n",
              "              style=\"display:none;\">\n",
              "        \n",
              "  <svg xmlns=\"http://www.w3.org/2000/svg\" height=\"24px\"viewBox=\"0 0 24 24\"\n",
              "       width=\"24px\">\n",
              "    <path d=\"M0 0h24v24H0V0z\" fill=\"none\"/>\n",
              "    <path d=\"M18.56 5.44l.94 2.06.94-2.06 2.06-.94-2.06-.94-.94-2.06-.94 2.06-2.06.94zm-11 1L8.5 8.5l.94-2.06 2.06-.94-2.06-.94L8.5 2.5l-.94 2.06-2.06.94zm10 10l.94 2.06.94-2.06 2.06-.94-2.06-.94-.94-2.06-.94 2.06-2.06.94z\"/><path d=\"M17.41 7.96l-1.37-1.37c-.4-.4-.92-.59-1.43-.59-.52 0-1.04.2-1.43.59L10.3 9.45l-7.72 7.72c-.78.78-.78 2.05 0 2.83L4 21.41c.39.39.9.59 1.41.59.51 0 1.02-.2 1.41-.59l7.78-7.78 2.81-2.81c.8-.78.8-2.07 0-2.86zM5.41 20L4 18.59l7.72-7.72 1.47 1.35L5.41 20z\"/>\n",
              "  </svg>\n",
              "      </button>\n",
              "      \n",
              "  <style>\n",
              "    .colab-df-container {\n",
              "      display:flex;\n",
              "      flex-wrap:wrap;\n",
              "      gap: 12px;\n",
              "    }\n",
              "\n",
              "    .colab-df-convert {\n",
              "      background-color: #E8F0FE;\n",
              "      border: none;\n",
              "      border-radius: 50%;\n",
              "      cursor: pointer;\n",
              "      display: none;\n",
              "      fill: #1967D2;\n",
              "      height: 32px;\n",
              "      padding: 0 0 0 0;\n",
              "      width: 32px;\n",
              "    }\n",
              "\n",
              "    .colab-df-convert:hover {\n",
              "      background-color: #E2EBFA;\n",
              "      box-shadow: 0px 1px 2px rgba(60, 64, 67, 0.3), 0px 1px 3px 1px rgba(60, 64, 67, 0.15);\n",
              "      fill: #174EA6;\n",
              "    }\n",
              "\n",
              "    [theme=dark] .colab-df-convert {\n",
              "      background-color: #3B4455;\n",
              "      fill: #D2E3FC;\n",
              "    }\n",
              "\n",
              "    [theme=dark] .colab-df-convert:hover {\n",
              "      background-color: #434B5C;\n",
              "      box-shadow: 0px 1px 3px 1px rgba(0, 0, 0, 0.15);\n",
              "      filter: drop-shadow(0px 1px 2px rgba(0, 0, 0, 0.3));\n",
              "      fill: #FFFFFF;\n",
              "    }\n",
              "  </style>\n",
              "\n",
              "      <script>\n",
              "        const buttonEl =\n",
              "          document.querySelector('#df-068ccf44-fcb5-4c43-ab2b-f0b604c691e2 button.colab-df-convert');\n",
              "        buttonEl.style.display =\n",
              "          google.colab.kernel.accessAllowed ? 'block' : 'none';\n",
              "\n",
              "        async function convertToInteractive(key) {\n",
              "          const element = document.querySelector('#df-068ccf44-fcb5-4c43-ab2b-f0b604c691e2');\n",
              "          const dataTable =\n",
              "            await google.colab.kernel.invokeFunction('convertToInteractive',\n",
              "                                                     [key], {});\n",
              "          if (!dataTable) return;\n",
              "\n",
              "          const docLinkHtml = 'Like what you see? Visit the ' +\n",
              "            '<a target=\"_blank\" href=https://colab.research.google.com/notebooks/data_table.ipynb>data table notebook</a>'\n",
              "            + ' to learn more about interactive tables.';\n",
              "          element.innerHTML = '';\n",
              "          dataTable['output_type'] = 'display_data';\n",
              "          await google.colab.output.renderOutput(dataTable, element);\n",
              "          const docLink = document.createElement('div');\n",
              "          docLink.innerHTML = docLinkHtml;\n",
              "          element.appendChild(docLink);\n",
              "        }\n",
              "      </script>\n",
              "    </div>\n",
              "  </div>\n",
              "  "
            ],
            "text/plain": [
              "        1_2       1_3       1_4  ...   244_245   244_246   245_246\n",
              "0  0.749860  0.230923 -0.065474  ... -0.064755 -0.121692  1.193451\n",
              "1  0.769255  0.488714  0.116482  ...  0.194711  0.191894  1.018621\n",
              "2  0.168419  0.257018  0.016907  ...  0.115183 -0.298258  0.131574\n",
              "3  0.868713  0.325486  0.395653  ...  0.176242 -0.108549  0.525855\n",
              "4  0.128000  0.545008 -0.343972  ... -0.082463 -0.029868  0.177041\n",
              "\n",
              "[5 rows x 30135 columns]"
            ]
          },
          "metadata": {},
          "execution_count": 6
        }
      ]
    },
    {
      "cell_type": "markdown",
      "source": [
        "# Clustering - Hierarchical, ward\n",
        "\n",
        "https://scikit-learn.org/stable/modules/clustering.html#hierarchical-clustering"
      ],
      "metadata": {
        "id": "82o8GyqFwlLd"
      }
    },
    {
      "cell_type": "code",
      "source": [
        "cl_w = AgglomerativeClustering(n_clusters=8, affinity='euclidean', linkage='ward', compute_distances=True)\n",
        "cl_w.fit(data)"
      ],
      "metadata": {
        "colab": {
          "base_uri": "https://localhost:8080/"
        },
        "id": "EbUrYSzhwnWl",
        "outputId": "9a9d728b-7fbe-4033-a6d0-5e1946c4b264"
      },
      "execution_count": 7,
      "outputs": [
        {
          "output_type": "execute_result",
          "data": {
            "text/plain": [
              "AgglomerativeClustering(compute_distances=True, n_clusters=8)"
            ]
          },
          "metadata": {},
          "execution_count": 7
        }
      ]
    },
    {
      "cell_type": "code",
      "source": [
        "cl_w.n_clusters"
      ],
      "metadata": {
        "colab": {
          "base_uri": "https://localhost:8080/"
        },
        "id": "FGpOQw-z2Tge",
        "outputId": "08a934c0-5874-4842-8877-7cdba3b4337a"
      },
      "execution_count": 8,
      "outputs": [
        {
          "output_type": "execute_result",
          "data": {
            "text/plain": [
              "8"
            ]
          },
          "metadata": {},
          "execution_count": 8
        }
      ]
    },
    {
      "cell_type": "code",
      "source": [
        "cl_w.labels_[:15]"
      ],
      "metadata": {
        "colab": {
          "base_uri": "https://localhost:8080/"
        },
        "id": "KUh4YXRo4RV-",
        "outputId": "35236bd1-8b1c-41a0-84e7-f2275bfd1850"
      },
      "execution_count": 9,
      "outputs": [
        {
          "output_type": "execute_result",
          "data": {
            "text/plain": [
              "array([7, 5, 6, 5, 6, 5, 3, 6, 3, 6, 5, 6, 5, 7, 3])"
            ]
          },
          "metadata": {},
          "execution_count": 9
        }
      ]
    },
    {
      "cell_type": "code",
      "source": [
        "labels = pd.Series(cl_w.labels_)\n",
        "labels.value_counts()"
      ],
      "metadata": {
        "colab": {
          "base_uri": "https://localhost:8080/"
        },
        "id": "1SCoFqC8-01O",
        "outputId": "f618f7ae-55d8-46b5-c15e-736a33d17820"
      },
      "execution_count": 10,
      "outputs": [
        {
          "output_type": "execute_result",
          "data": {
            "text/plain": [
              "5    248\n",
              "6    238\n",
              "3    147\n",
              "1    137\n",
              "0     90\n",
              "7     42\n",
              "2      6\n",
              "4      1\n",
              "dtype: int64"
            ]
          },
          "metadata": {},
          "execution_count": 10
        }
      ]
    },
    {
      "cell_type": "code",
      "source": [
        "cl_w.children_[:20]"
      ],
      "metadata": {
        "colab": {
          "base_uri": "https://localhost:8080/"
        },
        "id": "J3hhwv8p4Rr3",
        "outputId": "f51333f5-e32f-4a2f-8a1d-d4271118a295"
      },
      "execution_count": 11,
      "outputs": [
        {
          "output_type": "execute_result",
          "data": {
            "text/plain": [
              "array([[ 67, 409],\n",
              "       [419, 590],\n",
              "       [464, 909],\n",
              "       [259, 368],\n",
              "       [691, 799],\n",
              "       [292, 411],\n",
              "       [133, 574],\n",
              "       [204, 731],\n",
              "       [390, 904],\n",
              "       [427, 680],\n",
              "       [ 57, 379],\n",
              "       [695, 831],\n",
              "       [ 18, 397],\n",
              "       [568, 696],\n",
              "       [200, 911],\n",
              "       [ 92, 650],\n",
              "       [439, 779],\n",
              "       [ 87, 218],\n",
              "       [184, 787],\n",
              "       [ 73, 910]])"
            ]
          },
          "metadata": {},
          "execution_count": 11
        }
      ]
    },
    {
      "cell_type": "code",
      "source": [
        "cl_w.distances_[:20]"
      ],
      "metadata": {
        "colab": {
          "base_uri": "https://localhost:8080/"
        },
        "id": "7W_9Bo1W4R7u",
        "outputId": "4c52f65c-7523-4f37-f477-5c3a59cfe6d7"
      },
      "execution_count": 12,
      "outputs": [
        {
          "output_type": "execute_result",
          "data": {
            "text/plain": [
              "array([32.53361182, 37.32190911, 37.5798199 , 37.86144487, 38.06242394,\n",
              "       38.31364402, 38.35446674, 38.42264219, 38.44823805, 38.52975892,\n",
              "       38.66177327, 38.66474006, 38.91594721, 38.98358319, 38.99012434,\n",
              "       38.99601655, 38.99700178, 39.02121529, 39.05286747, 39.08636685])"
            ]
          },
          "metadata": {},
          "execution_count": 12
        }
      ]
    },
    {
      "cell_type": "code",
      "source": [
        "def plot_dendrogram(model, **kwargs):\n",
        "    # Create linkage matrix and then plot the dendrogram\n",
        "\n",
        "    # create the counts of samples under each node\n",
        "    counts = np.zeros(model.children_.shape[0])\n",
        "    n_samples = len(model.labels_)\n",
        "    for i, merge in enumerate(model.children_):\n",
        "        current_count = 0\n",
        "        for child_idx in merge:\n",
        "            if child_idx < n_samples:\n",
        "                current_count += 1  # leaf node\n",
        "            else:\n",
        "                current_count += counts[child_idx - n_samples]\n",
        "        counts[i] = current_count\n",
        "\n",
        "    linkage_matrix = np.column_stack(\n",
        "        [model.children_, model.distances_, counts]\n",
        "    ).astype(float)\n",
        "\n",
        "    # Plot the corresponding dendrogram\n",
        "    dendrogram(linkage_matrix, **kwargs)"
      ],
      "metadata": {
        "id": "XVsYUrcg9TiG"
      },
      "execution_count": 13,
      "outputs": []
    },
    {
      "cell_type": "code",
      "source": [
        "plot_dendrogram(cl_w)"
      ],
      "metadata": {
        "colab": {
          "base_uri": "https://localhost:8080/",
          "height": 265
        },
        "id": "tdSKs6gmEu4_",
        "outputId": "52355712-0a27-4d43-c3ef-17a06a911a84"
      },
      "execution_count": 14,
      "outputs": [
        {
          "output_type": "display_data",
          "data": {
            "image/png": "[encoded data removed]",
            "text/plain": [
              "<Figure size 432x288 with 1 Axes>"
            ]
          },
          "metadata": {
            "needs_background": "light"
          }
        }
      ]
    },
    {
      "cell_type": "code",
      "source": [
        "plot_dendrogram(cl_w, truncate_mode = \"level\", p = 2)"
      ],
      "metadata": {
        "colab": {
          "base_uri": "https://localhost:8080/",
          "height": 268
        },
        "id": "cllBG7jAB3lt",
        "outputId": "18da453f-f861-4901-c981-5660a3a3baf6"
      },
      "execution_count": 15,
      "outputs": [
        {
          "output_type": "display_data",
          "data": {
            "image/png": "[encoded data removed]",
            "text/plain": [
              "<Figure size 432x288 with 1 Axes>"
            ]
          },
          "metadata": {
            "needs_background": "light"
          }
        }
      ]
    },
    {
      "cell_type": "code",
      "source": [
        "cl_w5 = AgglomerativeClustering(n_clusters=5, affinity='euclidean', linkage='ward', compute_distances=True)\n",
        "cl_w5.fit(data)\n"
      ],
      "metadata": {
        "colab": {
          "base_uri": "https://localhost:8080/"
        },
        "id": "IGKFwKsqJH8X",
        "outputId": "8f6bb873-d194-495e-cac4-3be128ad366e"
      },
      "execution_count": 16,
      "outputs": [
        {
          "output_type": "execute_result",
          "data": {
            "text/plain": [
              "AgglomerativeClustering(compute_distances=True, n_clusters=5)"
            ]
          },
          "metadata": {},
          "execution_count": 16
        }
      ]
    },
    {
      "cell_type": "code",
      "source": [
        "labels_w5 = pd.Series(cl_w5.labels_)\n",
        "labels_w5.value_counts()"
      ],
      "metadata": {
        "colab": {
          "base_uri": "https://localhost:8080/"
        },
        "id": "VctWZ8nCI2Fu",
        "outputId": "a4de11dd-5ac4-41be-8636-ef49b7382ac1"
      },
      "execution_count": 17,
      "outputs": [
        {
          "output_type": "execute_result",
          "data": {
            "text/plain": [
              "1    375\n",
              "2    248\n",
              "3    147\n",
              "0    138\n",
              "4      1\n",
              "dtype: int64"
            ]
          },
          "metadata": {},
          "execution_count": 17
        }
      ]
    },
    {
      "cell_type": "code",
      "source": [
        "cl_w4 = AgglomerativeClustering(n_clusters=4, affinity='euclidean', linkage='ward', compute_distances=True)\n",
        "cl_w4.fit(data)"
      ],
      "metadata": {
        "colab": {
          "base_uri": "https://localhost:8080/"
        },
        "id": "-LfutRrhIuCa",
        "outputId": "2e3b3ecc-5e11-43dd-d554-9ba919568bcc"
      },
      "execution_count": 18,
      "outputs": [
        {
          "output_type": "execute_result",
          "data": {
            "text/plain": [
              "AgglomerativeClustering(compute_distances=True, n_clusters=4)"
            ]
          },
          "metadata": {},
          "execution_count": 18
        }
      ]
    },
    {
      "cell_type": "code",
      "source": [
        "labels_w4 = pd.Series(cl_w4.labels_)\n",
        "labels_w4.value_counts()"
      ],
      "metadata": {
        "colab": {
          "base_uri": "https://localhost:8080/"
        },
        "id": "gsJWEx48I_ug",
        "outputId": "9983bce6-df55-40d3-da42-d0976623e667"
      },
      "execution_count": 19,
      "outputs": [
        {
          "output_type": "execute_result",
          "data": {
            "text/plain": [
              "0    376\n",
              "2    248\n",
              "3    147\n",
              "1    138\n",
              "dtype: int64"
            ]
          },
          "metadata": {},
          "execution_count": 19
        }
      ]
    },
    {
      "cell_type": "markdown",
      "source": [
        "# Clustering - KMeans\n",
        "\n",
        "https://scikit-learn.org/stable/auto_examples/cluster/plot_kmeans_assumptions.html"
      ],
      "metadata": {
        "id": "Z7fr9PPRHsrH"
      }
    },
    {
      "cell_type": "code",
      "source": [
        "cl_km = KMeans(n_clusters=4)\n",
        "cl_km.fit(data)"
      ],
      "metadata": {
        "colab": {
          "base_uri": "https://localhost:8080/"
        },
        "id": "DcHwX6kFH4wP",
        "outputId": "2d803dbb-c93a-437f-fe48-5cbcb476cd6d"
      },
      "execution_count": 20,
      "outputs": [
        {
          "output_type": "execute_result",
          "data": {
            "text/plain": [
              "KMeans(n_clusters=4)"
            ]
          },
          "metadata": {},
          "execution_count": 20
        }
      ]
    },
    {
      "cell_type": "code",
      "source": [
        "cl_km.inertia_"
      ],
      "metadata": {
        "colab": {
          "base_uri": "https://localhost:8080/"
        },
        "id": "1hRoQJ_mJxvG",
        "outputId": "5fd8b5cc-4795-4810-e691-e8d18d329fce"
      },
      "execution_count": 21,
      "outputs": [
        {
          "output_type": "execute_result",
          "data": {
            "text/plain": [
              "1045480.4258848787"
            ]
          },
          "metadata": {},
          "execution_count": 21
        }
      ]
    },
    {
      "cell_type": "code",
      "source": [
        "cl_km.labels_[:20]"
      ],
      "metadata": {
        "colab": {
          "base_uri": "https://localhost:8080/"
        },
        "id": "O32U7seyIHf_",
        "outputId": "b68b7823-221c-4033-9ab4-3aba655f03e0"
      },
      "execution_count": 22,
      "outputs": [
        {
          "output_type": "execute_result",
          "data": {
            "text/plain": [
              "array([0, 2, 1, 2, 1, 0, 0, 1, 0, 1, 1, 2, 2, 2, 0, 0, 3, 2, 1, 1],\n",
              "      dtype=int32)"
            ]
          },
          "metadata": {},
          "execution_count": 22
        }
      ]
    },
    {
      "cell_type": "code",
      "source": [
        "labelsKM = pd.Series(cl_km.labels_)\n",
        "labelsKM.value_counts()"
      ],
      "metadata": {
        "colab": {
          "base_uri": "https://localhost:8080/"
        },
        "id": "MWKsbJQTIR8_",
        "outputId": "595d3f33-874c-47b0-9dca-a4c8e87aa432"
      },
      "execution_count": 23,
      "outputs": [
        {
          "output_type": "execute_result",
          "data": {
            "text/plain": [
              "1    354\n",
              "2    265\n",
              "0    161\n",
              "3    129\n",
              "dtype: int64"
            ]
          },
          "metadata": {},
          "execution_count": 23
        }
      ]
    },
    {
      "cell_type": "markdown",
      "source": [
        "# Exploration"
      ],
      "metadata": {
        "id": "GuVOzNUOJYCm"
      }
    },
    {
      "cell_type": "code",
      "source": [
        "data2 = pd.concat([train, test])\n",
        "data2['ward4'] = cl_w4.labels_\n",
        "data2['KM4'] = cl_km.labels_"
      ],
      "metadata": {
        "id": "pbmPk2H2JdEm"
      },
      "execution_count": 24,
      "outputs": []
    },
    {
      "cell_type": "code",
      "source": [
        "pd.crosstab(index=data2['KM4'], columns='count')"
      ],
      "metadata": {
        "colab": {
          "base_uri": "https://localhost:8080/",
          "height": 206
        },
        "id": "xyd1S3lML2Je",
        "outputId": "b515e5e4-730b-4f91-a7f7-0509b9f0500f"
      },
      "execution_count": 25,
      "outputs": [
        {
          "output_type": "execute_result",
          "data": {
            "text/html": [
              "\n",
              "  <div id=\"df-ba121745-3d5b-473a-9a9c-2ed7ee42732a\">\n",
              "    <div class=\"colab-df-container\">\n",
              "      <div>\n",
              "<style scoped>\n",
              "    .dataframe tbody tr th:only-of-type {\n",
              "        vertical-align: middle;\n",
              "    }\n",
              "\n",
              "    .dataframe tbody tr th {\n",
              "        vertical-align: top;\n",
              "    }\n",
              "\n",
              "    .dataframe thead th {\n",
              "        text-align: right;\n",
              "    }\n",
              "</style>\n",
              "<table border=\"1\" class=\"dataframe\">\n",
              "  <thead>\n",
              "    <tr style=\"text-align: right;\">\n",
              "      <th>col_0</th>\n",
              "      <th>count</th>\n",
              "    </tr>\n",
              "    <tr>\n",
              "      <th>KM4</th>\n",
              "      <th></th>\n",
              "    </tr>\n",
              "  </thead>\n",
              "  <tbody>\n",
              "    <tr>\n",
              "      <th>0</th>\n",
              "      <td>161</td>\n",
              "    </tr>\n",
              "    <tr>\n",
              "      <th>1</th>\n",
              "      <td>354</td>\n",
              "    </tr>\n",
              "    <tr>\n",
              "      <th>2</th>\n",
              "      <td>265</td>\n",
              "    </tr>\n",
              "    <tr>\n",
              "      <th>3</th>\n",
              "      <td>129</td>\n",
              "    </tr>\n",
              "  </tbody>\n",
              "</table>\n",
              "</div>\n",
              "      <button class=\"colab-df-convert\" onclick=\"convertToInteractive('df-ba121745-3d5b-473a-9a9c-2ed7ee42732a')\"\n",
              "              title=\"Convert this dataframe to an interactive table.\"\n",
              "              style=\"display:none;\">\n",
              "        \n",
              "  <svg xmlns=\"http://www.w3.org/2000/svg\" height=\"24px\"viewBox=\"0 0 24 24\"\n",
              "       width=\"24px\">\n",
              "    <path d=\"M0 0h24v24H0V0z\" fill=\"none\"/>\n",
              "    <path d=\"M18.56 5.44l.94 2.06.94-2.06 2.06-.94-2.06-.94-.94-2.06-.94 2.06-2.06.94zm-11 1L8.5 8.5l.94-2.06 2.06-.94-2.06-.94L8.5 2.5l-.94 2.06-2.06.94zm10 10l.94 2.06.94-2.06 2.06-.94-2.06-.94-.94-2.06-.94 2.06-2.06.94z\"/><path d=\"M17.41 7.96l-1.37-1.37c-.4-.4-.92-.59-1.43-.59-.52 0-1.04.2-1.43.59L10.3 9.45l-7.72 7.72c-.78.78-.78 2.05 0 2.83L4 21.41c.39.39.9.59 1.41.59.51 0 1.02-.2 1.41-.59l7.78-7.78 2.81-2.81c.8-.78.8-2.07 0-2.86zM5.41 20L4 18.59l7.72-7.72 1.47 1.35L5.41 20z\"/>\n",
              "  </svg>\n",
              "      </button>\n",
              "      \n",
              "  <style>\n",
              "    .colab-df-container {\n",
              "      display:flex;\n",
              "      flex-wrap:wrap;\n",
              "      gap: 12px;\n",
              "    }\n",
              "\n",
              "    .colab-df-convert {\n",
              "      background-color: #E8F0FE;\n",
              "      border: none;\n",
              "      border-radius: 50%;\n",
              "      cursor: pointer;\n",
              "      display: none;\n",
              "      fill: #1967D2;\n",
              "      height: 32px;\n",
              "      padding: 0 0 0 0;\n",
              "      width: 32px;\n",
              "    }\n",
              "\n",
              "    .colab-df-convert:hover {\n",
              "      background-color: #E2EBFA;\n",
              "      box-shadow: 0px 1px 2px rgba(60, 64, 67, 0.3), 0px 1px 3px 1px rgba(60, 64, 67, 0.15);\n",
              "      fill: #174EA6;\n",
              "    }\n",
              "\n",
              "    [theme=dark] .colab-df-convert {\n",
              "      background-color: #3B4455;\n",
              "      fill: #D2E3FC;\n",
              "    }\n",
              "\n",
              "    [theme=dark] .colab-df-convert:hover {\n",
              "      background-color: #434B5C;\n",
              "      box-shadow: 0px 1px 3px 1px rgba(0, 0, 0, 0.15);\n",
              "      filter: drop-shadow(0px 1px 2px rgba(0, 0, 0, 0.3));\n",
              "      fill: #FFFFFF;\n",
              "    }\n",
              "  </style>\n",
              "\n",
              "      <script>\n",
              "        const buttonEl =\n",
              "          document.querySelector('#df-ba121745-3d5b-473a-9a9c-2ed7ee42732a button.colab-df-convert');\n",
              "        buttonEl.style.display =\n",
              "          google.colab.kernel.accessAllowed ? 'block' : 'none';\n",
              "\n",
              "        async function convertToInteractive(key) {\n",
              "          const element = document.querySelector('#df-ba121745-3d5b-473a-9a9c-2ed7ee42732a');\n",
              "          const dataTable =\n",
              "            await google.colab.kernel.invokeFunction('convertToInteractive',\n",
              "                                                     [key], {});\n",
              "          if (!dataTable) return;\n",
              "\n",
              "          const docLinkHtml = 'Like what you see? Visit the ' +\n",
              "            '<a target=\"_blank\" href=https://colab.research.google.com/notebooks/data_table.ipynb>data table notebook</a>'\n",
              "            + ' to learn more about interactive tables.';\n",
              "          element.innerHTML = '';\n",
              "          dataTable['output_type'] = 'display_data';\n",
              "          await google.colab.output.renderOutput(dataTable, element);\n",
              "          const docLink = document.createElement('div');\n",
              "          docLink.innerHTML = docLinkHtml;\n",
              "          element.appendChild(docLink);\n",
              "        }\n",
              "      </script>\n",
              "    </div>\n",
              "  </div>\n",
              "  "
            ],
            "text/plain": [
              "col_0  count\n",
              "KM4         \n",
              "0        161\n",
              "1        354\n",
              "2        265\n",
              "3        129"
            ]
          },
          "metadata": {},
          "execution_count": 25
        }
      ]
    },
    {
      "cell_type": "code",
      "source": [
        "data2['KM4'].value_counts().plot.bar(rot = 0, title = 'KMeans, number of obs/cluster')"
      ],
      "metadata": {
        "colab": {
          "base_uri": "https://localhost:8080/",
          "height": 299
        },
        "id": "GTopV_KjMWmX",
        "outputId": "b56aeb62-a04e-4018-c273-d27a1f34b94b"
      },
      "execution_count": 26,
      "outputs": [
        {
          "output_type": "execute_result",
          "data": {
            "text/plain": [
              "<matplotlib.axes._subplots.AxesSubplot at 0x7fb6b070c210>"
            ]
          },
          "metadata": {},
          "execution_count": 26
        },
        {
          "output_type": "display_data",
          "data": {
            "image/png": "[encoded data removed]",
            "text/plain": [
              "<Figure size 432x288 with 1 Axes>"
            ]
          },
          "metadata": {
            "needs_background": "light"
          }
        }
      ]
    },
    {
      "cell_type": "code",
      "source": [
        "data2['ward4'].value_counts().plot.bar(rot = 0, title = 'Ward (Hierarchical), number of obs/cluster')"
      ],
      "metadata": {
        "colab": {
          "base_uri": "https://localhost:8080/",
          "height": 299
        },
        "id": "2zpYU4WsOqTG",
        "outputId": "a370261e-fb6b-4b0f-9d5f-2fd2982e2965"
      },
      "execution_count": 27,
      "outputs": [
        {
          "output_type": "execute_result",
          "data": {
            "text/plain": [
              "<matplotlib.axes._subplots.AxesSubplot at 0x7fb6b0555690>"
            ]
          },
          "metadata": {},
          "execution_count": 27
        },
        {
          "output_type": "display_data",
          "data": {
            "image/png": "[encoded data removed]",
            "text/plain": [
              "<Figure size 432x288 with 1 Axes>"
            ]
          },
          "metadata": {
            "needs_background": "light"
          }
        }
      ]
    },
    {
      "cell_type": "code",
      "source": [
        "pd.crosstab(index=data2['KM4'], columns=data2['prmdiag'])"
      ],
      "metadata": {
        "colab": {
          "base_uri": "https://localhost:8080/",
          "height": 206
        },
        "id": "P557c4ThPAE_",
        "outputId": "5fb93ca7-19e4-4b61-8ccd-ca7dccd96109"
      },
      "execution_count": 28,
      "outputs": [
        {
          "output_type": "execute_result",
          "data": {
            "text/html": [
              "\n",
              "  <div id=\"df-c5ceca99-6715-4406-b357-434921084caa\">\n",
              "    <div class=\"colab-df-container\">\n",
              "      <div>\n",
              "<style scoped>\n",
              "    .dataframe tbody tr th:only-of-type {\n",
              "        vertical-align: middle;\n",
              "    }\n",
              "\n",
              "    .dataframe tbody tr th {\n",
              "        vertical-align: top;\n",
              "    }\n",
              "\n",
              "    .dataframe thead th {\n",
              "        text-align: right;\n",
              "    }\n",
              "</style>\n",
              "<table border=\"1\" class=\"dataframe\">\n",
              "  <thead>\n",
              "    <tr style=\"text-align: right;\">\n",
              "      <th>prmdiag</th>\n",
              "      <th>0</th>\n",
              "      <th>1</th>\n",
              "      <th>2</th>\n",
              "      <th>3</th>\n",
              "      <th>4</th>\n",
              "    </tr>\n",
              "    <tr>\n",
              "      <th>KM4</th>\n",
              "      <th></th>\n",
              "      <th></th>\n",
              "      <th></th>\n",
              "      <th></th>\n",
              "      <th></th>\n",
              "    </tr>\n",
              "  </thead>\n",
              "  <tbody>\n",
              "    <tr>\n",
              "      <th>0</th>\n",
              "      <td>25</td>\n",
              "      <td>79</td>\n",
              "      <td>28</td>\n",
              "      <td>19</td>\n",
              "      <td>10</td>\n",
              "    </tr>\n",
              "    <tr>\n",
              "      <th>1</th>\n",
              "      <td>108</td>\n",
              "      <td>133</td>\n",
              "      <td>43</td>\n",
              "      <td>39</td>\n",
              "      <td>31</td>\n",
              "    </tr>\n",
              "    <tr>\n",
              "      <th>2</th>\n",
              "      <td>66</td>\n",
              "      <td>108</td>\n",
              "      <td>48</td>\n",
              "      <td>15</td>\n",
              "      <td>28</td>\n",
              "    </tr>\n",
              "    <tr>\n",
              "      <th>3</th>\n",
              "      <td>19</td>\n",
              "      <td>44</td>\n",
              "      <td>36</td>\n",
              "      <td>24</td>\n",
              "      <td>6</td>\n",
              "    </tr>\n",
              "  </tbody>\n",
              "</table>\n",
              "</div>\n",
              "      <button class=\"colab-df-convert\" onclick=\"convertToInteractive('df-c5ceca99-6715-4406-b357-434921084caa')\"\n",
              "              title=\"Convert this dataframe to an interactive table.\"\n",
              "              style=\"display:none;\">\n",
              "        \n",
              "  <svg xmlns=\"http://www.w3.org/2000/svg\" height=\"24px\"viewBox=\"0 0 24 24\"\n",
              "       width=\"24px\">\n",
              "    <path d=\"M0 0h24v24H0V0z\" fill=\"none\"/>\n",
              "    <path d=\"M18.56 5.44l.94 2.06.94-2.06 2.06-.94-2.06-.94-.94-2.06-.94 2.06-2.06.94zm-11 1L8.5 8.5l.94-2.06 2.06-.94-2.06-.94L8.5 2.5l-.94 2.06-2.06.94zm10 10l.94 2.06.94-2.06 2.06-.94-2.06-.94-.94-2.06-.94 2.06-2.06.94z\"/><path d=\"M17.41 7.96l-1.37-1.37c-.4-.4-.92-.59-1.43-.59-.52 0-1.04.2-1.43.59L10.3 9.45l-7.72 7.72c-.78.78-.78 2.05 0 2.83L4 21.41c.39.39.9.59 1.41.59.51 0 1.02-.2 1.41-.59l7.78-7.78 2.81-2.81c.8-.78.8-2.07 0-2.86zM5.41 20L4 18.59l7.72-7.72 1.47 1.35L5.41 20z\"/>\n",
              "  </svg>\n",
              "      </button>\n",
              "      \n",
              "  <style>\n",
              "    .colab-df-container {\n",
              "      display:flex;\n",
              "      flex-wrap:wrap;\n",
              "      gap: 12px;\n",
              "    }\n",
              "\n",
              "    .colab-df-convert {\n",
              "      background-color: #E8F0FE;\n",
              "      border: none;\n",
              "      border-radius: 50%;\n",
              "      cursor: pointer;\n",
              "      display: none;\n",
              "      fill: #1967D2;\n",
              "      height: 32px;\n",
              "      padding: 0 0 0 0;\n",
              "      width: 32px;\n",
              "    }\n",
              "\n",
              "    .colab-df-convert:hover {\n",
              "      background-color: #E2EBFA;\n",
              "      box-shadow: 0px 1px 2px rgba(60, 64, 67, 0.3), 0px 1px 3px 1px rgba(60, 64, 67, 0.15);\n",
              "      fill: #174EA6;\n",
              "    }\n",
              "\n",
              "    [theme=dark] .colab-df-convert {\n",
              "      background-color: #3B4455;\n",
              "      fill: #D2E3FC;\n",
              "    }\n",
              "\n",
              "    [theme=dark] .colab-df-convert:hover {\n",
              "      background-color: #434B5C;\n",
              "      box-shadow: 0px 1px 3px 1px rgba(0, 0, 0, 0.15);\n",
              "      filter: drop-shadow(0px 1px 2px rgba(0, 0, 0, 0.3));\n",
              "      fill: #FFFFFF;\n",
              "    }\n",
              "  </style>\n",
              "\n",
              "      <script>\n",
              "        const buttonEl =\n",
              "          document.querySelector('#df-c5ceca99-6715-4406-b357-434921084caa button.colab-df-convert');\n",
              "        buttonEl.style.display =\n",
              "          google.colab.kernel.accessAllowed ? 'block' : 'none';\n",
              "\n",
              "        async function convertToInteractive(key) {\n",
              "          const element = document.querySelector('#df-c5ceca99-6715-4406-b357-434921084caa');\n",
              "          const dataTable =\n",
              "            await google.colab.kernel.invokeFunction('convertToInteractive',\n",
              "                                                     [key], {});\n",
              "          if (!dataTable) return;\n",
              "\n",
              "          const docLinkHtml = 'Like what you see? Visit the ' +\n",
              "            '<a target=\"_blank\" href=https://colab.research.google.com/notebooks/data_table.ipynb>data table notebook</a>'\n",
              "            + ' to learn more about interactive tables.';\n",
              "          element.innerHTML = '';\n",
              "          dataTable['output_type'] = 'display_data';\n",
              "          await google.colab.output.renderOutput(dataTable, element);\n",
              "          const docLink = document.createElement('div');\n",
              "          docLink.innerHTML = docLinkHtml;\n",
              "          element.appendChild(docLink);\n",
              "        }\n",
              "      </script>\n",
              "    </div>\n",
              "  </div>\n",
              "  "
            ],
            "text/plain": [
              "prmdiag    0    1   2   3   4\n",
              "KM4                          \n",
              "0         25   79  28  19  10\n",
              "1        108  133  43  39  31\n",
              "2         66  108  48  15  28\n",
              "3         19   44  36  24   6"
            ]
          },
          "metadata": {},
          "execution_count": 28
        }
      ]
    },
    {
      "cell_type": "code",
      "source": [
        "pd.crosstab(index=data2['ward4'], columns=data2['prmdiag'])"
      ],
      "metadata": {
        "colab": {
          "base_uri": "https://localhost:8080/",
          "height": 206
        },
        "id": "iLfP6fMzPfZY",
        "outputId": "938c9867-6426-4ac2-c838-2092856896ba"
      },
      "execution_count": 29,
      "outputs": [
        {
          "output_type": "execute_result",
          "data": {
            "text/html": [
              "\n",
              "  <div id=\"df-13ed53bd-9beb-45c5-b6de-037fe99fac3b\">\n",
              "    <div class=\"colab-df-container\">\n",
              "      <div>\n",
              "<style scoped>\n",
              "    .dataframe tbody tr th:only-of-type {\n",
              "        vertical-align: middle;\n",
              "    }\n",
              "\n",
              "    .dataframe tbody tr th {\n",
              "        vertical-align: top;\n",
              "    }\n",
              "\n",
              "    .dataframe thead th {\n",
              "        text-align: right;\n",
              "    }\n",
              "</style>\n",
              "<table border=\"1\" class=\"dataframe\">\n",
              "  <thead>\n",
              "    <tr style=\"text-align: right;\">\n",
              "      <th>prmdiag</th>\n",
              "      <th>0</th>\n",
              "      <th>1</th>\n",
              "      <th>2</th>\n",
              "      <th>3</th>\n",
              "      <th>4</th>\n",
              "    </tr>\n",
              "    <tr>\n",
              "      <th>ward4</th>\n",
              "      <th></th>\n",
              "      <th></th>\n",
              "      <th></th>\n",
              "      <th></th>\n",
              "      <th></th>\n",
              "    </tr>\n",
              "  </thead>\n",
              "  <tbody>\n",
              "    <tr>\n",
              "      <th>0</th>\n",
              "      <td>119</td>\n",
              "      <td>134</td>\n",
              "      <td>47</td>\n",
              "      <td>47</td>\n",
              "      <td>29</td>\n",
              "    </tr>\n",
              "    <tr>\n",
              "      <th>1</th>\n",
              "      <td>26</td>\n",
              "      <td>53</td>\n",
              "      <td>38</td>\n",
              "      <td>17</td>\n",
              "      <td>4</td>\n",
              "    </tr>\n",
              "    <tr>\n",
              "      <th>2</th>\n",
              "      <td>56</td>\n",
              "      <td>103</td>\n",
              "      <td>41</td>\n",
              "      <td>17</td>\n",
              "      <td>31</td>\n",
              "    </tr>\n",
              "    <tr>\n",
              "      <th>3</th>\n",
              "      <td>17</td>\n",
              "      <td>74</td>\n",
              "      <td>29</td>\n",
              "      <td>16</td>\n",
              "      <td>11</td>\n",
              "    </tr>\n",
              "  </tbody>\n",
              "</table>\n",
              "</div>\n",
              "      <button class=\"colab-df-convert\" onclick=\"convertToInteractive('df-13ed53bd-9beb-45c5-b6de-037fe99fac3b')\"\n",
              "              title=\"Convert this dataframe to an interactive table.\"\n",
              "              style=\"display:none;\">\n",
              "        \n",
              "  <svg xmlns=\"http://www.w3.org/2000/svg\" height=\"24px\"viewBox=\"0 0 24 24\"\n",
              "       width=\"24px\">\n",
              "    <path d=\"M0 0h24v24H0V0z\" fill=\"none\"/>\n",
              "    <path d=\"M18.56 5.44l.94 2.06.94-2.06 2.06-.94-2.06-.94-.94-2.06-.94 2.06-2.06.94zm-11 1L8.5 8.5l.94-2.06 2.06-.94-2.06-.94L8.5 2.5l-.94 2.06-2.06.94zm10 10l.94 2.06.94-2.06 2.06-.94-2.06-.94-.94-2.06-.94 2.06-2.06.94z\"/><path d=\"M17.41 7.96l-1.37-1.37c-.4-.4-.92-.59-1.43-.59-.52 0-1.04.2-1.43.59L10.3 9.45l-7.72 7.72c-.78.78-.78 2.05 0 2.83L4 21.41c.39.39.9.59 1.41.59.51 0 1.02-.2 1.41-.59l7.78-7.78 2.81-2.81c.8-.78.8-2.07 0-2.86zM5.41 20L4 18.59l7.72-7.72 1.47 1.35L5.41 20z\"/>\n",
              "  </svg>\n",
              "      </button>\n",
              "      \n",
              "  <style>\n",
              "    .colab-df-container {\n",
              "      display:flex;\n",
              "      flex-wrap:wrap;\n",
              "      gap: 12px;\n",
              "    }\n",
              "\n",
              "    .colab-df-convert {\n",
              "      background-color: #E8F0FE;\n",
              "      border: none;\n",
              "      border-radius: 50%;\n",
              "      cursor: pointer;\n",
              "      display: none;\n",
              "      fill: #1967D2;\n",
              "      height: 32px;\n",
              "      padding: 0 0 0 0;\n",
              "      width: 32px;\n",
              "    }\n",
              "\n",
              "    .colab-df-convert:hover {\n",
              "      background-color: #E2EBFA;\n",
              "      box-shadow: 0px 1px 2px rgba(60, 64, 67, 0.3), 0px 1px 3px 1px rgba(60, 64, 67, 0.15);\n",
              "      fill: #174EA6;\n",
              "    }\n",
              "\n",
              "    [theme=dark] .colab-df-convert {\n",
              "      background-color: #3B4455;\n",
              "      fill: #D2E3FC;\n",
              "    }\n",
              "\n",
              "    [theme=dark] .colab-df-convert:hover {\n",
              "      background-color: #434B5C;\n",
              "      box-shadow: 0px 1px 3px 1px rgba(0, 0, 0, 0.15);\n",
              "      filter: drop-shadow(0px 1px 2px rgba(0, 0, 0, 0.3));\n",
              "      fill: #FFFFFF;\n",
              "    }\n",
              "  </style>\n",
              "\n",
              "      <script>\n",
              "        const buttonEl =\n",
              "          document.querySelector('#df-13ed53bd-9beb-45c5-b6de-037fe99fac3b button.colab-df-convert');\n",
              "        buttonEl.style.display =\n",
              "          google.colab.kernel.accessAllowed ? 'block' : 'none';\n",
              "\n",
              "        async function convertToInteractive(key) {\n",
              "          const element = document.querySelector('#df-13ed53bd-9beb-45c5-b6de-037fe99fac3b');\n",
              "          const dataTable =\n",
              "            await google.colab.kernel.invokeFunction('convertToInteractive',\n",
              "                                                     [key], {});\n",
              "          if (!dataTable) return;\n",
              "\n",
              "          const docLinkHtml = 'Like what you see? Visit the ' +\n",
              "            '<a target=\"_blank\" href=https://colab.research.google.com/notebooks/data_table.ipynb>data table notebook</a>'\n",
              "            + ' to learn more about interactive tables.';\n",
              "          element.innerHTML = '';\n",
              "          dataTable['output_type'] = 'display_data';\n",
              "          await google.colab.output.renderOutput(dataTable, element);\n",
              "          const docLink = document.createElement('div');\n",
              "          docLink.innerHTML = docLinkHtml;\n",
              "          element.appendChild(docLink);\n",
              "        }\n",
              "      </script>\n",
              "    </div>\n",
              "  </div>\n",
              "  "
            ],
            "text/plain": [
              "prmdiag    0    1   2   3   4\n",
              "ward4                        \n",
              "0        119  134  47  47  29\n",
              "1         26   53  38  17   4\n",
              "2         56  103  41  17  31\n",
              "3         17   74  29  16  11"
            ]
          },
          "metadata": {},
          "execution_count": 29
        }
      ]
    },
    {
      "cell_type": "code",
      "source": [
        "plot = pd.crosstab(index=data2['KM4'], columns=data2['prmdiag']).plot(kind = 'bar', stacked = True, rot = 0)\n",
        "plot.legend(title = 'diagnosis', bbox_to_anchor=(1, 1.02), loc='upper left')"
      ],
      "metadata": {
        "colab": {
          "base_uri": "https://localhost:8080/",
          "height": 299
        },
        "id": "YtPwyP7kPsD_",
        "outputId": "6715f0ba-4604-4f8e-cae3-503426b8ef4c"
      },
      "execution_count": 30,
      "outputs": [
        {
          "output_type": "execute_result",
          "data": {
            "text/plain": [
              "<matplotlib.legend.Legend at 0x7fb6b0d629d0>"
            ]
          },
          "metadata": {},
          "execution_count": 30
        },
        {
          "output_type": "display_data",
          "data": {
            "image/png": "[encoded data removed]",
            "text/plain": [
              "<Figure size 432x288 with 1 Axes>"
            ]
          },
          "metadata": {
            "needs_background": "light"
          }
        }
      ]
    },
    {
      "cell_type": "code",
      "source": [
        "plot = pd.crosstab(index=data2['KM4'], columns=data2['prmdiag'], normalize = 'index').plot(kind = 'bar', stacked = True, rot = 0)\n",
        "plot.legend(title = 'diagnosis', bbox_to_anchor=(1, 1.02), loc='upper left')"
      ],
      "metadata": {
        "colab": {
          "base_uri": "https://localhost:8080/",
          "height": 299
        },
        "id": "1UPMHsmoSVNJ",
        "outputId": "32ab0b1b-07d0-4695-d008-b56747ffbae4"
      },
      "execution_count": 31,
      "outputs": [
        {
          "output_type": "execute_result",
          "data": {
            "text/plain": [
              "<matplotlib.legend.Legend at 0x7fb6b0d23250>"
            ]
          },
          "metadata": {},
          "execution_count": 31
        },
        {
          "output_type": "display_data",
          "data": {
            "image/png": "[encoded data removed]",
            "text/plain": [
              "<Figure size 432x288 with 1 Axes>"
            ]
          },
          "metadata": {
            "needs_background": "light"
          }
        }
      ]
    },
    {
      "cell_type": "code",
      "source": [
        "plot = pd.crosstab(index=data2['ward4'], columns=data2['prmdiag'], normalize = 'index').plot(kind = 'bar', stacked = True, rot = 0)\n",
        "plot.legend(title = 'diagnosis', bbox_to_anchor=(1, 1.02), loc='upper left')"
      ],
      "metadata": {
        "colab": {
          "base_uri": "https://localhost:8080/",
          "height": 299
        },
        "id": "xiIqmjPFSw2I",
        "outputId": "82674d1c-32a5-4e36-e069-18bb1062a4f3"
      },
      "execution_count": 32,
      "outputs": [
        {
          "output_type": "execute_result",
          "data": {
            "text/plain": [
              "<matplotlib.legend.Legend at 0x7fb6acbbe610>"
            ]
          },
          "metadata": {},
          "execution_count": 32
        },
        {
          "output_type": "display_data",
          "data": {
            "image/png": "[encoded data removed]",
            "text/plain": [
              "<Figure size 432x288 with 1 Axes>"
            ]
          },
          "metadata": {
            "needs_background": "light"
          }
        }
      ]
    },
    {
      "cell_type": "code",
      "source": [
        "data2.boxplot(column='age',by='KM4')"
      ],
      "metadata": {
        "colab": {
          "base_uri": "https://localhost:8080/",
          "height": 376
        },
        "id": "vyjIxnnFTe-3",
        "outputId": "db51a704-fbe2-4388-c0e2-feb3248d76c3"
      },
      "execution_count": 33,
      "outputs": [
        {
          "output_type": "stream",
          "name": "stderr",
          "text": [
            "/usr/local/lib/python3.7/dist-packages/numpy/core/_asarray.py:83: VisibleDeprecationWarning: Creating an ndarray from ragged nested sequences (which is a list-or-tuple of lists-or-tuples-or ndarrays with different lengths or shapes) is deprecated. If you meant to do this, you must specify 'dtype=object' when creating the ndarray\n",
            "  return array(a, dtype, copy=False, order=order)\n"
          ]
        },
        {
          "output_type": "execute_result",
          "data": {
            "text/plain": [
              "<matplotlib.axes._subplots.AxesSubplot at 0x7fb6acbce090>"
            ]
          },
          "metadata": {},
          "execution_count": 33
        },
        {
          "output_type": "display_data",
          "data": {
            "image/png": "[encoded data removed]",
            "text/plain": [
              "<Figure size 432x288 with 1 Axes>"
            ]
          },
          "metadata": {
            "needs_background": "light"
          }
        }
      ]
    },
    {
      "cell_type": "code",
      "source": [
        "data2.boxplot(column='age',by='ward4')"
      ],
      "metadata": {
        "colab": {
          "base_uri": "https://localhost:8080/",
          "height": 376
        },
        "id": "E07brQ0kTtOv",
        "outputId": "b7e13daa-0ddf-46fe-a9b8-8f076a7147ff"
      },
      "execution_count": 34,
      "outputs": [
        {
          "output_type": "stream",
          "name": "stderr",
          "text": [
            "/usr/local/lib/python3.7/dist-packages/numpy/core/_asarray.py:83: VisibleDeprecationWarning: Creating an ndarray from ragged nested sequences (which is a list-or-tuple of lists-or-tuples-or ndarrays with different lengths or shapes) is deprecated. If you meant to do this, you must specify 'dtype=object' when creating the ndarray\n",
            "  return array(a, dtype, copy=False, order=order)\n"
          ]
        },
        {
          "output_type": "execute_result",
          "data": {
            "text/plain": [
              "<matplotlib.axes._subplots.AxesSubplot at 0x7fb6b0bbac10>"
            ]
          },
          "metadata": {},
          "execution_count": 34
        },
        {
          "output_type": "display_data",
          "data": {
            "image/png": "[encoded data removed]",
            "text/plain": [
              "<Figure size 432x288 with 1 Axes>"
            ]
          },
          "metadata": {
            "needs_background": "light"
          }
        }
      ]
    },
    {
      "cell_type": "code",
      "source": [
        "data2.boxplot(column='MEM_score',by='KM4')"
      ],
      "metadata": {
        "colab": {
          "base_uri": "https://localhost:8080/",
          "height": 376
        },
        "id": "iI1g7LbHURBQ",
        "outputId": "53afff30-9b22-4fe8-c10a-db0cbb818c4c"
      },
      "execution_count": 35,
      "outputs": [
        {
          "output_type": "stream",
          "name": "stderr",
          "text": [
            "/usr/local/lib/python3.7/dist-packages/numpy/core/_asarray.py:83: VisibleDeprecationWarning: Creating an ndarray from ragged nested sequences (which is a list-or-tuple of lists-or-tuples-or ndarrays with different lengths or shapes) is deprecated. If you meant to do this, you must specify 'dtype=object' when creating the ndarray\n",
            "  return array(a, dtype, copy=False, order=order)\n"
          ]
        },
        {
          "output_type": "execute_result",
          "data": {
            "text/plain": [
              "<matplotlib.axes._subplots.AxesSubplot at 0x7fb6b0a7aed0>"
            ]
          },
          "metadata": {},
          "execution_count": 35
        },
        {
          "output_type": "display_data",
          "data": {
            "image/png": "[encoded data removed]",
            "text/plain": [
              "<Figure size 432x288 with 1 Axes>"
            ]
          },
          "metadata": {
            "needs_background": "light"
          }
        }
      ]
    },
    {
      "cell_type": "code",
      "source": [
        "data2.boxplot(column='MEM_score',by='ward4')"
      ],
      "metadata": {
        "colab": {
          "base_uri": "https://localhost:8080/",
          "height": 376
        },
        "id": "fCJvjhflUeB3",
        "outputId": "b36d8e67-9749-4332-9c7f-12e02461b50b"
      },
      "execution_count": 36,
      "outputs": [
        {
          "output_type": "stream",
          "name": "stderr",
          "text": [
            "/usr/local/lib/python3.7/dist-packages/numpy/core/_asarray.py:83: VisibleDeprecationWarning: Creating an ndarray from ragged nested sequences (which is a list-or-tuple of lists-or-tuples-or ndarrays with different lengths or shapes) is deprecated. If you meant to do this, you must specify 'dtype=object' when creating the ndarray\n",
            "  return array(a, dtype, copy=False, order=order)\n"
          ]
        },
        {
          "output_type": "execute_result",
          "data": {
            "text/plain": [
              "<matplotlib.axes._subplots.AxesSubplot at 0x7fb6b0789b50>"
            ]
          },
          "metadata": {},
          "execution_count": 36
        },
        {
          "output_type": "display_data",
          "data": {
            "image/png": "[encoded data removed]",
            "text/plain": [
              "<Figure size 432x288 with 1 Axes>"
            ]
          },
          "metadata": {
            "needs_background": "light"
          }
        }
      ]
    },
    {
      "cell_type": "markdown",
      "source": [
        "# PCA"
      ],
      "metadata": {
        "id": "fstT_xzUVah9"
      }
    },
    {
      "cell_type": "code",
      "source": [
        "pca_100 = PCA(n_components=100, random_state=123) # random state: reproducible results if randomization is used\n",
        "pca_100.fit(data)\n",
        "dat_pca = pca_100.transform(data)\n",
        "dat_pca.shape"
      ],
      "metadata": {
        "colab": {
          "base_uri": "https://localhost:8080/"
        },
        "id": "hH0MhXQGVcW7",
        "outputId": "20799aca-347c-452d-8be8-fe3ace86d6ad"
      },
      "execution_count": 39,
      "outputs": [
        {
          "output_type": "execute_result",
          "data": {
            "text/plain": [
              "(909, 100)"
            ]
          },
          "metadata": {},
          "execution_count": 39
        }
      ]
    },
    {
      "cell_type": "code",
      "source": [
        "print(pca_100.explained_variance_ratio_)\n",
        "\n",
        "data2['pca_one'] = dat_pca[:, 0]\n",
        "data2['pca_two'] = dat_pca[:, 1]\n",
        "\n",
        "sns.scatterplot(\n",
        "    x = \"pca_one\", y = \"pca_two\",\n",
        "    hue = \"prmdiag\",\n",
        "    data = data2,\n",
        "    palette=sns.color_palette(\"hls\", 5)\n",
        ")\n"
      ],
      "metadata": {
        "colab": {
          "base_uri": "https://localhost:8080/",
          "height": 594
        },
        "id": "sViMTnB4WCkb",
        "outputId": "76502676-ee27-438d-fa31-37afc1b8e3f7"
      },
      "execution_count": 47,
      "outputs": [
        {
          "output_type": "stream",
          "name": "stdout",
          "text": [
            "[0.04019212 0.03665724 0.02653439 0.01893469 0.01355545 0.01165155\n",
            " 0.01123989 0.01079201 0.0088242  0.00870627 0.00853092 0.00828287\n",
            " 0.00725667 0.00709671 0.00686457 0.00656483 0.00611605 0.00587594\n",
            " 0.00583618 0.00563098 0.00534348 0.00529056 0.00505693 0.00501516\n",
            " 0.00492704 0.00455451 0.00442441 0.00440546 0.00433611 0.00418835\n",
            " 0.00406545 0.00399292 0.00393117 0.00380867 0.00373579 0.00362431\n",
            " 0.00360141 0.00356422 0.00349423 0.00342938 0.00331614 0.00326646\n",
            " 0.00315496 0.00312176 0.00305466 0.00303564 0.00293045 0.0028884\n",
            " 0.00286825 0.00282306 0.00278873 0.00269519 0.00268873 0.00267268\n",
            " 0.00264494 0.00258103 0.00253542 0.00249754 0.0024925  0.00246628\n",
            " 0.00242295 0.00239958 0.00236444 0.00232815 0.00229423 0.00227716\n",
            " 0.00223949 0.00222707 0.00219902 0.00216928 0.00214477 0.00212765\n",
            " 0.00211945 0.00206938 0.00203598 0.00203516 0.00199868 0.00197172\n",
            " 0.00195976 0.00194542 0.00193584 0.00190925 0.00187969 0.00186578\n",
            " 0.00185774 0.00181798 0.0018101  0.00179774 0.00178    0.00175217\n",
            " 0.00174489 0.0017279  0.00170575 0.00169233 0.00166596 0.00164636\n",
            " 0.00162903 0.00159966 0.00159524 0.00157467]\n"
          ]
        },
        {
          "output_type": "execute_result",
          "data": {
            "text/plain": [
              "<matplotlib.axes._subplots.AxesSubplot at 0x7fb6ac2a99d0>"
            ]
          },
          "metadata": {},
          "execution_count": 47
        },
        {
          "output_type": "display_data",
          "data": {
            "image/png": "[encoded data removed]",
            "text/plain": [
              "<Figure size 432x288 with 1 Axes>"
            ]
          },
          "metadata": {}
        }
      ]
    },
    {
      "cell_type": "markdown",
      "source": [
        "# t-SNE\n",
        "On PCA results\n",
        "\n",
        "https://towardsdatascience.com/visualising-high-dimensional-datasets-using-pca-and-t-sne-in-python-8ef87e7915b\n",
        "\n",
        "https://scikit-learn.org/stable/modules/generated/sklearn.manifold.TSNE.html\n",
        "(\"It is highly recommended to use another dimensionality reduction method (e.g. PCA for dense data or TruncatedSVD for sparse data) to reduce the number of dimensions to a reasonable amount (e.g. 50) if the number of features is very high.\")"
      ],
      "metadata": {
        "id": "umS9hMG_YZQD"
      }
    },
    {
      "cell_type": "code",
      "source": [
        "tsne2 = TSNE(n_components=2, perplexity=100)\n",
        "tsne2_results = tsne2.fit_transform(dat_pca)"
      ],
      "metadata": {
        "colab": {
          "base_uri": "https://localhost:8080/"
        },
        "id": "e5geKHFiYbva",
        "outputId": "6b4f9588-c6cf-4a34-9719-e1b5b4742d11"
      },
      "execution_count": 48,
      "outputs": [
        {
          "output_type": "stream",
          "name": "stderr",
          "text": [
            "/usr/local/lib/python3.7/dist-packages/sklearn/manifold/_t_sne.py:783: FutureWarning: The default initialization in TSNE will change from 'random' to 'pca' in 1.2.\n",
            "  FutureWarning,\n",
            "/usr/local/lib/python3.7/dist-packages/sklearn/manifold/_t_sne.py:793: FutureWarning: The default learning rate in TSNE will change from 200.0 to 'auto' in 1.2.\n",
            "  FutureWarning,\n"
          ]
        }
      ]
    },
    {
      "cell_type": "code",
      "source": [
        "print(tsne2_results.shape)\n",
        "data2['tsne2_one'] = tsne2_results[:, 0]\n",
        "data2['tsne2_two'] = tsne2_results[:, 1]\n",
        "\n",
        "sns.scatterplot(\n",
        "    x = \"tsne2_one\", y = \"tsne2_two\",\n",
        "    hue = \"prmdiag\",\n",
        "    data = data2,\n",
        "    palette=sns.color_palette(\"hls\", 5)\n",
        ")"
      ],
      "metadata": {
        "colab": {
          "base_uri": "https://localhost:8080/",
          "height": 317
        },
        "id": "qh7PIb5SYuTV",
        "outputId": "6bdd1d38-d2f9-41fc-b8b5-c7b869780af9"
      },
      "execution_count": 50,
      "outputs": [
        {
          "output_type": "stream",
          "name": "stdout",
          "text": [
            "(909, 2)\n"
          ]
        },
        {
          "output_type": "execute_result",
          "data": {
            "text/plain": [
              "<matplotlib.axes._subplots.AxesSubplot at 0x7fb6a00f1850>"
            ]
          },
          "metadata": {},
          "execution_count": 50
        },
        {
          "output_type": "display_data",
          "data": {
            "image/png": "[encoded data removed]",
            "text/plain": [
              "<Figure size 432x288 with 1 Axes>"
            ]
          },
          "metadata": {}
        }
      ]
    }
  ]
}