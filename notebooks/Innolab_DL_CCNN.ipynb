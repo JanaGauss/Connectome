{
  "cells": [
    {
      "cell_type": "code",
      "execution_count": 2,
      "metadata": {
        "colab": {
          "base_uri": "https://localhost:8080/"
        },
        "id": "Y4UYbm9YPc7a",
        "outputId": "5d22b9b6-8442-43a5-d6f0-3efee5060801"
      },
      "outputs": [
        {
          "output_type": "stream",
          "name": "stdout",
          "text": [
            "Drive already mounted at /content/drive; to attempt to forcibly remount, call drive.mount(\"/content/drive\", force_remount=True).\n"
          ]
        }
      ],
      "source": [
        "from google.colab import drive\n",
        "drive.mount('/content/drive')"
      ]
    },
    {
      "cell_type": "code",
      "execution_count": 32,
      "metadata": {
        "id": "-Nxiyjq3RLHO"
      },
      "outputs": [],
      "source": [
        "import os\n",
        "import numpy as np\n",
        "import pandas as pd\n",
        "import seaborn as sns\n",
        "import matplotlib.pyplot as plt\n",
        "import h5py\n",
        "from sklearn.model_selection import train_test_split\n",
        "from math import ceil\n",
        "from typing import Union, List, Tuple, Dict\n",
        "from operator import itemgetter\n",
        "import random\n",
        "\n",
        "import torch\n",
        "from torch.utils.data import Dataset, DataLoader, random_split\n",
        "from torch import nn, Tensor\n",
        "from torch.optim import Adam\n",
        "from torchsummary import summary\n"
      ]
    },
    {
      "cell_type": "markdown",
      "metadata": {
        "id": "6H2fr4JbZyuv"
      },
      "source": [
        "### Prepare dataset"
      ]
    },
    {
      "cell_type": "code",
      "source": [
        "#load data from csv\n",
        "test = pd.read_csv(\"/content/drive/MyDrive/Colab Notebooks/Innolab/test.csv\")\n",
        "train = pd.read_csv(\"/content/drive/MyDrive/Colab Notebooks/Innolab/train.csv\")"
      ],
      "metadata": {
        "id": "ucHFEaMQ0FZ2"
      },
      "execution_count": 4,
      "outputs": []
    },
    {
      "cell_type": "code",
      "source": [
        "os.chdir(\"/content/drive/MyDrive/Colab Notebooks/Innolab\")\n",
        "import data_loader as dtl"
      ],
      "metadata": {
        "id": "scrp06hM0Zna"
      },
      "execution_count": 5,
      "outputs": []
    },
    {
      "cell_type": "code",
      "source": [
        "def preprocess_conn_matrix(df, train_data = True):\n",
        "    #create target\n",
        "    y, X = dtl.preprocess_data(df)\n",
        "    y = np.array(y, dtype=np.float32)\n",
        "\n",
        "    #drop columns\n",
        "    cols_to_drop = [\"MEM_score\", \"Apoe\", \"age\", \"sex\", \"edyears\"]\n",
        "    X.drop(columns=cols_to_drop, inplace = True)\n",
        "    \n",
        "    # if train_data:\n",
        "    #     scaler.fit_transform(X)\n",
        "    # else:\n",
        "    #     scaler.transform(X)\n",
        "\n",
        "    #turn array to matrix\n",
        "    n_c = dtl.flat_to_mat(X.iloc[0,:]).shape[0]\n",
        "    n_train = len(X)\n",
        "    X_train_2d = np.zeros(n_train*n_c*n_c).reshape(n_train,n_c,n_c)\n",
        "\n",
        "    for i in range(n_train):\n",
        "      X_train_2d[i] = dtl.flat_to_mat(X.iloc[i,:])\n",
        "\n",
        "    #reshape data\n",
        "    X_train_2d = X_train_2d.reshape(X_train_2d.shape[0], 1, X_train_2d.shape[1], X_train_2d.shape[2])\n",
        "\n",
        "    return X_train_2d, y"
      ],
      "metadata": {
        "id": "UDLFWN_K0ZkC"
      },
      "execution_count": 6,
      "outputs": []
    },
    {
      "cell_type": "code",
      "source": [
        "def data_augmentation_gaussian(X,y, scale = .17):\n",
        "    X_noise = X.copy()\n",
        "    y_noise = y.copy()\n",
        "\n",
        "    for i in range(X.shape[0]):\n",
        "        #add gaussian noise\n",
        "        noise = np.random.normal(loc = 0, scale = scale, size = (X.shape[1], X.shape[2]))\n",
        "        X_noise[i] = X[i] + np.triu(noise, k=1) + np.triu(noise, k=1).T\n",
        "\n",
        "    return np.concatenate((X, X_noise), axis = 0), np.concatenate((y, y_noise), axis = 0)"
      ],
      "metadata": {
        "id": "3ydhwmlH0Zhz"
      },
      "execution_count": 7,
      "outputs": []
    },
    {
      "cell_type": "code",
      "source": [
        "X_train, y_train = preprocess_conn_matrix(train, train_data = True)\n",
        "X_test, y_test = preprocess_conn_matrix(test, train_data = False)"
      ],
      "metadata": {
        "id": "PE1NuL6t0Zfd"
      },
      "execution_count": 8,
      "outputs": []
    },
    {
      "cell_type": "code",
      "source": [
        "X_train_aug,y_train_aug = data_augmentation_gaussian(X_train,y_train, scale = .17)"
      ],
      "metadata": {
        "id": "WbBXEPCZ6H-3"
      },
      "execution_count": 9,
      "outputs": []
    },
    {
      "cell_type": "code",
      "source": [
        "X_train_aug = torch.from_numpy(X_train_aug)\n",
        "X_train_aug.shape"
      ],
      "metadata": {
        "colab": {
          "base_uri": "https://localhost:8080/"
        },
        "id": "TySrrF702UEP",
        "outputId": "b6ef5da2-19f5-4c90-ca67-8935cee7966c"
      },
      "execution_count": 34,
      "outputs": [
        {
          "output_type": "execute_result",
          "data": {
            "text/plain": [
              "torch.Size([600, 1, 246, 246])"
            ]
          },
          "metadata": {},
          "execution_count": 34
        }
      ]
    },
    {
      "cell_type": "code",
      "source": [
        "class ConnectomeTrainDataset(Dataset):\n",
        "    def __init__(self, data, labels):\n",
        "        self.data = data\n",
        "        self.labels = labels\n",
        "\n",
        "    # The `__len__` method should return the number of samples in the dataset.\n",
        "    # This will later on be used automatically by the data loader.\n",
        "    def __len__(self) -> int:\n",
        "        return len(self.labels)\n",
        "\n",
        "    def __getitem__(self, idx):\n",
        "        return self.data[idx].float(), self.labels[idx]"
      ],
      "metadata": {
        "id": "4b9Iv29N0Zaw"
      },
      "execution_count": 46,
      "outputs": []
    },
    {
      "cell_type": "code",
      "source": [
        "class ConnectomeTestDataset(Dataset):\n",
        "    def __init__(self):\n",
        "        self.label = y_test\n",
        "        self.feature = torch.from_numpy(X_test)\n",
        "        self.n_samples = X_test.shape[0]\n",
        "\n",
        "    def __len__(self):\n",
        "        return self.n_samples\n",
        "\n",
        "    def __getitem__(self, idx):\n",
        "        return self.feature[idx].float(), self.label[idx]"
      ],
      "metadata": {
        "id": "n6sMEC-j0ZYV"
      },
      "execution_count": 42,
      "outputs": []
    },
    {
      "cell_type": "code",
      "source": [
        "shuffled_indices = list(range(len(X_train_aug)))\n",
        "random.shuffle(shuffled_indices)\n",
        "\n",
        "train_idxs = shuffled_indices[:500]\n",
        "val_idxs = shuffled_indices[500:]\n",
        "\n",
        "val_x = itemgetter(*val_idxs)(X_train_aug)\n",
        "val_y = itemgetter(*val_idxs)(y_train_aug)\n",
        "\n",
        "train_x = itemgetter(*train_idxs)(X_train_aug)\n",
        "train_y = itemgetter(*train_idxs)(y_train_aug)\n",
        "\n",
        "train_dataset = ConnectomeTrainDataset(train_x, train_y)\n",
        "val_dataset = ConnectomeTrainDataset(val_x, val_y)\n",
        "test_dataset = ConnectomeTestDataset()"
      ],
      "metadata": {
        "id": "0u2G3HhtD3I4"
      },
      "execution_count": 48,
      "outputs": []
    },
    {
      "cell_type": "code",
      "source": [
        "train_dataset[0][0]"
      ],
      "metadata": {
        "colab": {
          "base_uri": "https://localhost:8080/"
        },
        "id": "rA3JqdEd2aEk",
        "outputId": "bc2bfe84-8888-4f79-de96-e46e0bd9a863"
      },
      "execution_count": 51,
      "outputs": [
        {
          "output_type": "execute_result",
          "data": {
            "text/plain": [
              "tensor([[[ 0.0000,  0.4474,  0.3971,  ...,  0.1804, -0.2177, -0.4664],\n",
              "         [ 0.4474,  0.0000, -0.1504,  ...,  0.2086, -0.0661, -0.1469],\n",
              "         [ 0.3971, -0.1504,  0.0000,  ...,  0.0933, -0.1357, -0.0318],\n",
              "         ...,\n",
              "         [ 0.1804,  0.2086,  0.0933,  ...,  0.0000, -0.0530, -0.0451],\n",
              "         [-0.2177, -0.0661, -0.1357,  ..., -0.0530,  0.0000,  0.6008],\n",
              "         [-0.4664, -0.1469, -0.0318,  ..., -0.0451,  0.6008,  0.0000]]])"
            ]
          },
          "metadata": {},
          "execution_count": 51
        }
      ]
    },
    {
      "cell_type": "code",
      "execution_count": 52,
      "metadata": {
        "id": "DNfNbJNzllkq"
      },
      "outputs": [],
      "source": [
        "torch.save(train_dataset, '/content/drive/MyDrive/Colab Notebooks/Innolab/train.pt')\n",
        "torch.save(test_dataset, '/content/drive/MyDrive/Colab Notebooks/Innolab/test.pt')"
      ]
    },
    {
      "cell_type": "markdown",
      "metadata": {
        "id": "U5nfRLDwfazM"
      },
      "source": [
        "### Train Model"
      ]
    },
    {
      "cell_type": "code",
      "source": [
        "model = nn.Sequential(\n",
        "    nn.Conv2d(\n",
        "        in_channels=1,\n",
        "        out_channels=64,\n",
        "        kernel_size=(246, 1),\n",
        "        stride = (1,1),\n",
        "        padding = \"valid\"\n",
        "    ),\n",
        "    nn.ReLU(),\n",
        "    nn.Dropout(0.6),\n",
        "    nn.Conv2d(64,\n",
        "              128,\n",
        "              (1, 246), \n",
        "              stride = (1,1),\n",
        "              padding = \"valid\"),\n",
        "    nn.ReLU(),\n",
        "    nn.Dropout(0.6),\n",
        "    nn.Flatten(),\n",
        "    nn.Linear(128,96),\n",
        "    nn.ReLU(),\n",
        "    nn.Dropout(0.6),\n",
        "    nn.Linear(96,1),\n",
        "    nn.Sigmoid()\n",
        ")\n",
        "device = torch.device('cuda' if torch.cuda.is_available() else 'cpu')"
      ],
      "metadata": {
        "id": "buiVUjW52xhA"
      },
      "execution_count": 88,
      "outputs": []
    },
    {
      "cell_type": "code",
      "execution_count": 89,
      "metadata": {
        "colab": {
          "base_uri": "https://localhost:8080/"
        },
        "id": "QznIGLC-ZFzv",
        "outputId": "7ca37396-33fd-46aa-bb6a-7046cd42139b"
      },
      "outputs": [
        {
          "output_type": "execute_result",
          "data": {
            "text/plain": [
              "Sequential(\n",
              "  (0): Conv2d(1, 64, kernel_size=(246, 1), stride=(1, 1), padding=valid)\n",
              "  (1): ReLU()\n",
              "  (2): Dropout(p=0.6, inplace=False)\n",
              "  (3): Conv2d(64, 128, kernel_size=(1, 246), stride=(1, 1), padding=valid)\n",
              "  (4): ReLU()\n",
              "  (5): Dropout(p=0.6, inplace=False)\n",
              "  (6): Flatten(start_dim=1, end_dim=-1)\n",
              "  (7): Linear(in_features=128, out_features=96, bias=True)\n",
              "  (8): ReLU()\n",
              "  (9): Dropout(p=0.6, inplace=False)\n",
              "  (10): Linear(in_features=96, out_features=1, bias=True)\n",
              "  (11): Sigmoid()\n",
              ")"
            ]
          },
          "metadata": {},
          "execution_count": 89
        }
      ],
      "source": [
        "model.to(device)"
      ]
    },
    {
      "cell_type": "code",
      "execution_count": 90,
      "metadata": {
        "colab": {
          "base_uri": "https://localhost:8080/"
        },
        "id": "XOeeDNV1ZFxN",
        "outputId": "5731b3bc-48c0-476c-88aa-bfec299adc13"
      },
      "outputs": [
        {
          "output_type": "stream",
          "name": "stdout",
          "text": [
            "----------------------------------------------------------------\n",
            "        Layer (type)               Output Shape         Param #\n",
            "================================================================\n",
            "            Conv2d-1           [-1, 64, 1, 246]          15,808\n",
            "              ReLU-2           [-1, 64, 1, 246]               0\n",
            "           Dropout-3           [-1, 64, 1, 246]               0\n",
            "            Conv2d-4            [-1, 128, 1, 1]       2,015,360\n",
            "              ReLU-5            [-1, 128, 1, 1]               0\n",
            "           Dropout-6            [-1, 128, 1, 1]               0\n",
            "           Flatten-7                  [-1, 128]               0\n",
            "            Linear-8                   [-1, 96]          12,384\n",
            "              ReLU-9                   [-1, 96]               0\n",
            "          Dropout-10                   [-1, 96]               0\n",
            "           Linear-11                    [-1, 1]              97\n",
            "          Sigmoid-12                    [-1, 1]               0\n",
            "================================================================\n",
            "Total params: 2,043,649\n",
            "Trainable params: 2,043,649\n",
            "Non-trainable params: 0\n",
            "----------------------------------------------------------------\n",
            "Input size (MB): 0.23\n",
            "Forward/backward pass size (MB): 0.37\n",
            "Params size (MB): 7.80\n",
            "Estimated Total Size (MB): 8.39\n",
            "----------------------------------------------------------------\n"
          ]
        }
      ],
      "source": [
        "summary(model, input_size=(1, 246, 246), device=str(device))"
      ]
    },
    {
      "cell_type": "markdown",
      "metadata": {
        "id": "nl0hlsQRfm6p"
      },
      "source": [
        "##### Model Parameters"
      ]
    },
    {
      "cell_type": "code",
      "execution_count": 91,
      "metadata": {
        "id": "p0lTwbpEZFo1"
      },
      "outputs": [],
      "source": [
        "loss = (\n",
        "    nn.BCELoss()\n",
        ")\n",
        "\n",
        "optimizer = (\n",
        "    Adam(model.parameters(), weight_decay= 0.01)\n",
        ")\n",
        "\n",
        "def get_accuracy(prediction: Tensor, target: Tensor) -> float:\n",
        "    return float(torch.sum(((prediction > 0.5) == target).float()) / len(prediction))"
      ]
    },
    {
      "cell_type": "code",
      "execution_count": 92,
      "metadata": {
        "id": "2Iywlsh6TpDx"
      },
      "outputs": [],
      "source": [
        "epochs = 50\n",
        "batch_size = 8\n",
        "num_workers = 4\n",
        "\n",
        "max_batches = ceil(len(train_dataset) / batch_size)"
      ]
    },
    {
      "cell_type": "code",
      "execution_count": 93,
      "metadata": {
        "colab": {
          "base_uri": "https://localhost:8080/"
        },
        "id": "DEBg7EJpYR5l",
        "outputId": "40aef942-0178-4444-affa-9cfe60158482"
      },
      "outputs": [
        {
          "output_type": "stream",
          "name": "stdout",
          "text": [
            ""
          ]
        }
      ],
      "source": [
        "def train(\n",
        "    model: nn.Module,\n",
        "    loss: nn.Module,\n",
        "    optimizer: torch.optim.Optimizer,\n",
        "    train_dataset: Dataset,\n",
        "    val_dataset: Dataset,\n",
        "    batch_size: int,\n",
        "    epochs: int,\n",
        "    early_stopping: bool = False,\n",
        "    patience: int = 2,\n",
        ") -> Dict:\n",
        "\n",
        "    # Define a dict with room for metrics that will be populated during training.\n",
        "    metrics: Dict = {\n",
        "        'train_loss': [],\n",
        "        'train_acc': [],\n",
        "        'val_loss': [],\n",
        "        'val_acc': [],\n",
        "    }\n",
        "\n",
        "    # Track how often in a row no improvements happen\n",
        "    early_stopping_strikes = 0\n",
        "\n",
        "    # The loader allows to shuffle the training data on the fly.\n",
        "    train_loader = DataLoader(train_dataset, batch_size=batch_size, shuffle=True)\n",
        "    val_loader = DataLoader(val_dataset, batch_size=batch_size)\n",
        "\n",
        "    for ep in range(1, epochs + 1):\n",
        "\n",
        "        batch_losses = []\n",
        "        predictions = []\n",
        "        targets = []\n",
        "\n",
        "        for batch_idx, (x, y) in enumerate(train_loader):\n",
        "            model.train()\n",
        "            # Push tensors to device\n",
        "            x = x.to(device)\n",
        "            y = y.to(device)\n",
        "\n",
        "            y_hat = model(x).squeeze()\n",
        "            batch_loss = loss(y_hat ,y)\n",
        "            #set gradients to zero\n",
        "            optimizer.zero_grad()\n",
        "            #backpropagte the error\n",
        "            batch_loss.backward()\n",
        "            #apply gradients\n",
        "            optimizer.step()\n",
        "\n",
        "            ####################################################\n",
        "            batch_losses.append(batch_loss)\n",
        "            predictions.append(y_hat.detach())\n",
        "            targets.append(y)\n",
        "\n",
        "        ep_train_loss = float(torch.mean(torch.stack(batch_losses)))\n",
        "        ep_train_acc = get_accuracy(torch.cat(predictions), torch.cat(targets))\n",
        "\n",
        "        batch_losses.clear()\n",
        "        predictions.clear()\n",
        "        targets.clear()\n",
        "\n",
        "\n",
        "        for batch_idx, (x,y) in enumerate(val_loader):\n",
        "            model.eval()\n",
        "\n",
        "            # Push tensors to device\n",
        "            x = x.to(device)\n",
        "            y = y.to(device)\n",
        "\n",
        "            with torch.no_grad():\n",
        "                # Forward pass through the model\n",
        "                y_hat = model(x).squeeze()\n",
        "                # Obtain the loss\n",
        "                batch_loss = loss(y_hat, y)\n",
        "            batch_losses.append(batch_loss)\n",
        "            predictions.append(y_hat.detach())\n",
        "            targets.append(y)\n",
        "\n",
        "        ep_val_loss = float(torch.mean(torch.stack(batch_losses)))\n",
        "        ep_val_acc = get_accuracy(torch.cat(predictions), torch.cat(targets))\n",
        "        metrics['train_loss'].append(ep_train_loss)\n",
        "        metrics['train_acc'].append(ep_train_acc)\n",
        "        metrics['val_loss'].append(ep_val_loss)\n",
        "        metrics['val_acc'].append(ep_val_acc)\n",
        "        \n",
        "        print('EPOCH:\\t{:5}\\tTRAIN LOSS:\\t{:.3f}\\tTRAIN ACCURACY:\\t{:.2f}'\n",
        "              '\\tVAL LOSS:\\t {:.5f}\\tVAL ACCURACY:\\t {:.2f}'\n",
        "              .format(ep, ep_train_loss, ep_train_acc, ep_val_loss, ep_val_acc), end='\\r')\n",
        "        \n",
        "        ###############################################################\n",
        "        # EARLY STOPPING\n",
        "        ###############################################################\n",
        "        if early_stopping and ep > 1:\n",
        "            if metrics['val_loss'][-2] <= metrics['val_loss'][-1]:\n",
        "                early_stopping_strikes += 1\n",
        "            else:\n",
        "                early_stopping_strikes = 0\n",
        "\n",
        "            if early_stopping_strikes >= patience:\n",
        "                break\n",
        "\n",
        "    return metrics\n",
        "\n",
        "metrics = train(\n",
        "    model=model,\n",
        "    loss=loss,\n",
        "    optimizer=optimizer,\n",
        "    train_dataset=train_dataset,\n",
        "    val_dataset=val_dataset,\n",
        "    epochs=epochs,\n",
        "    batch_size=batch_size,\n",
        "    early_stopping=True,\n",
        "    patience=5\n",
        ")"
      ]
    },
    {
      "cell_type": "code",
      "source": [
        "def get_training_progress_plot(\n",
        "        train_losses: List[float],\n",
        "        train_accs: List[float],\n",
        "        val_losses: List[float],\n",
        "        val_accs: List[float],\n",
        ") -> None:\n",
        "    fig, (ax1, ax2) = plt.subplots(1, 2, figsize=(7, 2))\n",
        "\n",
        "    ax1.set_title('Loss')\n",
        "    ax1.plot(train_losses, label='Train Loss')\n",
        "    ax1.plot(val_losses, label='Val Loss')\n",
        "    ax1.legend()\n",
        "\n",
        "    ax2.set_title('Accuracy')\n",
        "    ax2.plot(train_accs, label='Train Accuracy')\n",
        "    ax2.plot(val_accs, label='Val Accuracy')\n",
        "    ax2.legend()\n",
        "\n",
        "get_training_progress_plot(\n",
        "    metrics['train_loss'],\n",
        "    metrics['train_acc'],\n",
        "    metrics['val_loss'],\n",
        "    metrics['val_acc'],\n",
        ")"
      ],
      "metadata": {
        "colab": {
          "base_uri": "https://localhost:8080/",
          "height": 173
        },
        "id": "ygy0Mf8b-oq-",
        "outputId": "3567f6ae-40dd-45ac-cd81-a1cd1f6b5c01"
      },
      "execution_count": 94,
      "outputs": [
        {
          "output_type": "display_data",
          "data": {
            "image/png": "[encoded data removed]",
            "text/plain": [
              "<Figure size 504x144 with 2 Axes>"
            ]
          },
          "metadata": {
            "needs_background": "light"
          }
        }
      ]
    },
    {
      "cell_type": "code",
      "source": [
        ""
      ],
      "metadata": {
        "id": "X54m4S4h-ond"
      },
      "execution_count": null,
      "outputs": []
    },
    {
      "cell_type": "code",
      "source": [
        "\n",
        "def evaluate(model: nn.Module, test_dataset: Dataset, batch_size: int = 512) -> Dict:\n",
        "    batch_losses: List = []\n",
        "    predictions: List = []\n",
        "    targets: List = []\n",
        "\n",
        "    for x, y in DataLoader(test_dataset, batch_size):\n",
        "        model.eval()\n",
        "\n",
        "        # Push tensors to device\n",
        "        x = x.to(device)\n",
        "        y = y.to(device)\n",
        "\n",
        "        with torch.no_grad():\n",
        "            y_hat = model(x).squeeze()\n",
        "            batch_loss = loss(y_hat, y)\n",
        "\n",
        "        ############################################\n",
        "\n",
        "        batch_losses.append(batch_loss)\n",
        "        predictions.append(y_hat.detach())\n",
        "        targets.append(y)\n",
        "\n",
        "    eval_loss = float(torch.mean(torch.stack(batch_losses)))\n",
        "    eval_acc = get_accuracy(torch.cat(predictions), torch.cat(targets))\n",
        "\n",
        "    return {'test_loss': eval_loss, 'test_acc': eval_acc}\n",
        "\n",
        "eval_metrics = evaluate(model, test_dataset)\n",
        "print(eval_metrics)"
      ],
      "metadata": {
        "colab": {
          "base_uri": "https://localhost:8080/"
        },
        "id": "VZKL6j0m-olK",
        "outputId": "1185f87a-0841-44f8-ca73-5495687ec4a6"
      },
      "execution_count": 96,
      "outputs": [
        {
          "output_type": "stream",
          "name": "stdout",
          "text": [
            "{'test_loss': 1.1178381443023682, 'test_acc': 0.602739691734314}\n"
          ]
        }
      ]
    },
    {
      "cell_type": "code",
      "source": [
        ""
      ],
      "metadata": {
        "id": "1UJhu024-oi4"
      },
      "execution_count": null,
      "outputs": []
    },
    {
      "cell_type": "code",
      "source": [
        ""
      ],
      "metadata": {
        "id": "1t6HRgXc-ogh"
      },
      "execution_count": null,
      "outputs": []
    },
    {
      "cell_type": "code",
      "execution_count": null,
      "metadata": {
        "colab": {
          "base_uri": "https://localhost:8080/"
        },
        "id": "LAILRBiLUy84",
        "outputId": "f799f9f2-a46e-43b8-ae8e-1d9c77463081"
      },
      "outputs": [
        {
          "name": "stderr",
          "output_type": "stream",
          "text": [
            "/usr/local/lib/python3.7/dist-packages/torch/utils/data/dataloader.py:481: UserWarning: This DataLoader will create 4 worker processes in total. Our suggested max number of worker in current system is 2, which is smaller than what this DataLoader is going to create. Please be aware that excessive worker creation might get DataLoader running slow or even freeze, lower the worker number to avoid potential slowness/freeze if necessary.\n",
            "  cpuset_checked))\n"
          ]
        },
        {
          "name": "stdout",
          "output_type": "stream",
          "text": [
            "EVALUATION LOSS:\t0.069\tEVALUATION: ACCURACY:\t0.769\n"
          ]
        }
      ],
      "source": [
        "test_loader = DataLoader(\n",
        "    dataset=test_dataset,\n",
        "    batch_size=1024,\n",
        "    num_workers=4,\n",
        ")\n",
        "\n",
        "total_loss = 0\n",
        "num_correct = 0\n",
        "\n",
        "for batch_idx, (x, y) in enumerate(train_loader):\n",
        "    # Push tensors to device\n",
        "    x = x.to(device)\n",
        "    y = y.to(device)\n",
        "\n",
        "    with torch.no_grad():\n",
        "      y_hat = model(x).squeeze()\n",
        "      batch_loss = loss(y_hat,y)\n",
        "\n",
        "    total_loss += float(batch_loss)\n",
        "    num_correct += int(torch.sum(torch.round(y_hat) == y))\n",
        "\n",
        "print('EVALUATION LOSS:\\t{:.3f}\\tEVALUATION: ACCURACY:\\t{:.3f}'\n",
        "          .format(total_loss / len(train_dataset), num_correct / len(train_dataset),\n",
        "                  end='\\r'))"
      ]
    },
    {
      "cell_type": "code",
      "execution_count": null,
      "metadata": {
        "id": "04FdTjXTgmdJ"
      },
      "outputs": [],
      "source": [
        ""
      ]
    },
    {
      "cell_type": "code",
      "execution_count": null,
      "metadata": {
        "id": "5ItehqvkqjII"
      },
      "outputs": [],
      "source": [
        ""
      ]
    }
  ],
  "metadata": {
    "accelerator": "GPU",
    "colab": {
      "name": "Innolab DL CCNN.ipynb",
      "provenance": []
    },
    "kernelspec": {
      "display_name": "Python 3",
      "language": "python",
      "name": "python3"
    },
    "language_info": {
      "codemirror_mode": {
        "name": "ipython",
        "version": 3
      },
      "file_extension": ".py",
      "mimetype": "text/x-python",
      "name": "python",
      "nbconvert_exporter": "python",
      "pygments_lexer": "ipython3",
      "version": "3.7.6"
    }
  },
  "nbformat": 4,
  "nbformat_minor": 0
}